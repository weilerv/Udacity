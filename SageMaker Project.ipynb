{
 "cells": [
  {
   "cell_type": "markdown",
   "metadata": {},
   "source": [
    "# Creating a Sentiment Analysis Web App\n",
    "## Using PyTorch and SageMaker\n",
    "\n",
    "_Deep Learning Nanodegree Program | Deployment_\n",
    "\n",
    "---\n",
    "\n",
    "Now that we have a basic understanding of how SageMaker works we will try to use it to construct a complete project from end to end. Our goal will be to have a simple web page which a user can use to enter a movie review. The web page will then send the review off to our deployed model which will predict the sentiment of the entered review.\n",
    "\n",
    "## Instructions\n",
    "\n",
    "Some template code has already been provided for you, and you will need to implement additional functionality to successfully complete this notebook. You will not need to modify the included code beyond what is requested. Sections that begin with '**TODO**' in the header indicate that you need to complete or implement some portion within them. Instructions will be provided for each section and the specifics of the implementation are marked in the code block with a `# TODO: ...` comment. Please be sure to read the instructions carefully!\n",
    "\n",
    "In addition to implementing code, there will be questions for you to answer which relate to the task and your implementation. Each section where you will answer a question is preceded by a '**Question:**' header. Carefully read each question and provide your answer below the '**Answer:**' header by editing the Markdown cell.\n",
    "\n",
    "> **Note**: Code and Markdown cells can be executed using the **Shift+Enter** keyboard shortcut. In addition, a cell can be edited by typically clicking it (double-click for Markdown cells) or by pressing **Enter** while it is highlighted.\n",
    "\n",
    "## General Outline\n",
    "\n",
    "Recall the general outline for SageMaker projects using a notebook instance.\n",
    "\n",
    "1. Download or otherwise retrieve the data.\n",
    "2. Process / Prepare the data.\n",
    "3. Upload the processed data to S3.\n",
    "4. Train a chosen model.\n",
    "5. Test the trained model (typically using a batch transform job).\n",
    "6. Deploy the trained model.\n",
    "7. Use the deployed model.\n",
    "\n",
    "For this project, you will be following the steps in the general outline with some modifications. \n",
    "\n",
    "First, you will not be testing the model in its own step. You will still be testing the model, however, you will do it by deploying your model and then using the deployed model by sending the test data to it. One of the reasons for doing this is so that you can make sure that your deployed model is working correctly before moving forward.\n",
    "\n",
    "In addition, you will deploy and use your trained model a second time. In the second iteration you will customize the way that your trained model is deployed by including some of your own code. In addition, your newly deployed model will be used in the sentiment analysis web app."
   ]
  },
  {
   "cell_type": "code",
   "execution_count": 1,
   "metadata": {},
   "outputs": [
    {
     "name": "stdout",
     "output_type": "stream",
     "text": [
      "Looking in indexes: https://pypi.org/simple, https://pip.repos.neuron.amazonaws.com\n",
      "Collecting sagemaker==1.72.0\n",
      "  Downloading sagemaker-1.72.0.tar.gz (297 kB)\n",
      "\u001b[2K     \u001b[90m━━━━━━━━━━━━━━━━━━━━━━━━━━━━━━━━━━━━━━\u001b[0m \u001b[32m297.3/297.3 KB\u001b[0m \u001b[31m27.1 MB/s\u001b[0m eta \u001b[36m0:00:00\u001b[0m\n",
      "\u001b[?25h  Preparing metadata (setup.py) ... \u001b[?25ldone\n",
      "\u001b[?25hRequirement already satisfied: boto3>=1.14.12 in /home/ec2-user/anaconda3/envs/pytorch_p38/lib/python3.8/site-packages (from sagemaker==1.72.0) (1.26.35)\n",
      "Requirement already satisfied: numpy>=1.9.0 in /home/ec2-user/anaconda3/envs/pytorch_p38/lib/python3.8/site-packages (from sagemaker==1.72.0) (1.21.2)\n",
      "Requirement already satisfied: protobuf>=3.1 in /home/ec2-user/anaconda3/envs/pytorch_p38/lib/python3.8/site-packages (from sagemaker==1.72.0) (3.19.4)\n",
      "Requirement already satisfied: scipy>=0.19.0 in /home/ec2-user/anaconda3/envs/pytorch_p38/lib/python3.8/site-packages (from sagemaker==1.72.0) (1.7.2)\n",
      "Requirement already satisfied: protobuf3-to-dict>=0.1.5 in /home/ec2-user/anaconda3/envs/pytorch_p38/lib/python3.8/site-packages (from sagemaker==1.72.0) (0.1.5)\n",
      "Collecting smdebug-rulesconfig==0.1.4\n",
      "  Downloading smdebug_rulesconfig-0.1.4-py2.py3-none-any.whl (10 kB)\n",
      "Requirement already satisfied: importlib-metadata>=1.4.0 in /home/ec2-user/anaconda3/envs/pytorch_p38/lib/python3.8/site-packages (from sagemaker==1.72.0) (4.8.2)\n",
      "Requirement already satisfied: packaging>=20.0 in /home/ec2-user/anaconda3/envs/pytorch_p38/lib/python3.8/site-packages (from sagemaker==1.72.0) (21.3)\n",
      "Requirement already satisfied: jmespath<2.0.0,>=0.7.1 in /home/ec2-user/anaconda3/envs/pytorch_p38/lib/python3.8/site-packages (from boto3>=1.14.12->sagemaker==1.72.0) (0.10.0)\n",
      "Collecting botocore<1.30.0,>=1.29.35\n",
      "  Downloading botocore-1.29.39-py3-none-any.whl (10.3 MB)\n",
      "\u001b[2K     \u001b[90m━━━━━━━━━━━━━━━━━━━━━━━━━━━━━━━━━━━━━━━━\u001b[0m \u001b[32m10.3/10.3 MB\u001b[0m \u001b[31m79.7 MB/s\u001b[0m eta \u001b[36m0:00:00\u001b[0m00:01\u001b[0m00:01\u001b[0m\n",
      "\u001b[?25hRequirement already satisfied: s3transfer<0.7.0,>=0.6.0 in /home/ec2-user/anaconda3/envs/pytorch_p38/lib/python3.8/site-packages (from boto3>=1.14.12->sagemaker==1.72.0) (0.6.0)\n",
      "Requirement already satisfied: zipp>=0.5 in /home/ec2-user/anaconda3/envs/pytorch_p38/lib/python3.8/site-packages (from importlib-metadata>=1.4.0->sagemaker==1.72.0) (3.6.0)\n",
      "Requirement already satisfied: pyparsing!=3.0.5,>=2.0.2 in /home/ec2-user/anaconda3/envs/pytorch_p38/lib/python3.8/site-packages (from packaging>=20.0->sagemaker==1.72.0) (3.0.6)\n",
      "Requirement already satisfied: six in /home/ec2-user/anaconda3/envs/pytorch_p38/lib/python3.8/site-packages (from protobuf3-to-dict>=0.1.5->sagemaker==1.72.0) (1.16.0)\n",
      "Requirement already satisfied: urllib3<1.27,>=1.25.4 in /home/ec2-user/anaconda3/envs/pytorch_p38/lib/python3.8/site-packages (from botocore<1.30.0,>=1.29.35->boto3>=1.14.12->sagemaker==1.72.0) (1.26.8)\n",
      "Requirement already satisfied: python-dateutil<3.0.0,>=2.1 in /home/ec2-user/anaconda3/envs/pytorch_p38/lib/python3.8/site-packages (from botocore<1.30.0,>=1.29.35->boto3>=1.14.12->sagemaker==1.72.0) (2.8.2)\n",
      "Building wheels for collected packages: sagemaker\n",
      "  Building wheel for sagemaker (setup.py) ... \u001b[?25ldone\n",
      "\u001b[?25h  Created wheel for sagemaker: filename=sagemaker-1.72.0-py2.py3-none-any.whl size=386379 sha256=cd9ecd7720ecf4447310f203c26646048084b9fa5e649ad122f6f0c121bebe57\n",
      "  Stored in directory: /home/ec2-user/.cache/pip/wheels/86/0e/1f/7c255f46c88da77dc4d0145188d39efda49e7e69fa9d320edf\n",
      "Successfully built sagemaker\n",
      "Installing collected packages: smdebug-rulesconfig, botocore, sagemaker\n",
      "  Attempting uninstall: smdebug-rulesconfig\n",
      "    Found existing installation: smdebug-rulesconfig 1.0.1\n",
      "    Uninstalling smdebug-rulesconfig-1.0.1:\n",
      "      Successfully uninstalled smdebug-rulesconfig-1.0.1\n",
      "  Attempting uninstall: botocore\n",
      "    Found existing installation: botocore 1.24.19\n",
      "    Uninstalling botocore-1.24.19:\n",
      "      Successfully uninstalled botocore-1.24.19\n",
      "  Attempting uninstall: sagemaker\n",
      "    Found existing installation: sagemaker 2.125.0\n",
      "    Uninstalling sagemaker-2.125.0:\n",
      "      Successfully uninstalled sagemaker-2.125.0\n",
      "\u001b[31mERROR: pip's dependency resolver does not currently take into account all the packages that are installed. This behaviour is the source of the following dependency conflicts.\n",
      "awscli 1.27.35 requires botocore==1.29.35, but you have botocore 1.29.39 which is incompatible.\n",
      "aiobotocore 2.0.1 requires botocore<1.22.9,>=1.22.8, but you have botocore 1.29.39 which is incompatible.\u001b[0m\u001b[31m\n",
      "\u001b[0mSuccessfully installed botocore-1.29.39 sagemaker-1.72.0 smdebug-rulesconfig-0.1.4\n",
      "\u001b[33mWARNING: You are using pip version 22.0.4; however, version 22.3.1 is available.\n",
      "You should consider upgrading via the '/home/ec2-user/anaconda3/envs/pytorch_p38/bin/python -m pip install --upgrade pip' command.\u001b[0m\u001b[33m\n",
      "\u001b[0m"
     ]
    }
   ],
   "source": [
    "# Make sure that we use SageMaker 1.x\n",
    "!pip install sagemaker==1.72.0"
   ]
  },
  {
   "cell_type": "markdown",
   "metadata": {},
   "source": [
    "## Step 1: Downloading the data\n",
    "\n",
    "As in the XGBoost in SageMaker notebook, we will be using the [IMDb dataset](http://ai.stanford.edu/~amaas/data/sentiment/)\n",
    "\n",
    "> Maas, Andrew L., et al. [Learning Word Vectors for Sentiment Analysis](http://ai.stanford.edu/~amaas/data/sentiment/). In _Proceedings of the 49th Annual Meeting of the Association for Computational Linguistics: Human Language Technologies_. Association for Computational Linguistics, 2011."
   ]
  },
  {
   "cell_type": "code",
   "execution_count": 2,
   "metadata": {},
   "outputs": [
    {
     "name": "stdout",
     "output_type": "stream",
     "text": [
      "--2022-12-29 11:40:13--  http://ai.stanford.edu/~amaas/data/sentiment/aclImdb_v1.tar.gz\n",
      "Resolving ai.stanford.edu (ai.stanford.edu)... 171.64.68.10\n",
      "Connecting to ai.stanford.edu (ai.stanford.edu)|171.64.68.10|:80... connected.\n",
      "HTTP request sent, awaiting response... 200 OK\n",
      "Length: 84125825 (80M) [application/x-gzip]\n",
      "Saving to: ‘../data/aclImdb_v1.tar.gz’\n",
      "\n",
      "100%[======================================>] 84,125,825  22.4MB/s   in 5.1s   \n",
      "\n",
      "2022-12-29 11:40:19 (15.8 MB/s) - ‘../data/aclImdb_v1.tar.gz’ saved [84125825/84125825]\n",
      "\n"
     ]
    }
   ],
   "source": [
    "%mkdir ../data\n",
    "!wget -O ../data/aclImdb_v1.tar.gz http://ai.stanford.edu/~amaas/data/sentiment/aclImdb_v1.tar.gz\n",
    "!tar -zxf ../data/aclImdb_v1.tar.gz -C ../data"
   ]
  },
  {
   "cell_type": "markdown",
   "metadata": {},
   "source": [
    "## Step 2: Preparing and Processing the data\n",
    "\n",
    "Also, as in the XGBoost notebook, we will be doing some initial data processing. The first few steps are the same as in the XGBoost example. To begin with, we will read in each of the reviews and combine them into a single input structure. Then, we will split the dataset into a training set and a testing set."
   ]
  },
  {
   "cell_type": "code",
   "execution_count": 30,
   "metadata": {},
   "outputs": [],
   "source": [
    "import os\n",
    "import glob\n",
    "\n",
    "def read_imdb_data(data_dir='../data/aclImdb'):\n",
    "    data = {}\n",
    "    labels = {}\n",
    "    \n",
    "    for data_type in ['train', 'test']:\n",
    "        data[data_type] = {}\n",
    "        labels[data_type] = {}\n",
    "        \n",
    "        for sentiment in ['pos', 'neg']:\n",
    "            data[data_type][sentiment] = []\n",
    "            labels[data_type][sentiment] = []\n",
    "            \n",
    "            path = os.path.join(data_dir, data_type, sentiment, '*.txt')\n",
    "            files = glob.glob(path)\n",
    "            \n",
    "            for f in files:\n",
    "                with open(f) as review:\n",
    "                    data[data_type][sentiment].append(review.read())\n",
    "                    # Here we represent a positive review by '1' and a negative review by '0'\n",
    "                    labels[data_type][sentiment].append(1 if sentiment == 'pos' else 0)\n",
    "                    \n",
    "            assert len(data[data_type][sentiment]) == len(labels[data_type][sentiment]), \\\n",
    "                    \"{}/{} data size does not match labels size\".format(data_type, sentiment)\n",
    "                \n",
    "    return data, labels"
   ]
  },
  {
   "cell_type": "code",
   "execution_count": 31,
   "metadata": {},
   "outputs": [
    {
     "name": "stdout",
     "output_type": "stream",
     "text": [
      "IMDB reviews: train = 12500 pos / 12500 neg, test = 12500 pos / 12500 neg\n"
     ]
    }
   ],
   "source": [
    "data, labels = read_imdb_data()\n",
    "print(\"IMDB reviews: train = {} pos / {} neg, test = {} pos / {} neg\".format(\n",
    "            len(data['train']['pos']), len(data['train']['neg']),\n",
    "            len(data['test']['pos']), len(data['test']['neg'])))"
   ]
  },
  {
   "cell_type": "markdown",
   "metadata": {},
   "source": [
    "Now that we've read the raw training and testing data from the downloaded dataset, we will combine the positive and negative reviews and shuffle the resulting records."
   ]
  },
  {
   "cell_type": "code",
   "execution_count": 32,
   "metadata": {},
   "outputs": [],
   "source": [
    "from sklearn.utils import shuffle\n",
    "\n",
    "def prepare_imdb_data(data, labels):\n",
    "    \"\"\"Prepare training and test sets from IMDb movie reviews.\"\"\"\n",
    "    \n",
    "    #Combine positive and negative reviews and labels\n",
    "    data_train = data['train']['pos'] + data['train']['neg']\n",
    "    data_test = data['test']['pos'] + data['test']['neg']\n",
    "    labels_train = labels['train']['pos'] + labels['train']['neg']\n",
    "    labels_test = labels['test']['pos'] + labels['test']['neg']\n",
    "    \n",
    "    #Shuffle reviews and corresponding labels within training and test sets\n",
    "    data_train, labels_train = shuffle(data_train, labels_train)\n",
    "    data_test, labels_test = shuffle(data_test, labels_test)\n",
    "    \n",
    "    # Return a unified training data, test data, training labels, test labets\n",
    "    return data_train, data_test, labels_train, labels_test"
   ]
  },
  {
   "cell_type": "code",
   "execution_count": 33,
   "metadata": {},
   "outputs": [
    {
     "name": "stdout",
     "output_type": "stream",
     "text": [
      "IMDb reviews (combined): train = 25000, test = 25000\n"
     ]
    }
   ],
   "source": [
    "train_X, test_X, train_y, test_y = prepare_imdb_data(data, labels)\n",
    "print(\"IMDb reviews (combined): train = {}, test = {}\".format(len(train_X), len(test_X)))"
   ]
  },
  {
   "cell_type": "markdown",
   "metadata": {},
   "source": [
    "Now that we have our training and testing sets unified and prepared, we should do a quick check and see an example of the data our model will be trained on. This is generally a good idea as it allows you to see how each of the further processing steps affects the reviews and it also ensures that the data has been loaded correctly."
   ]
  },
  {
   "cell_type": "code",
   "execution_count": 34,
   "metadata": {},
   "outputs": [
    {
     "name": "stdout",
     "output_type": "stream",
     "text": [
      "Of all the reviews I've read, most people have been exceedingly hard on Alexandre. Neither Marie or Veronika ever seemed that they would particularly desperate to keep Alexandre, he being only slightly intelligent though not at all intellectual, as most of us are, however hard it may be for anyone to admit. Alexandre is getting away with life perfectly, being totally taken care of, getting and giving what he wants. the girls are allowing this, veronika loves sex, marie is his patron. is there anything wrong with any of this? is anyone in love? really? i don't think so. Though French New Wave cinema is prone to pretension and so on, it is marvelous simply because of its lack of a need for a plot in order to create emotion. Ease is perfectly lovely and all anyone in Alexandre's position, in an urban area can ask for. I'm looking for a patron, anyone interested?\n",
      "1\n"
     ]
    }
   ],
   "source": [
    "print(train_X[100])\n",
    "print(train_y[100])"
   ]
  },
  {
   "cell_type": "markdown",
   "metadata": {},
   "source": [
    "The first step in processing the reviews is to make sure that any html tags that appear should be removed. In addition we wish to tokenize our input, that way words such as *entertained* and *entertaining* are considered the same with regard to sentiment analysis."
   ]
  },
  {
   "cell_type": "code",
   "execution_count": 35,
   "metadata": {},
   "outputs": [],
   "source": [
    "import nltk\n",
    "from nltk.corpus import stopwords\n",
    "from nltk.stem.porter import *\n",
    "\n",
    "import re\n",
    "from bs4 import BeautifulSoup\n",
    "\n",
    "def review_to_words(review):\n",
    "    nltk.download(\"stopwords\", quiet=True)\n",
    "    stemmer = PorterStemmer()\n",
    "    \n",
    "    text = BeautifulSoup(review, \"html.parser\").get_text() # Remove HTML tags\n",
    "    text = re.sub(r\"[^a-zA-Z0-9]\", \" \", text.lower()) # Convert to lower case\n",
    "    words = text.split() # Split string into words\n",
    "    words = [w for w in words if w not in stopwords.words(\"english\")] # Remove stopwords\n",
    "    words = [PorterStemmer().stem(w) for w in words] # stem\n",
    "    \n",
    "    return words"
   ]
  },
  {
   "cell_type": "markdown",
   "metadata": {},
   "source": [
    "The `review_to_words` method defined above uses `BeautifulSoup` to remove any html tags that appear and uses the `nltk` package to tokenize the reviews. As a check to ensure we know how everything is working, try applying `review_to_words` to one of the reviews in the training set."
   ]
  },
  {
   "cell_type": "code",
   "execution_count": 36,
   "metadata": {},
   "outputs": [
    {
     "data": {
      "text/plain": [
       "['review',\n",
       " 'read',\n",
       " 'peopl',\n",
       " 'exceedingli',\n",
       " 'hard',\n",
       " 'alexandr',\n",
       " 'neither',\n",
       " 'mari',\n",
       " 'veronika',\n",
       " 'ever',\n",
       " 'seem',\n",
       " 'would',\n",
       " 'particularli',\n",
       " 'desper',\n",
       " 'keep',\n",
       " 'alexandr',\n",
       " 'slightli',\n",
       " 'intellig',\n",
       " 'though',\n",
       " 'intellectu',\n",
       " 'us',\n",
       " 'howev',\n",
       " 'hard',\n",
       " 'may',\n",
       " 'anyon',\n",
       " 'admit',\n",
       " 'alexandr',\n",
       " 'get',\n",
       " 'away',\n",
       " 'life',\n",
       " 'perfectli',\n",
       " 'total',\n",
       " 'taken',\n",
       " 'care',\n",
       " 'get',\n",
       " 'give',\n",
       " 'want',\n",
       " 'girl',\n",
       " 'allow',\n",
       " 'veronika',\n",
       " 'love',\n",
       " 'sex',\n",
       " 'mari',\n",
       " 'patron',\n",
       " 'anyth',\n",
       " 'wrong',\n",
       " 'anyon',\n",
       " 'love',\n",
       " 'realli',\n",
       " 'think',\n",
       " 'though',\n",
       " 'french',\n",
       " 'new',\n",
       " 'wave',\n",
       " 'cinema',\n",
       " 'prone',\n",
       " 'pretens',\n",
       " 'marvel',\n",
       " 'simpli',\n",
       " 'lack',\n",
       " 'need',\n",
       " 'plot',\n",
       " 'order',\n",
       " 'creat',\n",
       " 'emot',\n",
       " 'eas',\n",
       " 'perfectli',\n",
       " 'love',\n",
       " 'anyon',\n",
       " 'alexandr',\n",
       " 'posit',\n",
       " 'urban',\n",
       " 'area',\n",
       " 'ask',\n",
       " 'look',\n",
       " 'patron',\n",
       " 'anyon',\n",
       " 'interest']"
      ]
     },
     "execution_count": 36,
     "metadata": {},
     "output_type": "execute_result"
    }
   ],
   "source": [
    "# TODO: Apply review_to_words to a review (train_X[100] or any other review)\n",
    "review_to_words(train_X[100])"
   ]
  },
  {
   "cell_type": "markdown",
   "metadata": {},
   "source": [
    "**Question:** Above we mentioned that `review_to_words` method removes html formatting and allows us to tokenize the words found in a review, for example, converting *entertained* and *entertaining* into *entertain* so that they are treated as though they are the same word. What else, if anything, does this method do to the input?"
   ]
  },
  {
   "cell_type": "markdown",
   "metadata": {},
   "source": [
    "**Answer:** converts everything into lower case, then splits the text to words, removes stopwords (words which occur very often in texts and don't have meaning like a/an/the)"
   ]
  },
  {
   "cell_type": "markdown",
   "metadata": {},
   "source": [
    "The method below applies the `review_to_words` method to each of the reviews in the training and testing datasets. In addition it caches the results. This is because performing this processing step can take a long time. This way if you are unable to complete the notebook in the current session, you can come back without needing to process the data a second time."
   ]
  },
  {
   "cell_type": "code",
   "execution_count": 37,
   "metadata": {},
   "outputs": [],
   "source": [
    "import pickle\n",
    "\n",
    "cache_dir = os.path.join(\"../cache\", \"sentiment_analysis\")  # where to store cache files\n",
    "os.makedirs(cache_dir, exist_ok=True)  # ensure cache directory exists\n",
    "\n",
    "def preprocess_data(data_train, data_test, labels_train, labels_test,\n",
    "                    cache_dir=cache_dir, cache_file=\"preprocessed_data.pkl\"):\n",
    "    \"\"\"Convert each review to words; read from cache if available.\"\"\"\n",
    "\n",
    "    # If cache_file is not None, try to read from it first\n",
    "    cache_data = None\n",
    "    if cache_file is not None:\n",
    "        try:\n",
    "            with open(os.path.join(cache_dir, cache_file), \"rb\") as f:\n",
    "                cache_data = pickle.load(f)\n",
    "            print(\"Read preprocessed data from cache file:\", cache_file)\n",
    "        except:\n",
    "            pass  # unable to read from cache, but that's okay\n",
    "    \n",
    "    # If cache is missing, then do the heavy lifting\n",
    "    if cache_data is None:\n",
    "        # Preprocess training and test data to obtain words for each review\n",
    "        #words_train = list(map(review_to_words, data_train))\n",
    "        #words_test = list(map(review_to_words, data_test))\n",
    "        words_train = [review_to_words(review) for review in data_train]\n",
    "        words_test = [review_to_words(review) for review in data_test]\n",
    "        \n",
    "        # Write to cache file for future runs\n",
    "        if cache_file is not None:\n",
    "            cache_data = dict(words_train=words_train, words_test=words_test,\n",
    "                              labels_train=labels_train, labels_test=labels_test)\n",
    "            with open(os.path.join(cache_dir, cache_file), \"wb\") as f:\n",
    "                pickle.dump(cache_data, f)\n",
    "            print(\"Wrote preprocessed data to cache file:\", cache_file)\n",
    "    else:\n",
    "        # Unpack data loaded from cache file\n",
    "        words_train, words_test, labels_train, labels_test = (cache_data['words_train'],\n",
    "                cache_data['words_test'], cache_data['labels_train'], cache_data['labels_test'])\n",
    "    \n",
    "    return words_train, words_test, labels_train, labels_test"
   ]
  },
  {
   "cell_type": "code",
   "execution_count": 38,
   "metadata": {},
   "outputs": [
    {
     "name": "stdout",
     "output_type": "stream",
     "text": [
      "Read preprocessed data from cache file: preprocessed_data.pkl\n"
     ]
    }
   ],
   "source": [
    "# Preprocess data\n",
    "train_X, test_X, train_y, test_y = preprocess_data(train_X, test_X, train_y, test_y)"
   ]
  },
  {
   "cell_type": "markdown",
   "metadata": {},
   "source": [
    "## Transform the data\n",
    "\n",
    "In the XGBoost notebook we transformed the data from its word representation to a bag-of-words feature representation. For the model we are going to construct in this notebook we will construct a feature representation which is very similar. To start, we will represent each word as an integer. Of course, some of the words that appear in the reviews occur very infrequently and so likely don't contain much information for the purposes of sentiment analysis. The way we will deal with this problem is that we will fix the size of our working vocabulary and we will only include the words that appear most frequently. We will then combine all of the infrequent words into a single category and, in our case, we will label it as `1`.\n",
    "\n",
    "Since we will be using a recurrent neural network, it will be convenient if the length of each review is the same. To do this, we will fix a size for our reviews and then pad short reviews with the category 'no word' (which we will label `0`) and truncate long reviews."
   ]
  },
  {
   "cell_type": "markdown",
   "metadata": {},
   "source": [
    "### (TODO) Create a word dictionary\n",
    "\n",
    "To begin with, we need to construct a way to map words that appear in the reviews to integers. Here we fix the size of our vocabulary (including the 'no word' and 'infrequent' categories) to be `5000` but you may wish to change this to see how it affects the model.\n",
    "\n",
    "> **TODO:** Complete the implementation for the `build_dict()` method below. Note that even though the vocab_size is set to `5000`, we only want to construct a mapping for the most frequently appearing `4998` words. This is because we want to reserve the special labels `0` for 'no word' and `1` for 'infrequent word'."
   ]
  },
  {
   "cell_type": "code",
   "execution_count": 51,
   "metadata": {},
   "outputs": [],
   "source": [
    "import numpy as np\n",
    "\n",
    "def build_dict(data, vocab_size = 5000):\n",
    "    \"\"\"Construct and return a dictionary mapping each of the most frequently appearing words to a unique integer.\"\"\"\n",
    "    \n",
    "    # TODO: Determine how often each word appears in `data`. Note that `data` is a list of sentences and that a\n",
    "    #       sentence is a list of words.\n",
    "    \n",
    "    word_count = {} # A dict storing the words that appear in the reviews along with how often they occur\n",
    "    for sentence in data:\n",
    "        for word in sentence:\n",
    "            if word in word_count:\n",
    "                word_count[word] += 1\n",
    "            else:\n",
    "                word_count[word] = 0\n",
    "    # TODO: Sort the words found in `data` so that sorted_words[0] is the most frequently appearing word and\n",
    "    #       sorted_words[-1] is the least frequently appearing word.\n",
    "    \n",
    "    sorted_words = list(dict(sorted(word_count.items(), key=lambda item: item[1], reverse=True)))\n",
    "\n",
    "    word_dict = {} # This is what we are building, a dictionary that translates words into integers\n",
    "    for idx, word in enumerate(sorted_words[:vocab_size - 2]): # The -2 is so that we save room for the 'no word'\n",
    "        word_dict[word] = idx + 2                              # 'infrequent' labels\n",
    "        \n",
    "    return word_dict"
   ]
  },
  {
   "cell_type": "code",
   "execution_count": 52,
   "metadata": {},
   "outputs": [],
   "source": [
    "word_dict = build_dict(train_X)"
   ]
  },
  {
   "cell_type": "code",
   "execution_count": 53,
   "metadata": {
    "scrolled": true
   },
   "outputs": [
    {
     "name": "stdout",
     "output_type": "stream",
     "text": [
      "{'movi': 2, 'film': 3, 'one': 4, 'like': 5, 'time': 6, 'good': 7, 'make': 8, 'charact': 9, 'get': 10, 'see': 11, 'watch': 12, 'stori': 13, 'even': 14, 'would': 15, 'realli': 16, 'well': 17, 'scene': 18, 'look': 19, 'show': 20, 'much': 21, 'end': 22, 'peopl': 23, 'bad': 24, 'go': 25, 'great': 26, 'also': 27, 'first': 28, 'love': 29, 'think': 30, 'way': 31, 'act': 32, 'play': 33, 'made': 34, 'thing': 35, 'could': 36, 'know': 37, 'say': 38, 'seem': 39, 'work': 40, 'plot': 41, 'two': 42, 'actor': 43, 'year': 44, 'come': 45, 'mani': 46, 'seen': 47, 'take': 48, 'want': 49, 'life': 50, 'never': 51, 'littl': 52, 'best': 53, 'tri': 54, 'man': 55, 'ever': 56, 'give': 57, 'better': 58, 'still': 59, 'perform': 60, 'find': 61, 'feel': 62, 'part': 63, 'back': 64, 'use': 65, 'someth': 66, 'director': 67, 'actual': 68, 'interest': 69, 'lot': 70, 'real': 71, 'old': 72, 'cast': 73, 'though': 74, 'live': 75, 'star': 76, 'enjoy': 77, 'guy': 78, 'anoth': 79, 'new': 80, 'role': 81, 'noth': 82, '10': 83, 'funni': 84, 'music': 85, 'point': 86, 'start': 87, 'set': 88, 'girl': 89, 'origin': 90, 'day': 91, 'world': 92, 'everi': 93, 'believ': 94, 'turn': 95, 'quit': 96, 'us': 97, 'direct': 98, 'thought': 99, 'fact': 100, 'minut': 101, 'horror': 102, 'kill': 103, 'action': 104, 'comedi': 105, 'pretti': 106, 'young': 107, 'wonder': 108, 'happen': 109, 'around': 110, 'got': 111, 'effect': 112, 'right': 113, 'long': 114, 'howev': 115, 'big': 116, 'line': 117, 'famili': 118, 'enough': 119, 'seri': 120, 'may': 121, 'need': 122, 'fan': 123, 'bit': 124, 'script': 125, 'beauti': 126, 'person': 127, 'becom': 128, 'without': 129, 'must': 130, 'alway': 131, 'friend': 132, 'tell': 133, 'reason': 134, 'saw': 135, 'last': 136, 'final': 137, 'kid': 138, 'almost': 139, 'put': 140, 'least': 141, 'sure': 142, 'done': 143, 'whole': 144, 'place': 145, 'complet': 146, 'kind': 147, 'differ': 148, 'expect': 149, 'shot': 150, 'far': 151, 'mean': 152, 'anyth': 153, 'book': 154, 'laugh': 155, 'might': 156, 'name': 157, 'sinc': 158, 'begin': 159, '2': 160, 'probabl': 161, 'woman': 162, 'help': 163, 'entertain': 164, 'let': 165, 'screen': 166, 'call': 167, 'tv': 168, 'moment': 169, 'away': 170, 'read': 171, 'yet': 172, 'rather': 173, 'worst': 174, 'run': 175, 'fun': 176, 'lead': 177, 'hard': 178, 'audienc': 179, 'idea': 180, 'anyon': 181, 'episod': 182, 'american': 183, 'found': 184, 'appear': 185, 'bore': 186, 'especi': 187, 'although': 188, 'hope': 189, 'cours': 190, 'keep': 191, 'anim': 192, 'job': 193, 'goe': 194, 'move': 195, 'sens': 196, 'dvd': 197, 'version': 198, 'war': 199, 'money': 200, 'someon': 201, 'mind': 202, 'mayb': 203, 'problem': 204, 'true': 205, 'hous': 206, 'everyth': 207, 'nice': 208, 'second': 209, 'rate': 210, 'three': 211, 'night': 212, 'face': 213, 'follow': 214, 'recommend': 215, 'product': 216, 'main': 217, 'worth': 218, 'leav': 219, 'human': 220, 'special': 221, 'excel': 222, 'togeth': 223, 'wast': 224, 'everyon': 225, 'sound': 226, 'john': 227, 'hand': 228, '1': 229, 'father': 230, 'later': 231, 'eye': 232, 'said': 233, 'view': 234, 'instead': 235, 'review': 236, 'boy': 237, 'high': 238, 'hour': 239, 'miss': 240, 'talk': 241, 'classic': 242, 'wife': 243, 'understand': 244, 'left': 245, 'care': 246, 'black': 247, 'death': 248, 'open': 249, 'murder': 250, 'write': 251, 'half': 252, 'head': 253, 'rememb': 254, 'chang': 255, 'viewer': 256, 'fight': 257, 'gener': 258, 'surpris': 259, 'includ': 260, 'short': 261, 'die': 262, 'fall': 263, 'less': 264, 'els': 265, 'entir': 266, 'piec': 267, 'involv': 268, 'pictur': 269, 'simpli': 270, 'top': 271, 'power': 272, 'home': 273, 'total': 274, 'usual': 275, 'budget': 276, 'attempt': 277, 'suppos': 278, 'releas': 279, 'hollywood': 280, 'terribl': 281, 'song': 282, 'men': 283, 'possibl': 284, 'featur': 285, 'portray': 286, 'disappoint': 287, '3': 288, 'poor': 289, 'coupl': 290, 'camera': 291, 'stupid': 292, 'dead': 293, 'wrong': 294, 'low': 295, 'produc': 296, 'video': 297, 'either': 298, 'aw': 299, 'definit': 300, 'except': 301, 'rest': 302, 'given': 303, 'absolut': 304, 'women': 305, 'lack': 306, 'word': 307, 'writer': 308, 'titl': 309, 'talent': 310, 'decid': 311, 'full': 312, 'perfect': 313, 'along': 314, 'style': 315, 'close': 316, 'truli': 317, 'school': 318, 'save': 319, 'emot': 320, 'age': 321, 'sex': 322, 'next': 323, 'bring': 324, 'mr': 325, 'case': 326, 'killer': 327, 'heart': 328, 'comment': 329, 'sort': 330, 'creat': 331, 'perhap': 332, 'came': 333, 'brother': 334, 'sever': 335, 'joke': 336, 'art': 337, 'dialogu': 338, 'game': 339, 'small': 340, 'base': 341, 'flick': 342, 'written': 343, 'sequenc': 344, 'meet': 345, 'earli': 346, 'often': 347, 'other': 348, 'mother': 349, 'develop': 350, 'humor': 351, 'actress': 352, 'consid': 353, 'dark': 354, 'guess': 355, 'amaz': 356, 'unfortun': 357, 'light': 358, 'lost': 359, 'exampl': 360, 'cinema': 361, 'drama': 362, 'ye': 363, 'white': 364, 'experi': 365, 'imagin': 366, 'mention': 367, 'stop': 368, 'natur': 369, 'forc': 370, 'manag': 371, 'felt': 372, 'cut': 373, 'present': 374, 'children': 375, 'fail': 376, 'son': 377, 'qualiti': 378, 'support': 379, 'car': 380, 'ask': 381, 'hit': 382, 'side': 383, 'voic': 384, 'extrem': 385, 'impress': 386, 'evil': 387, 'wors': 388, 'stand': 389, 'went': 390, 'certainli': 391, 'basic': 392, 'oh': 393, 'overal': 394, 'favorit': 395, 'horribl': 396, 'mysteri': 397, 'number': 398, 'type': 399, 'danc': 400, 'wait': 401, 'hero': 402, 'alreadi': 403, '5': 404, 'learn': 405, 'matter': 406, '4': 407, 'michael': 408, 'genr': 409, 'fine': 410, 'despit': 411, 'throughout': 412, 'walk': 413, 'success': 414, 'histori': 415, 'question': 416, 'zombi': 417, 'town': 418, 'relationship': 419, 'realiz': 420, 'past': 421, 'child': 422, 'daughter': 423, 'late': 424, 'b': 425, 'wish': 426, 'hate': 427, 'credit': 428, 'event': 429, 'theme': 430, 'touch': 431, 'citi': 432, 'today': 433, 'sometim': 434, 'behind': 435, 'god': 436, 'twist': 437, 'sit': 438, 'deal': 439, 'stay': 440, 'annoy': 441, 'abl': 442, 'rent': 443, 'pleas': 444, 'edit': 445, 'blood': 446, 'deserv': 447, 'anyway': 448, 'comic': 449, 'appar': 450, 'soon': 451, 'gave': 452, 'etc': 453, 'level': 454, 'slow': 455, 'chanc': 456, 'score': 457, 'bodi': 458, 'brilliant': 459, 'incred': 460, 'figur': 461, 'situat': 462, 'major': 463, 'self': 464, 'stuff': 465, 'decent': 466, 'element': 467, 'dream': 468, 'return': 469, 'obvious': 470, 'continu': 471, 'order': 472, 'pace': 473, 'ridicul': 474, 'happi': 475, 'group': 476, 'add': 477, 'highli': 478, 'thank': 479, 'ladi': 480, 'novel': 481, 'pain': 482, 'speak': 483, 'career': 484, 'shoot': 485, 'strang': 486, 'heard': 487, 'sad': 488, 'polic': 489, 'husband': 490, 'import': 491, 'break': 492, 'took': 493, 'strong': 494, 'cannot': 495, 'predict': 496, 'robert': 497, 'violenc': 498, 'hilari': 499, 'recent': 500, 'countri': 501, 'known': 502, 'particularli': 503, 'pick': 504, 'documentari': 505, 'season': 506, 'critic': 507, 'jame': 508, 'compar': 509, 'alon': 510, 'obviou': 511, 'told': 512, 'state': 513, 'visual': 514, 'rock': 515, 'theater': 516, 'exist': 517, 'offer': 518, 'opinion': 519, 'gore': 520, 'crap': 521, 'hold': 522, 'result': 523, 'realiti': 524, 'room': 525, 'hear': 526, 'clich': 527, 'effort': 528, 'thriller': 529, 'caus': 530, 'serious': 531, 'sequel': 532, 'explain': 533, 'king': 534, 'local': 535, 'ago': 536, 'hell': 537, 'none': 538, 'note': 539, 'allow': 540, 'david': 541, 'sister': 542, 'simpl': 543, 'femal': 544, 'deliv': 545, 'ok': 546, 'convinc': 547, 'class': 548, 'check': 549, 'suspens': 550, 'win': 551, 'oscar': 552, 'buy': 553, 'huge': 554, 'valu': 555, 'sexual': 556, 'scari': 557, 'cool': 558, 'excit': 559, 'similar': 560, 'apart': 561, 'provid': 562, 'exactli': 563, 'avoid': 564, 'shown': 565, 'seriou': 566, 'english': 567, 'taken': 568, 'whose': 569, 'cinematographi': 570, 'shock': 571, 'polit': 572, 'spoiler': 573, 'offic': 574, 'across': 575, 'middl': 576, 'pass': 577, 'street': 578, 'messag': 579, 'somewhat': 580, 'charm': 581, 'silli': 582, 'modern': 583, 'confus': 584, 'filmmak': 585, 'form': 586, 'tale': 587, 'singl': 588, 'jack': 589, 'mostli': 590, 'attent': 591, 'carri': 592, 'william': 593, 'sing': 594, 'subject': 595, 'five': 596, 'richard': 597, 'prove': 598, 'team': 599, 'stage': 600, 'unlik': 601, 'cop': 602, 'georg': 603, 'televis': 604, 'monster': 605, 'earth': 606, 'cover': 607, 'villain': 608, 'pay': 609, 'marri': 610, 'toward': 611, 'build': 612, 'pull': 613, 'parent': 614, 'due': 615, 'fill': 616, 'respect': 617, 'four': 618, 'dialog': 619, 'remind': 620, 'futur': 621, 'typic': 622, 'weak': 623, '7': 624, 'cheap': 625, 'intellig': 626, 'british': 627, 'atmospher': 628, '80': 629, 'clearli': 630, 'non': 631, 'paul': 632, 'dog': 633, 'artist': 634, 'fast': 635, 'knew': 636, '8': 637, 'crime': 638, 'easili': 639, 'escap': 640, 'doubt': 641, 'adult': 642, 'detail': 643, 'date': 644, 'fire': 645, 'member': 646, 'romant': 647, 'drive': 648, 'gun': 649, 'straight': 650, 'fit': 651, 'beyond': 652, 'attack': 653, 'imag': 654, 'upon': 655, 'posit': 656, 'whether': 657, 'peter': 658, 'fantast': 659, 'aspect': 660, 'captur': 661, 'appreci': 662, 'ten': 663, 'plan': 664, 'discov': 665, 'remain': 666, 'near': 667, 'period': 668, 'air': 669, 'realist': 670, 'mark': 671, 'red': 672, 'dull': 673, 'adapt': 674, 'within': 675, 'lose': 676, 'spend': 677, 'materi': 678, 'color': 679, 'chase': 680, 'mari': 681, 'storylin': 682, 'forget': 683, 'bunch': 684, 'clear': 685, 'lee': 686, 'victim': 687, 'nearli': 688, 'box': 689, 'york': 690, 'inspir': 691, 'match': 692, 'finish': 693, 'mess': 694, 'standard': 695, 'easi': 696, 'truth': 697, 'busi': 698, 'suffer': 699, 'bill': 700, 'space': 701, 'dramat': 702, 'western': 703, 'e': 704, 'list': 705, 'battl': 706, 'notic': 707, 'de': 708, 'french': 709, 'ad': 710, '9': 711, 'tom': 712, 'larg': 713, 'among': 714, 'eventu': 715, 'train': 716, 'accept': 717, 'agre': 718, 'spirit': 719, 'soundtrack': 720, 'third': 721, 'teenag': 722, 'soldier': 723, 'adventur': 724, 'sorri': 725, 'drug': 726, 'famou': 727, 'suggest': 728, 'babi': 729, 'normal': 730, 'cri': 731, 'troubl': 732, 'ultim': 733, 'contain': 734, 'certain': 735, 'cultur': 736, 'romanc': 737, 'rare': 738, 'lame': 739, 'somehow': 740, 'disney': 741, 'mix': 742, 'gone': 743, 'cartoon': 744, 'student': 745, 'fear': 746, 'reveal': 747, 'kept': 748, 'suck': 749, 'attract': 750, 'appeal': 751, 'premis': 752, 'secret': 753, 'design': 754, 'greatest': 755, 'shame': 756, 'throw': 757, 'scare': 758, 'copi': 759, 'wit': 760, 'america': 761, 'admit': 762, 'brought': 763, 'relat': 764, 'particular': 765, 'screenplay': 766, 'whatev': 767, 'pure': 768, '70': 769, 'harri': 770, 'averag': 771, 'master': 772, 'describ': 773, 'treat': 774, 'male': 775, '20': 776, 'fantasi': 777, 'issu': 778, 'warn': 779, 'inde': 780, 'background': 781, 'forward': 782, 'free': 783, 'project': 784, 'memor': 785, 'japanes': 786, 'poorli': 787, 'award': 788, 'locat': 789, 'potenti': 790, 'amus': 791, 'struggl': 792, 'weird': 793, 'magic': 794, 'societi': 795, 'okay': 796, 'doctor': 797, 'accent': 798, 'imdb': 799, 'hot': 800, 'water': 801, '30': 802, 'express': 803, 'dr': 804, 'alien': 805, 'odd': 806, 'crazi': 807, 'choic': 808, 'fiction': 809, 'studio': 810, 'control': 811, 'becam': 812, 'masterpiec': 813, 'fli': 814, 'difficult': 815, 'joe': 816, 'scream': 817, 'costum': 818, 'lover': 819, 'refer': 820, 'uniqu': 821, 'remak': 822, 'vampir': 823, 'girlfriend': 824, 'prison': 825, 'execut': 826, 'wear': 827, 'jump': 828, 'unless': 829, 'wood': 830, 'creepi': 831, 'cheesi': 832, 'superb': 833, 'otherwis': 834, 'parti': 835, 'roll': 836, 'ghost': 837, 'public': 838, 'mad': 839, 'depict': 840, 'moral': 841, 'jane': 842, 'badli': 843, 'earlier': 844, 'week': 845, 'dumb': 846, 'fi': 847, 'flaw': 848, 'grow': 849, 'sci': 850, 'deep': 851, 'maker': 852, 'cat': 853, 'connect': 854, 'footag': 855, 'older': 856, 'plenti': 857, 'bother': 858, 'outsid': 859, 'stick': 860, 'gay': 861, 'catch': 862, 'plu': 863, 'co': 864, 'popular': 865, 'equal': 866, 'social': 867, 'quickli': 868, 'disturb': 869, 'perfectli': 870, 'dress': 871, '90': 872, 'era': 873, 'mistak': 874, 'lie': 875, 'previou': 876, 'ride': 877, 'combin': 878, 'concept': 879, 'band': 880, 'surviv': 881, 'rich': 882, 'answer': 883, 'front': 884, 'sweet': 885, 'christma': 886, 'insid': 887, 'eat': 888, 'concern': 889, 'bare': 890, 'beat': 891, 'ben': 892, 'listen': 893, 'c': 894, 'serv': 895, 'term': 896, 'la': 897, 'german': 898, 'meant': 899, 'stereotyp': 900, 'hardli': 901, 'innoc': 902, 'law': 903, 'desper': 904, 'promis': 905, 'memori': 906, 'cute': 907, 'intent': 908, 'inform': 909, 'variou': 910, 'steal': 911, 'brain': 912, 'post': 913, 'tone': 914, 'island': 915, 'amount': 916, 'compani': 917, 'track': 918, 'nuditi': 919, 'claim': 920, 'store': 921, '50': 922, 'hair': 923, 'flat': 924, 'land': 925, 'univers': 926, 'danger': 927, 'fairli': 928, 'kick': 929, 'scott': 930, 'player': 931, 'plain': 932, 'crew': 933, 'step': 934, 'toni': 935, 'share': 936, 'tast': 937, 'centuri': 938, 'achiev': 939, 'engag': 940, 'travel': 941, 'cold': 942, 'record': 943, 'suit': 944, 'rip': 945, 'manner': 946, 'sadli': 947, 'wrote': 948, 'spot': 949, 'tension': 950, 'intens': 951, 'fascin': 952, 'familiar': 953, 'burn': 954, 'remark': 955, 'depth': 956, 'destroy': 957, 'histor': 958, 'sleep': 959, 'purpos': 960, 'languag': 961, 'ruin': 962, 'ignor': 963, 'delight': 964, 'unbeliev': 965, 'italian': 966, 'abil': 967, 'soul': 968, 'collect': 969, 'detect': 970, 'clever': 971, 'violent': 972, 'rape': 973, 'reach': 974, 'door': 975, 'liter': 976, 'trash': 977, 'scienc': 978, 'commun': 979, 'reveng': 980, 'caught': 981, 'creatur': 982, 'trip': 983, 'approach': 984, 'intrigu': 985, 'fashion': 986, 'skill': 987, 'paint': 988, 'introduc': 989, 'channel': 990, 'complex': 991, 'camp': 992, 'christian': 993, 'extra': 994, 'hole': 995, 'mental': 996, 'immedi': 997, 'ann': 998, 'limit': 999, 'mere': 1000, 'slightli': 1001, 'million': 1002, 'comput': 1003, '6': 1004, 'conclus': 1005, 'slasher': 1006, 'imposs': 1007, 'suddenli': 1008, 'crimin': 1009, 'teen': 1010, 'neither': 1011, 'physic': 1012, 'spent': 1013, 'nation': 1014, 'respons': 1015, 'planet': 1016, 'receiv': 1017, 'fake': 1018, 'sick': 1019, 'blue': 1020, 'bizarr': 1021, 'embarrass': 1022, 'indian': 1023, '15': 1024, 'ring': 1025, 'pop': 1026, 'drop': 1027, 'drag': 1028, 'haunt': 1029, 'suspect': 1030, 'pointless': 1031, 'edg': 1032, 'search': 1033, 'handl': 1034, 'biggest': 1035, 'common': 1036, 'arriv': 1037, 'faith': 1038, 'hurt': 1039, 'technic': 1040, 'angel': 1041, 'genuin': 1042, 'dad': 1043, 'f': 1044, 'awesom': 1045, 'solid': 1046, 'van': 1047, 'focu': 1048, 'former': 1049, 'colleg': 1050, 'count': 1051, 'tear': 1052, 'heavi': 1053, 'wall': 1054, 'rais': 1055, 'younger': 1056, 'laughabl': 1057, 'visit': 1058, 'fair': 1059, 'excus': 1060, 'sign': 1061, 'cult': 1062, 'tough': 1063, 'motion': 1064, 'key': 1065, 'super': 1066, 'desir': 1067, 'addit': 1068, 'stun': 1069, 'exploit': 1070, 'cloth': 1071, 'tortur': 1072, 'smith': 1073, 'race': 1074, 'davi': 1075, 'author': 1076, 'cross': 1077, 'jim': 1078, 'minor': 1079, 'compel': 1080, 'consist': 1081, 'focus': 1082, 'pathet': 1083, 'chemistri': 1084, 'commit': 1085, 'park': 1086, 'frank': 1087, 'tradit': 1088, 'obsess': 1089, 'grade': 1090, '60': 1091, 'asid': 1092, 'brutal': 1093, 'steve': 1094, 'somewher': 1095, 'opportun': 1096, 'rule': 1097, 'explor': 1098, 'u': 1099, 'depress': 1100, 'grant': 1101, 'besid': 1102, 'honest': 1103, 'anti': 1104, 'dub': 1105, 'intend': 1106, 'trailer': 1107, 'bar': 1108, 'scientist': 1109, 'regard': 1110, 'longer': 1111, 'west': 1112, 'judg': 1113, 'decad': 1114, 'silent': 1115, 'creativ': 1116, 'armi': 1117, 'wild': 1118, 'south': 1119, 'g': 1120, 'stewart': 1121, 'draw': 1122, 'road': 1123, 'govern': 1124, 'boss': 1125, 'ex': 1126, 'practic': 1127, 'club': 1128, 'surprisingli': 1129, 'festiv': 1130, 'motiv': 1131, 'gang': 1132, 'green': 1133, 'redeem': 1134, 'page': 1135, 'london': 1136, 'machin': 1137, 'aliv': 1138, 'idiot': 1139, 'display': 1140, 'militari': 1141, 'thrill': 1142, 'repeat': 1143, 'yeah': 1144, 'nobodi': 1145, '100': 1146, 'folk': 1147, '40': 1148, 'garbag': 1149, 'journey': 1150, 'tire': 1151, 'ground': 1152, 'smile': 1153, 'bought': 1154, 'mood': 1155, 'stone': 1156, 'cost': 1157, 'sam': 1158, 'noir': 1159, 'mouth': 1160, 'agent': 1161, 'terrif': 1162, 'requir': 1163, 'utterli': 1164, 'sexi': 1165, 'honestli': 1166, 'area': 1167, 'geniu': 1168, 'report': 1169, 'investig': 1170, 'glad': 1171, 'humour': 1172, 'enter': 1173, 'serial': 1174, 'narr': 1175, 'occasion': 1176, 'passion': 1177, 'climax': 1178, 'marriag': 1179, 'studi': 1180, 'industri': 1181, 'ship': 1182, 'center': 1183, 'charli': 1184, 'nowher': 1185, 'demon': 1186, 'bear': 1187, 'loos': 1188, 'hors': 1189, 'hang': 1190, 'wow': 1191, 'graphic': 1192, 'admir': 1193, 'giant': 1194, 'send': 1195, 'damn': 1196, 'loud': 1197, 'profession': 1198, 'rel': 1199, 'subtl': 1200, 'nake': 1201, 'blow': 1202, 'bottom': 1203, 'batman': 1204, 'insult': 1205, 'doubl': 1206, 'boyfriend': 1207, 'kelli': 1208, 'r': 1209, 'initi': 1210, 'frame': 1211, 'opera': 1212, 'gem': 1213, 'drawn': 1214, 'affect': 1215, 'cinemat': 1216, 'challeng': 1217, 'church': 1218, 'evid': 1219, 'nightmar': 1220, 'l': 1221, 'fulli': 1222, 'seek': 1223, 'j': 1224, 'essenti': 1225, 'conflict': 1226, 'arm': 1227, 'grace': 1228, 'wind': 1229, 'henri': 1230, 'christoph': 1231, 'narrat': 1232, 'witch': 1233, 'assum': 1234, 'push': 1235, 'hunt': 1236, 'wise': 1237, 'chri': 1238, 'month': 1239, 'nomin': 1240, 'repres': 1241, 'hide': 1242, 'affair': 1243, 'avail': 1244, 'sceneri': 1245, 'justic': 1246, 'thu': 1247, 'bond': 1248, 'smart': 1249, 'flashback': 1250, 'outstand': 1251, 'interview': 1252, 'presenc': 1253, 'satisfi': 1254, 'constantli': 1255, 'bed': 1256, 'central': 1257, 'sell': 1258, 'content': 1259, 'iron': 1260, 'gag': 1261, 'everybodi': 1262, 'slowli': 1263, 'hotel': 1264, 'hire': 1265, 'system': 1266, 'charl': 1267, 'adam': 1268, 'thrown': 1269, 'individu': 1270, 'hey': 1271, 'allen': 1272, 'mediocr': 1273, 'jone': 1274, 'billi': 1275, 'ray': 1276, 'lesson': 1277, 'cameo': 1278, 'photographi': 1279, 'fellow': 1280, 'pari': 1281, 'strike': 1282, 'brief': 1283, 'independ': 1284, 'absurd': 1285, 'rise': 1286, 'neg': 1287, 'phone': 1288, 'impact': 1289, 'model': 1290, 'ill': 1291, 'born': 1292, 'angl': 1293, 'fresh': 1294, 'spoil': 1295, 'abus': 1296, 'likabl': 1297, 'hill': 1298, 'discuss': 1299, 'ahead': 1300, 'sight': 1301, 'sent': 1302, 'photograph': 1303, 'logic': 1304, 'blame': 1305, 'shine': 1306, 'occur': 1307, 'bruce': 1308, 'mainli': 1309, 'commerci': 1310, 'skip': 1311, 'forev': 1312, 'surround': 1313, 'teacher': 1314, 'held': 1315, 'segment': 1316, 'blond': 1317, 'zero': 1318, 'trap': 1319, 'resembl': 1320, 'satir': 1321, 'summer': 1322, 'fool': 1323, 'ball': 1324, 'six': 1325, 'queen': 1326, 'twice': 1327, 'sub': 1328, 'tragedi': 1329, 'reaction': 1330, 'pack': 1331, 'bomb': 1332, 'hospit': 1333, 'will': 1334, 'protagonist': 1335, 'mile': 1336, 'sport': 1337, 'jerri': 1338, 'vote': 1339, 'drink': 1340, 'trust': 1341, 'mom': 1342, 'encount': 1343, 'plane': 1344, 'program': 1345, 'al': 1346, 'current': 1347, 'station': 1348, 'celebr': 1349, 'choos': 1350, 'martin': 1351, 'join': 1352, 'round': 1353, 'lord': 1354, 'tragic': 1355, 'favourit': 1356, 'field': 1357, 'jean': 1358, 'robot': 1359, 'vision': 1360, 'arthur': 1361, 'tie': 1362, 'fortun': 1363, 'roger': 1364, 'random': 1365, 'intern': 1366, 'dread': 1367, 'psycholog': 1368, 'nonsens': 1369, 'prefer': 1370, 'epic': 1371, 'improv': 1372, 'pleasur': 1373, 'legend': 1374, 'highlight': 1375, 'formula': 1376, '11': 1377, 'dollar': 1378, 'tape': 1379, 'wide': 1380, 'thin': 1381, 'porn': 1382, 'gorgeou': 1383, 'fox': 1384, 'object': 1385, 'influenc': 1386, 'buddi': 1387, 'ugli': 1388, 'prepar': 1389, 'nasti': 1390, 'ii': 1391, 'warm': 1392, 'supposedli': 1393, 'reflect': 1394, 'progress': 1395, 'worthi': 1396, 'youth': 1397, 'length': 1398, 'latter': 1399, 'unusu': 1400, 'crash': 1401, 'seven': 1402, 'shop': 1403, 'superior': 1404, 'childhood': 1405, 'theatr': 1406, 'remot': 1407, 'pilot': 1408, 'paid': 1409, 'disgust': 1410, 'funniest': 1411, 'castl': 1412, 'trick': 1413, 'convers': 1414, 'fell': 1415, 'gangster': 1416, 'rob': 1417, 'disast': 1418, 'establish': 1419, 'mine': 1420, 'disappear': 1421, 'heaven': 1422, 'suicid': 1423, 'ident': 1424, 'mask': 1425, 'heroin': 1426, 'singer': 1427, 'forgotten': 1428, 'tend': 1429, 'decis': 1430, 'partner': 1431, 'brian': 1432, 'desert': 1433, 'alan': 1434, 'recogn': 1435, 'sky': 1436, 'stuck': 1437, 'p': 1438, 'thoroughli': 1439, 'ms': 1440, 'accur': 1441, 'replac': 1442, 'market': 1443, 'commentari': 1444, 'seemingli': 1445, 'eddi': 1446, 'danni': 1447, 'clue': 1448, 'uncl': 1449, 'andi': 1450, 'devil': 1451, 'jackson': 1452, 'therefor': 1453, 'pair': 1454, 'refus': 1455, 'that': 1456, 'river': 1457, 'ed': 1458, 'unit': 1459, 'fate': 1460, 'fault': 1461, 'accid': 1462, 'tune': 1463, 'afraid': 1464, 'russian': 1465, 'clean': 1466, 'hidden': 1467, 'stephen': 1468, 'instanc': 1469, 'irrit': 1470, 'test': 1471, 'quick': 1472, 'captain': 1473, 'readi': 1474, 'convey': 1475, 'european': 1476, 'daniel': 1477, 'frustrat': 1478, 'insan': 1479, '1950': 1480, 'wed': 1481, 'chines': 1482, 'food': 1483, 'rescu': 1484, 'lock': 1485, 'angri': 1486, 'dirti': 1487, 'joy': 1488, 'steven': 1489, 'price': 1490, 'bland': 1491, 'cage': 1492, 'rang': 1493, 'anymor': 1494, 'wooden': 1495, 'jason': 1496, 'news': 1497, 'n': 1498, 'rush': 1499, 'board': 1500, 'worri': 1501, '12': 1502, 'martial': 1503, 'twenti': 1504, 'led': 1505, 'cgi': 1506, 'transform': 1507, 'symbol': 1508, 'hunter': 1509, 'invent': 1510, 'piti': 1511, 'johnni': 1512, 'x': 1513, 'sentiment': 1514, 'onto': 1515, 'attitud': 1516, 'process': 1517, 'explan': 1518, 'awar': 1519, 'owner': 1520, 'aim': 1521, 'energi': 1522, 'floor': 1523, 'necessari': 1524, 'target': 1525, 'favor': 1526, 'opposit': 1527, 'religi': 1528, 'window': 1529, 'insight': 1530, 'blind': 1531, 'chick': 1532, 'movement': 1533, 'possess': 1534, 'comparison': 1535, 'research': 1536, 'mountain': 1537, 'deepli': 1538, 'whatsoev': 1539, 'grand': 1540, 'rain': 1541, 'comed': 1542, 'bank': 1543, 'mid': 1544, 'began': 1545, 'shadow': 1546, 'princ': 1547, 'parodi': 1548, 'taylor': 1549, 'pre': 1550, 'friendship': 1551, 'weapon': 1552, 'credibl': 1553, 'flesh': 1554, 'dougla': 1555, 'teach': 1556, 'hint': 1557, 'terror': 1558, 'bloodi': 1559, 'protect': 1560, 'marvel': 1561, 'anybodi': 1562, 'drunk': 1563, 'watchabl': 1564, 'accord': 1565, 'load': 1566, 'leader': 1567, 'superman': 1568, 'freddi': 1569, 'brown': 1570, 'tim': 1571, 'appropri': 1572, 'jeff': 1573, 'seat': 1574, 'hitler': 1575, 'knock': 1576, 'villag': 1577, 'charg': 1578, 'unknown': 1579, 'keaton': 1580, 'empti': 1581, 'media': 1582, 'england': 1583, 'unnecessari': 1584, 'enemi': 1585, 'dare': 1586, 'craft': 1587, 'wave': 1588, 'perspect': 1589, 'utter': 1590, 'strength': 1591, 'buck': 1592, 'correct': 1593, 'nativ': 1594, 'kiss': 1595, 'contrast': 1596, 'ford': 1597, 'soap': 1598, 'nazi': 1599, 'speed': 1600, 'distract': 1601, 'chill': 1602, 'anywher': 1603, 'magnific': 1604, 'knowledg': 1605, 'fred': 1606, 'ice': 1607, '1980': 1608, 'mission': 1609, 'breath': 1610, 'joan': 1611, 'crowd': 1612, 'moon': 1613, 'jr': 1614, 'soft': 1615, '000': 1616, 'kate': 1617, 'frighten': 1618, 'hundr': 1619, 'nick': 1620, 'dick': 1621, 'dan': 1622, 'somebodi': 1623, 'dozen': 1624, 'simon': 1625, 'radio': 1626, 'andrew': 1627, 'academi': 1628, 'loss': 1629, 'thousand': 1630, 'shakespear': 1631, 'vehicl': 1632, 'account': 1633, 'quot': 1634, 'sum': 1635, 'root': 1636, '1970': 1637, 'leg': 1638, 'convent': 1639, 'behavior': 1640, 'regular': 1641, 'gold': 1642, 'pretenti': 1643, 'compet': 1644, 'worker': 1645, 'demand': 1646, 'explos': 1647, 'privat': 1648, 'notabl': 1649, 'candi': 1650, 'interpret': 1651, 'japan': 1652, 'stretch': 1653, 'lynch': 1654, 'constant': 1655, 'debut': 1656, 'tarzan': 1657, 'revolv': 1658, 'prais': 1659, 'translat': 1660, 'sea': 1661, 'spi': 1662, 'failur': 1663, 'franc': 1664, 'threaten': 1665, 'sat': 1666, 'technolog': 1667, 'quiet': 1668, 'jesu': 1669, 'ass': 1670, 'punch': 1671, 'aid': 1672, 'met': 1673, 'kevin': 1674, 'higher': 1675, 'toy': 1676, 'mike': 1677, 'interact': 1678, 'abandon': 1679, 'vh': 1680, 'bet': 1681, 'command': 1682, 'confront': 1683, 'separ': 1684, 'gotten': 1685, 'site': 1686, 'recal': 1687, 'techniqu': 1688, 'servic': 1689, 'stunt': 1690, 'belong': 1691, 'freak': 1692, 'cabl': 1693, 'bug': 1694, 'foot': 1695, 'jimmi': 1696, 'african': 1697, 'capabl': 1698, 'fu': 1699, 'bright': 1700, 'boat': 1701, 'succeed': 1702, 'clark': 1703, 'presid': 1704, 'stock': 1705, 'fat': 1706, 'gene': 1707, 'structur': 1708, 'spanish': 1709, 'paper': 1710, 'kidnap': 1711, 'factor': 1712, 'whilst': 1713, 'belief': 1714, 'tree': 1715, 'bob': 1716, 'complic': 1717, 'attend': 1718, 'witti': 1719, 'realism': 1720, 'realis': 1721, 'educ': 1722, 'broken': 1723, 'finest': 1724, 'assist': 1725, 'santa': 1726, 'up': 1727, 'observ': 1728, 'v': 1729, 'determin': 1730, 'smoke': 1731, 'depart': 1732, 'fame': 1733, 'domin': 1734, 'rubbish': 1735, 'oper': 1736, 'routin': 1737, 'lewi': 1738, 'hat': 1739, 'morgan': 1740, 'hook': 1741, 'safe': 1742, 'foreign': 1743, 'advanc': 1744, 'lone': 1745, 'kinda': 1746, 'rank': 1747, 'numer': 1748, 'rose': 1749, 'werewolf': 1750, 'shallow': 1751, 'washington': 1752, 'civil': 1753, 'shape': 1754, 'vs': 1755, 'gari': 1756, 'morn': 1757, 'winner': 1758, 'accomplish': 1759, 'ordinari': 1760, 'kong': 1761, 'virtual': 1762, 'whenev': 1763, 'grab': 1764, 'peac': 1765, 'luck': 1766, 'offens': 1767, 'h': 1768, 'complain': 1769, 'bigger': 1770, 'contriv': 1771, 'unfunni': 1772, 'activ': 1773, 'welcom': 1774, 'patient': 1775, 'pretend': 1776, 'dimension': 1777, 'con': 1778, 'trek': 1779, 'cain': 1780, 'code': 1781, 'dri': 1782, 'eric': 1783, 'flash': 1784, 'wake': 1785, 'lesbian': 1786, 'dancer': 1787, 'albert': 1788, 'guard': 1789, 'corrupt': 1790, 'statu': 1791, 'manipul': 1792, 'signific': 1793, 'context': 1794, 'sourc': 1795, 'gain': 1796, 'speech': 1797, 'awkward': 1798, 'clip': 1799, 'corni': 1800, 'psycho': 1801, 'anthoni': 1802, '13': 1803, 'sean': 1804, 'reli': 1805, 'curiou': 1806, 'religion': 1807, 'theatric': 1808, 'w': 1809, 'advic': 1810, 'priest': 1811, 'addict': 1812, 'flow': 1813, 'asian': 1814, 'secur': 1815, 'specif': 1816, 'skin': 1817, 'jennif': 1818, 'howard': 1819, 'core': 1820, 'organ': 1821, 'luke': 1822, 'comfort': 1823, 'golden': 1824, 'promot': 1825, 'cash': 1826, 'lucki': 1827, 'cheat': 1828, 'lower': 1829, 'associ': 1830, 'dislik': 1831, 'wing': 1832, 'frankli': 1833, 'devic': 1834, 'degre': 1835, 'frequent': 1836, 'balanc': 1837, 'spell': 1838, 'regret': 1839, 'contribut': 1840, 'sake': 1841, 'print': 1842, 'forgiv': 1843, 'lake': 1844, 'mass': 1845, 'thoma': 1846, 'betti': 1847, 'gordon': 1848, 'crack': 1849, 'unexpect': 1850, 'grown': 1851, 'construct': 1852, 'unfold': 1853, 'amateur': 1854, 'invit': 1855, 'categori': 1856, 'depend': 1857, 'condit': 1858, 'walter': 1859, 'grew': 1860, 'matur': 1861, 'anna': 1862, 'honor': 1863, 'intellectu': 1864, 'sole': 1865, 'sudden': 1866, 'veteran': 1867, 'spectacular': 1868, 'mirror': 1869, 'liner': 1870, 'experienc': 1871, 'robin': 1872, 'freedom': 1873, 'meanwhil': 1874, 'card': 1875, 'grip': 1876, 'overli': 1877, 'demonstr': 1878, 'gift': 1879, 'circumst': 1880, 'unabl': 1881, 'brilliantli': 1882, 'section': 1883, 'sheriff': 1884, 'subtitl': 1885, 'crappi': 1886, 'oliv': 1887, 'drew': 1888, 'theori': 1889, 'colour': 1890, 'matt': 1891, 'laughter': 1892, 'parker': 1893, 'cook': 1894, 'altern': 1895, 'sheer': 1896, 'pile': 1897, 'path': 1898, 'accident': 1899, 'wander': 1900, 'relief': 1901, 'sinatra': 1902, 'treatment': 1903, 'defin': 1904, 'lawyer': 1905, 'hall': 1906, 'hank': 1907, 'dragon': 1908, 'captiv': 1909, 'moor': 1910, 'gratuit': 1911, 'halloween': 1912, 'unintent': 1913, 'k': 1914, 'broadway': 1915, 'wayn': 1916, 'cowboy': 1917, 'kung': 1918, 'wound': 1919, 'barbara': 1920, 'jacki': 1921, 'statement': 1922, 'surreal': 1923, 'winter': 1924, 'spoof': 1925, 'canadian': 1926, 'gonna': 1927, 'fish': 1928, 'treasur': 1929, 'cheer': 1930, 'fare': 1931, 'compos': 1932, 'woodi': 1933, 'unrealist': 1934, 'emerg': 1935, 'victor': 1936, 'sensit': 1937, 'ran': 1938, 'sympathet': 1939, 'neighbor': 1940, 'driven': 1941, 'expos': 1942, 'glass': 1943, 'menac': 1944, 'authent': 1945, 'topic': 1946, 'overlook': 1947, 'handsom': 1948, 'gross': 1949, 'michel': 1950, 'ancient': 1951, 'chief': 1952, 'pleasant': 1953, 'nevertheless': 1954, 'built': 1955, 'comedian': 1956, 'cinderella': 1957, 'stranger': 1958, 'contemporari': 1959, 'feet': 1960, 'network': 1961, 'russel': 1962, 'earn': 1963, 'endless': 1964, 'miser': 1965, 'underr': 1966, 'gori': 1967, 'consider': 1968, 'blockbust': 1969, 'letter': 1970, 'solv': 1971, 'switch': 1972, 'brook': 1973, 'joseph': 1974, 'bullet': 1975, 'edward': 1976, 'convict': 1977, 'virgin': 1978, 'victoria': 1979, 'scale': 1980, 'scenario': 1981, 'cynic': 1982, '0': 1983, 'chosen': 1984, 'alex': 1985, 'gut': 1986, 'com': 1987, 'outrag': 1988, 'curs': 1989, 'sword': 1990, 'driver': 1991, 'wrap': 1992, 'proper': 1993, 'monkey': 1994, 'substanc': 1995, 'juli': 1996, 'uk': 1997, 'screenwrit': 1998, 'indic': 1999, 'court': 2000, 'remov': 2001, 'bird': 2002, 'par': 2003, 'advertis': 2004, 'inevit': 2005, 'consequ': 2006, 'roy': 2007, 'rental': 2008, 'nanci': 2009, 'loser': 2010, 'grave': 2011, 'naiv': 2012, 'brave': 2013, 'bridg': 2014, 'slap': 2015, 'le': 2016, 'fatal': 2017, 'invis': 2018, 'germani': 2019, 'loui': 2020, 'ador': 2021, 'anger': 2022, 'provok': 2023, 'footbal': 2024, 'anderson': 2025, 'alcohol': 2026, 'chan': 2027, 'professor': 2028, 'ryan': 2029, 'stumbl': 2030, 'willi': 2031, 'sharp': 2032, 'bat': 2033, 'australian': 2034, 'assassin': 2035, '1930': 2036, 'patrick': 2037, 'cell': 2038, 'lousi': 2039, 'amateurish': 2040, 'deni': 2041, 'refresh': 2042, 'heck': 2043, 'saturday': 2044, 'ape': 2045, 'trilog': 2046, 'strongli': 2047, 'liber': 2048, 'eight': 2049, 'sin': 2050, 'san': 2051, 'justifi': 2052, 'vagu': 2053, 'resid': 2054, 'reput': 2055, 'sympathi': 2056, 'creator': 2057, 'mini': 2058, 'defeat': 2059, 'terrifi': 2060, 'indi': 2061, 'tabl': 2062, 'task': 2063, 'prevent': 2064, 'endur': 2065, 'expert': 2066, 'tediou': 2067, 'employ': 2068, 'rival': 2069, 'offend': 2070, 'imit': 2071, 'che': 2072, 'trial': 2073, 'basebal': 2074, 'max': 2075, 'pitch': 2076, 'dig': 2077, 'weekend': 2078, 'fairi': 2079, 'complaint': 2080, 'beach': 2081, 'europ': 2082, 'format': 2083, 'murphi': 2084, 'purchas': 2085, 'risk': 2086, 'harsh': 2087, 'glimps': 2088, 'bite': 2089, 'nois': 2090, 'tini': 2091, 'titan': 2092, 'hype': 2093, 'reminisc': 2094, 'powel': 2095, 'prime': 2096, '14': 2097, 'fals': 2098, 'asleep': 2099, 'till': 2100, 'strip': 2101, 'north': 2102, 'revel': 2103, 'descript': 2104, 'africa': 2105, 'destruct': 2106, 'texa': 2107, 'inner': 2108, 'arrest': 2109, 'uninterest': 2110, 'surfac': 2111, 'excess': 2112, 'semi': 2113, 'spin': 2114, 'sitcom': 2115, 'controversi': 2116, 'maintain': 2117, 'twin': 2118, 'makeup': 2119, 'hitchcock': 2120, 'dinosaur': 2121, 'argu': 2122, 'massiv': 2123, 'melodrama': 2124, 'insist': 2125, 'ideal': 2126, 'stare': 2127, 'kim': 2128, 'ludicr': 2129, 'expens': 2130, 'reject': 2131, 'nail': 2132, 'subplot': 2133, 'ga': 2134, 'erot': 2135, 'host': 2136, 'forest': 2137, 'supernatur': 2138, 'press': 2139, 'ala': 2140, 'columbo': 2141, 'atroci': 2142, 'dude': 2143, 'identifi': 2144, 'presum': 2145, 'notch': 2146, 'cant': 2147, 'guest': 2148, 'forgett': 2149, 'closer': 2150, 'crude': 2151, 'plagu': 2152, 'character': 2153, 'method': 2154, 'landscap': 2155, 'beast': 2156, 'foster': 2157, 'lion': 2158, 'border': 2159, 'ear': 2160, 'princess': 2161, 'urban': 2162, 'bound': 2163, 'accus': 2164, 'damag': 2165, 'jungl': 2166, 'aunt': 2167, 'previous': 2168, 'storytel': 2169, 'birth': 2170, 'pacino': 2171, 'thirti': 2172, 'doll': 2173, 'propaganda': 2174, 'emma': 2175, 'guid': 2176, 'jess': 2177, 'chose': 2178, 'nude': 2179, 'warrior': 2180, 'whoever': 2181, 'mainstream': 2182, 'mate': 2183, '25': 2184, 'pet': 2185, 'poster': 2186, 'gritti': 2187, 'size': 2188, 'exact': 2189, 'deadli': 2190, 'friday': 2191, 'upset': 2192, 'cooper': 2193, 'latest': 2194, 'merit': 2195, 'warner': 2196, 'rough': 2197, 'contest': 2198, 'sun': 2199, 'blend': 2200, 'contact': 2201, 'citizen': 2202, 'ton': 2203, 'wilson': 2204, 'corps': 2205, 'popul': 2206, 'buff': 2207, '1990': 2208, 'settl': 2209, 'overcom': 2210, 'mgm': 2211, 'select': 2212, 'rat': 2213, 'widow': 2214, 'alic': 2215, 'metal': 2216, 'environ': 2217, 'pitt': 2218, 'bu': 2219, 'lift': 2220, 'link': 2221, 'particip': 2222, 'ted': 2223, 'guilti': 2224, 'revolut': 2225, 'corpor': 2226, 'accompani': 2227, 'prostitut': 2228, 'corner': 2229, 'matrix': 2230, 'exagger': 2231, 'moron': 2232, '1960': 2233, 'afternoon': 2234, 'johnson': 2235, 'hood': 2236, 'instal': 2237, 'holm': 2238, 'clair': 2239, 'sincer': 2240, 'friendli': 2241, 'multipl': 2242, 'doom': 2243, 'leagu': 2244, 'aka': 2245, 'grim': 2246, 'advis': 2247, 'hip': 2248, 'defend': 2249, 'sunday': 2250, 'irish': 2251, 'lugosi': 2252, 'campi': 2253, 'examin': 2254, 'blah': 2255, 'junk': 2256, 'string': 2257, 'shut': 2258, 'tight': 2259, 'rachel': 2260, 'pro': 2261, 'varieti': 2262, 'icon': 2263, 'shake': 2264, 'confid': 2265, 'medic': 2266, 'mexican': 2267, 'jaw': 2268, 'goal': 2269, 'directli': 2270, 'attach': 2271, 'denni': 2272, 'sullivan': 2273, 'dean': 2274, 'sarah': 2275, 'courag': 2276, 'prior': 2277, 'truck': 2278, 'sentenc': 2279, 'duke': 2280, 'vietnam': 2281, 'legendari': 2282, 'bourn': 2283, 'terrorist': 2284, 'breast': 2285, 'split': 2286, 'yell': 2287, 'entri': 2288, 'un': 2289, 'proceed': 2290, 'donald': 2291, 'behav': 2292, 'hong': 2293, 'nose': 2294, 'borrow': 2295, 'lifetim': 2296, 'crush': 2297, 'forth': 2298, 'swim': 2299, 'buri': 2300, 'gather': 2301, 'unconvinc': 2302, 'confess': 2303, 'stolen': 2304, 'everywher': 2305, 'jerk': 2306, 'concentr': 2307, 'lip': 2308, 'spite': 2309, 'turkey': 2310, 'julia': 2311, 'deliveri': 2312, 'california': 2313, 'pan': 2314, 'offici': 2315, 'reward': 2316, 'flight': 2317, 'quest': 2318, 'downright': 2319, 'freeman': 2320, 'hoffman': 2321, 'proud': 2322, 'china': 2323, 'inept': 2324, 'fabul': 2325, 'encourag': 2326, 'jon': 2327, 'lazi': 2328, 'jail': 2329, 'sink': 2330, 'sir': 2331, 'notori': 2332, 'fade': 2333, 'worthwhil': 2334, 'betray': 2335, 'retard': 2336, 'shower': 2337, 'bag': 2338, 'lisa': 2339, 'survivor': 2340, 'bell': 2341, 'imageri': 2342, 'relev': 2343, 'susan': 2344, 'cousin': 2345, 'teeth': 2346, 'storm': 2347, 'branagh': 2348, 'stab': 2349, 'facial': 2350, 'finger': 2351, 'toler': 2352, 'alright': 2353, 'quirki': 2354, 'tremend': 2355, 'mexico': 2356, 'trade': 2357, 'shark': 2358, 'summari': 2359, 'hugh': 2360, 'bride': 2361, 'blown': 2362, 'ha': 2363, 'pose': 2364, 'hyster': 2365, 'von': 2366, 'bitter': 2367, 'ron': 2368, 'address': 2369, 'cruel': 2370, 'bone': 2371, 'christ': 2372, 'larri': 2373, 'scheme': 2374, 'afterward': 2375, 'ned': 2376, 'distinct': 2377, 'pursu': 2378, 'traci': 2379, 'feed': 2380, 'snake': 2381, 'swear': 2382, 'beg': 2383, 'screw': 2384, 'thumb': 2385, 'tour': 2386, 'occas': 2387, 'photo': 2388, 'raw': 2389, 'obscur': 2390, 'chair': 2391, 'mechan': 2392, 'stomach': 2393, 'render': 2394, 'cabin': 2395, 'chain': 2396, 'heavili': 2397, 'holiday': 2398, 'resist': 2399, 'necessarili': 2400, 'hardi': 2401, 'southern': 2402, 'sidney': 2403, 'argument': 2404, 'gruesom': 2405, 'satan': 2406, 'india': 2407, 'indulg': 2408, 'racist': 2409, 'philip': 2410, 'understood': 2411, 'stalk': 2412, 'outfit': 2413, 'obnoxi': 2414, 'integr': 2415, 'fourth': 2416, 'tongu': 2417, 'forgot': 2418, 'belov': 2419, 'pregnant': 2420, 'lay': 2421, 'midnight': 2422, 'inhabit': 2423, '17': 2424, 'slapstick': 2425, 'ticket': 2426, 'garden': 2427, 'carol': 2428, 'restor': 2429, 'magazin': 2430, 'deeper': 2431, 'incid': 2432, 'lincoln': 2433, 'shoe': 2434, 'brad': 2435, 'devot': 2436, 'underground': 2437, 'disbelief': 2438, 'divorc': 2439, 'maria': 2440, 'benefit': 2441, 'anticip': 2442, 'sandler': 2443, 'guarante': 2444, 'elizabeth': 2445, 'lili': 2446, 'capit': 2447, 'greater': 2448, 'creation': 2449, 'slave': 2450, 'princip': 2451, 'bbc': 2452, 'amazingli': 2453, 'explod': 2454, 'cring': 2455, 'mildli': 2456, 'extraordinari': 2457, 'lesli': 2458, 'introduct': 2459, 'halfway': 2460, 'funnier': 2461, 'advantag': 2462, 'punish': 2463, 'overwhelm': 2464, 'enhanc': 2465, 'transfer': 2466, 'tap': 2467, 'text': 2468, 'extent': 2469, 'wreck': 2470, 'east': 2471, 'horrif': 2472, 'dynam': 2473, 'error': 2474, 'preview': 2475, 'lo': 2476, 'deliber': 2477, 'jessica': 2478, 'plant': 2479, 'lane': 2480, 'homosexu': 2481, '2000': 2482, 'miscast': 2483, 'basi': 2484, 'sophist': 2485, 'miller': 2486, 'appli': 2487, 'vacat': 2488, 'vincent': 2489, 'ensu': 2490, 'sleazi': 2491, 'spoken': 2492, 'via': 2493, 'elev': 2494, 'extend': 2495, 'mansion': 2496, 'reed': 2497, 'bollywood': 2498, 'measur': 2499, 'steel': 2500, 'uncomfort': 2501, 'alter': 2502, 'blair': 2503, 'goofi': 2504, 'mous': 2505, 'fix': 2506, 'breathtak': 2507, 'conceiv': 2508, 'daili': 2509, 'cathol': 2510, 'assign': 2511, 'melt': 2512, 'hippi': 2513, 'savag': 2514, 'dentist': 2515, 'beer': 2516, 'overact': 2517, 'stanley': 2518, 'sacrific': 2519, 'subsequ': 2520, 'burt': 2521, 'succe': 2522, 'inspector': 2523, 'nowaday': 2524, 'everyday': 2525, 'properli': 2526, 'oppos': 2527, 'carpent': 2528, 'neck': 2529, 'laura': 2530, 'circl': 2531, 'massacr': 2532, 'block': 2533, 'mob': 2534, 'grey': 2535, 'pool': 2536, 'portrait': 2537, 'access': 2538, 'fallen': 2539, 'lesser': 2540, 'seagal': 2541, 'concert': 2542, 'christi': 2543, 'fay': 2544, 'react': 2545, 'chees': 2546, 'sinist': 2547, 'usa': 2548, 'jewish': 2549, 'isol': 2550, 'jake': 2551, 'relax': 2552, 'competit': 2553, 'spiritu': 2554, 'ironi': 2555, 'suitabl': 2556, 'immens': 2557, 'lyric': 2558, 'creep': 2559, 'chop': 2560, 'stink': 2561, 'nine': 2562, 'appal': 2563, '2006': 2564, 'nonetheless': 2565, 'user': 2566, 'nut': 2567, 'retir': 2568, 'luci': 2569, 'showcas': 2570, 'spring': 2571, 'franchis': 2572, 'rage': 2573, 'sold': 2574, 'needless': 2575, 'reduc': 2576, 'shirt': 2577, 'adopt': 2578, 'navi': 2579, 'nurs': 2580, 'digit': 2581, 'bath': 2582, 'per': 2583, 'bulli': 2584, 'uninspir': 2585, 'stanwyck': 2586, 'asham': 2587, 'zone': 2588, 'jay': 2589, 'upper': 2590, '2001': 2591, 'illustr': 2592, 'broadcast': 2593, 'amongst': 2594, '1940': 2595, 'oddli': 2596, 'laid': 2597, 'sutherland': 2598, 'brando': 2599, 'throat': 2600, 'stylish': 2601, 'disguis': 2602, 'fulfil': 2603, 'baker': 2604, 'aspir': 2605, 'thief': 2606, 'wwii': 2607, 'em': 2608, 'impli': 2609, 'pound': 2610, '18': 2611, 'neighborhood': 2612, 'pride': 2613, 'endear': 2614, 'wanna': 2615, 'nobl': 2616, 'shift': 2617, '16': 2618, 'distribut': 2619, 'tens': 2620, 'cinematograph': 2621, 'prop': 2622, 'shoulder': 2623, 'rochest': 2624, 'dawn': 2625, 'coher': 2626, 'bett': 2627, 'albeit': 2628, 'bo': 2629, 'diseas': 2630, 'dinner': 2631, 'shout': 2632, 'surf': 2633, 'function': 2634, 'poignant': 2635, 'contract': 2636, 'forti': 2637, 'wash': 2638, 'matthau': 2639, 'rebel': 2640, 'knife': 2641, 'silenc': 2642, 'snow': 2643, 'horrend': 2644, 'widmark': 2645, 'henc': 2646, 'silver': 2647, 'reunion': 2648, 'internet': 2649, 'instinct': 2650, 'chuck': 2651, 'cannib': 2652, 'height': 2653, 'eeri': 2654, 'cancel': 2655, 'heat': 2656, 'duti': 2657, 'elvira': 2658, 'derek': 2659, 'proof': 2660, 'mindless': 2661, 'absorb': 2662, 'alik': 2663, 'mill': 2664, 'etern': 2665, 'incoher': 2666, 'innov': 2667, 'premier': 2668, 'greatli': 2669, 'pie': 2670, 'musician': 2671, 'repetit': 2672, 'glori': 2673, 'torn': 2674, 'neat': 2675, 'elvi': 2676, 'spielberg': 2677, 'bang': 2678, 'redempt': 2679, 'britain': 2680, 'trite': 2681, 'infam': 2682, 'fbi': 2683, 'itali': 2684, 'horrifi': 2685, 'lovabl': 2686, 'crisi': 2687, 'homag': 2688, 'nelson': 2689, 'precis': 2690, 'racism': 2691, 'blank': 2692, 'wealthi': 2693, 'diamond': 2694, 'announc': 2695, 'burton': 2696, 'hammer': 2697, 'resolut': 2698, 'flop': 2699, 'chaplin': 2700, 'ensembl': 2701, 'happili': 2702, 'dedic': 2703, 'helen': 2704, 'parallel': 2705, 'wilder': 2706, 'pat': 2707, 'streisand': 2708, 'conclud': 2709, 'mar': 2710, 'oil': 2711, 'disagre': 2712, 'broke': 2713, 'cube': 2714, 'factori': 2715, 'plastic': 2716, 'st': 2717, 'triumph': 2718, 'carter': 2719, 'own': 2720, 'weight': 2721, 'rocket': 2722, 'fighter': 2723, 'bush': 2724, 'chuckl': 2725, 'climb': 2726, 'vega': 2727, 'march': 2728, 'row': 2729, 'thug': 2730, 'enorm': 2731, 'boot': 2732, 'wherea': 2733, 'luca': 2734, 'dump': 2735, 'dane': 2736, 'lust': 2737, 'meaning': 2738, 'sensibl': 2739, 'unforgett': 2740, 'spare': 2741, 'mst3k': 2742, 'kurt': 2743, 'adequ': 2744, 'arnold': 2745, 'brand': 2746, 'butt': 2747, 'engin': 2748, 'dear': 2749, 'karloff': 2750, 'difficulti': 2751, 'rap': 2752, 'caricatur': 2753, 'threat': 2754, 'bobbi': 2755, 'stress': 2756, 'fifti': 2757, 'barri': 2758, 'ralph': 2759, 'secretari': 2760, 'ego': 2761, 'fest': 2762, 'arrog': 2763, 'elabor': 2764, 'polish': 2765, 'flynn': 2766, 'journalist': 2767, 'homeless': 2768, 'hamlet': 2769, 'swing': 2770, 'unbear': 2771, 'float': 2772, 'tool': 2773, 'induc': 2774, 'simpson': 2775, 'puppet': 2776, 'grate': 2777, 'spike': 2778, 'resort': 2779, 'conspiraci': 2780, 'fanci': 2781, 'arrang': 2782, 'exercis': 2783, 'guilt': 2784, 'choreograph': 2785, 'pig': 2786, 'phillip': 2787, 'cruis': 2788, 'boll': 2789, 'tribut': 2790, 'muppet': 2791, 'basement': 2792, 'korean': 2793, 'babe': 2794, 'editor': 2795, 'layer': 2796, 'fianc': 2797, 'medium': 2798, 'scarecrow': 2799, 'tower': 2800, 'stan': 2801, 'file': 2802, 'puzzl': 2803, 'ham': 2804, '24': 2805, 'document': 2806, 'ward': 2807, 'slip': 2808, 'toilet': 2809, 'item': 2810, 'persona': 2811, 'slaughter': 2812, 'larger': 2813, 'spark': 2814, 'catherin': 2815, 'superfici': 2816, 'portion': 2817, 'denzel': 2818, 'doc': 2819, 'inexplic': 2820, 'assur': 2821, 'librari': 2822, 'minim': 2823, 'transit': 2824, 'territori': 2825, 'philosoph': 2826, 'orient': 2827, 'glover': 2828, 'owe': 2829, 'jet': 2830, 'walken': 2831, 'financi': 2832, 'boredom': 2833, 'curti': 2834, 'dorothi': 2835, 'sneak': 2836, 'pg': 2837, 'shi': 2838, 'wolf': 2839, 'ban': 2840, 'jeremi': 2841, 'multi': 2842, 'profound': 2843, 'eleph': 2844, 'metaphor': 2845, 'backdrop': 2846, 'ambigu': 2847, 'hudson': 2848, 'whale': 2849, 'cusack': 2850, 'union': 2851, 'stiff': 2852, 'elsewher': 2853, 'rave': 2854, 'notion': 2855, 'gadget': 2856, 'implaus': 2857, 'ultra': 2858, 'viru': 2859, 'birthday': 2860, '2005': 2861, 'hack': 2862, 'squar': 2863, 'newspap': 2864, '1st': 2865, 'slight': 2866, 'pad': 2867, 'urg': 2868, 'deriv': 2869, 'poison': 2870, 'afford': 2871, 'superhero': 2872, 'distanc': 2873, 'reader': 2874, 'hawk': 2875, 'eva': 2876, 'bibl': 2877, 'lloyd': 2878, 'disc': 2879, 'eastwood': 2880, 'canada': 2881, 'sadist': 2882, 'health': 2883, 'essenc': 2884, 'montag': 2885, 'button': 2886, 'heston': 2887, 'spread': 2888, 'drown': 2889, 'restaur': 2890, 'cure': 2891, 'charisma': 2892, 'skit': 2893, 'huh': 2894, 'invest': 2895, 'muslim': 2896, 'lab': 2897, 'maniac': 2898, 'dealt': 2899, 'gradual': 2900, 'companion': 2901, 'peak': 2902, 'estat': 2903, 'scoobi': 2904, 'fetch': 2905, 'godfath': 2906, 'cup': 2907, 'tea': 2908, 'ritter': 2909, 'countless': 2910, 'servant': 2911, 'gothic': 2912, 'kane': 2913, 'alli': 2914, 'subtleti': 2915, 'miik': 2916, 'electr': 2917, 'charismat': 2918, 'iii': 2919, 'heroic': 2920, 'briefli': 2921, 'elect': 2922, 'salli': 2923, 'bud': 2924, 'toss': 2925, 'neil': 2926, 'tender': 2927, 'admittedli': 2928, 'reel': 2929, 'resourc': 2930, 'ingredi': 2931, 'grandmoth': 2932, 'wannab': 2933, 'cole': 2934, 'nuanc': 2935, 'pit': 2936, 'label': 2937, 'poverti': 2938, 'stronger': 2939, 'shall': 2940, 'kubrick': 2941, 'mafia': 2942, 'dawson': 2943, 'punk': 2944, 'stood': 2945, 'gate': 2946, 'mild': 2947, 'pauli': 2948, 'carrey': 2949, 'reev': 2950, 'astair': 2951, 'cox': 2952, 'terri': 2953, 'smooth': 2954, 'easier': 2955, 'useless': 2956, 'assault': 2957, 'ian': 2958, 'tag': 2959, 'outcom': 2960, 'smash': 2961, 'burst': 2962, 'cardboard': 2963, 'bakshi': 2964, 'fond': 2965, 'updat': 2966, 'vari': 2967, 'fist': 2968, '2002': 2969, 'vulner': 2970, 'coincid': 2971, 'exchang': 2972, 'resolv': 2973, 'melodramat': 2974, 'increasingli': 2975, 'rex': 2976, 'qualifi': 2977, 'sketch': 2978, 'divers': 2979, 'samurai': 2980, 'scratch': 2981, 'brillianc': 2982, 'templ': 2983, 'insert': 2984, 'suspend': 2985, 'conveni': 2986, 'reynold': 2987, 'tame': 2988, 'luckili': 2989, 'be': 2990, 'blast': 2991, 'strictli': 2992, 'pin': 2993, 'coach': 2994, 'soprano': 2995, 'nuclear': 2996, 'jami': 2997, 'ambiti': 2998, 'farm': 2999, 'meat': 3000, 'matthew': 3001, 'gotta': 3002, 'seventi': 3003, 'walker': 3004, 'hamilton': 3005, 'fisher': 3006, 'butcher': 3007, 'clock': 3008, 'closet': 3009, 'joey': 3010, 'empir': 3011, 'convolut': 3012, 'spooki': 3013, 'discoveri': 3014, 'brosnan': 3015, 'monk': 3016, 'recreat': 3017, 'grasp': 3018, 'cave': 3019, 'ninja': 3020, 'timeless': 3021, 'worthless': 3022, 'eccentr': 3023, 'kudo': 3024, 'revers': 3025, 'struck': 3026, 'instantli': 3027, 'inconsist': 3028, 'importantli': 3029, 'communist': 3030, 'wipe': 3031, 'miracl': 3032, 'seller': 3033, 'sidekick': 3034, 'partli': 3035, 'selfish': 3036, 'evok': 3037, 'bleak': 3038, 'declar': 3039, 'sloppi': 3040, 'pal': 3041, 'gray': 3042, 'eighti': 3043, 'cliff': 3044, 'mitchel': 3045, 'clown': 3046, 'fifteen': 3047, 'norman': 3048, 'stoog': 3049, 'websit': 3050, 'piano': 3051, 'chew': 3052, 'farc': 3053, 'debat': 3054, 'australia': 3055, 'cheek': 3056, 'enthusiast': 3057, 'superbl': 3058, 'seed': 3059, 'ho': 3060, 'aforement': 3061, 'flawless': 3062, '45': 3063, 'lifestyl': 3064, 'destin': 3065, 'psychiatrist': 3066, 'drivel': 3067, 'pressur': 3068, 'incompet': 3069, 'kitchen': 3070, 'emili': 3071, 'soviet': 3072, 'slice': 3073, 'wick': 3074, 'wrestl': 3075, 'splatter': 3076, 'abc': 3077, 'dash': 3078, 'dire': 3079, 'directori': 3080, 'regardless': 3081, 'bash': 3082, 'akshay': 3083, 'anni': 3084, 'cagney': 3085, 'helicopt': 3086, 'ken': 3087, 'suppli': 3088, 'glow': 3089, 'recov': 3090, 'lou': 3091, 'beaten': 3092, 'artifici': 3093, 'chapter': 3094, 'cameron': 3095, 'increas': 3096, 'judi': 3097, 'flower': 3098, 'curios': 3099, 'prize': 3100, 'jar': 3101, 'boil': 3102, 'cia': 3103, 'seduc': 3104, 'blob': 3105, 'pleasantli': 3106, 'duo': 3107, 'distant': 3108, 'doo': 3109, 'dave': 3110, 'mann': 3111, 'favour': 3112, 'francisco': 3113, 'hop': 3114, 'panic': 3115, 'craven': 3116, 'web': 3117, 'craig': 3118, 'psychot': 3119, 'perri': 3120, 'eleg': 3121, 'ranger': 3122, 'goldberg': 3123, 'glenn': 3124, 'drunken': 3125, 'combat': 3126, 'splendid': 3127, 'ellen': 3128, 'laurel': 3129, 'turner': 3130, 'min': 3131, 'ruth': 3132, 'fx': 3133, 'flip': 3134, 'alexand': 3135, 'slightest': 3136, 'plausibl': 3137, 'wizard': 3138, 'graduat': 3139, 'gandhi': 3140, 'rid': 3141, 'greek': 3142, 'philosophi': 3143, 'shortli': 3144, '20th': 3145, 'hatr': 3146, 'modesti': 3147, 'gentl': 3148, 'falk': 3149, 'harm': 3150, 'futurist': 3151, 'knight': 3152, 'lend': 3153, 'we': 3154, 'preciou': 3155, 'jealou': 3156, 'legal': 3157, 'fund': 3158, 'tall': 3159, 'dracula': 3160, 'manhattan': 3161, 'unpleas': 3162, 'holi': 3163, 'ocean': 3164, 'felix': 3165, 'childish': 3166, 'ami': 3167, 'thread': 3168, 'scientif': 3169, 'explicit': 3170, 'mock': 3171, 'forbidden': 3172, 'tank': 3173, 'overdon': 3174, 'digniti': 3175, 'reviv': 3176, 'nod': 3177, 'bless': 3178, 'giallo': 3179, 'awe': 3180, 'mel': 3181, 'unwatch': 3182, 'pirat': 3183, 'thick': 3184, 'verhoeven': 3185, 'yesterday': 3186, '99': 3187, 'eve': 3188, 'awaken': 3189, '2004': 3190, 'repeatedli': 3191, 'torment': 3192, 'elderli': 3193, 'fever': 3194, 'margaret': 3195, 'broad': 3196, 'nerv': 3197, 'custom': 3198, 'roman': 3199, 'eas': 3200, 'griffith': 3201, 'absenc': 3202, 'lean': 3203, 'stiller': 3204, 'timothi': 3205, 'politician': 3206, 'ah': 3207, 'bin': 3208, 'rivet': 3209, 'acclaim': 3210, 'publish': 3211, 'automat': 3212, 'ambit': 3213, 'uniform': 3214, 'royal': 3215, 'launch': 3216, 'kay': 3217, 'romero': 3218, 'foul': 3219, 'darker': 3220, 'pierc': 3221, 'crook': 3222, 'pulp': 3223, 'homicid': 3224, 'sunshin': 3225, 'purpl': 3226, 'antic': 3227, 'tomato': 3228, 'stinker': 3229, 'termin': 3230, 'wallac': 3231, 'gabriel': 3232, 'transport': 3233, 'warren': 3234, 'bathroom': 3235, 'phrase': 3236, 'hollow': 3237, 'horrid': 3238, 'prom': 3239, 'coloni': 3240, 'q': 3241, 'evolv': 3242, 'eyr': 3243, 'choreographi': 3244, 'li': 3245, 'juvenil': 3246, 'revolutionari': 3247, 'rambo': 3248, 'pray': 3249, 'kenneth': 3250, 'awak': 3251, 'sixti': 3252, 'packag': 3253, 'saint': 3254, '2003': 3255, 'album': 3256, 'contrari': 3257, 'donna': 3258, 'brazil': 3259, 'marin': 3260, 'karen': 3261, 'ought': 3262, 'viciou': 3263, 'kapoor': 3264, 'defi': 3265, 'overr': 3266, 'blade': 3267, 'nerd': 3268, 'dose': 3269, 'ramon': 3270, 'stole': 3271, 'option': 3272, 'ireland': 3273, 'boast': 3274, 'mummi': 3275, 'candid': 3276, 'conserv': 3277, 'twelv': 3278, 'beatti': 3279, 'mildr': 3280, 'confirm': 3281, 'protest': 3282, 'detract': 3283, 'funer': 3284, 'global': 3285, 'natali': 3286, 'kirk': 3287, 'fulci': 3288, 'jazz': 3289, 'trio': 3290, 'flame': 3291, 'collabor': 3292, 'astonish': 3293, 'altman': 3294, 'delici': 3295, 'whip': 3296, 'destini': 3297, 'leap': 3298, 'bottl': 3299, 'mystic': 3300, 'bull': 3301, 'shade': 3302, 'audio': 3303, 'racial': 3304, 'nicholson': 3305, 'yellow': 3306, 'tommi': 3307, 'enterpris': 3308, 'blake': 3309, 'spit': 3310, 'popcorn': 3311, 'staff': 3312, 'inherit': 3313, 'reunit': 3314, 'merci': 3315, 'altogeth': 3316, 'fonda': 3317, 'enchant': 3318, 'todd': 3319, 'visibl': 3320, 'pseudo': 3321, 'harder': 3322, 'vivid': 3323, 'swedish': 3324, 'bedroom': 3325, 'threw': 3326, 'meaningless': 3327, 'neo': 3328, 'adolesc': 3329, 'fanat': 3330, 'wire': 3331, 'synopsi': 3332, 'bust': 3333, 'await': 3334, 'decor': 3335, 'respond': 3336, 'exhibit': 3337, 'jew': 3338, 'suspici': 3339, 'edi': 3340, 'moodi': 3341, 'lemmon': 3342, 'uneven': 3343, 'crocodil': 3344, 'befriend': 3345, 'tip': 3346, 'reserv': 3347, 'kennedi': 3348, 'ruthless': 3349, 'lawrenc': 3350, 'madonna': 3351, 'roommat': 3352, 'leonard': 3353, 'atlanti': 3354, 'voight': 3355, 'bradi': 3356, 'bold': 3357, 'rural': 3358, 'chao': 3359, 'audit': 3360, 'bargain': 3361, 'abysm': 3362, 'centr': 3363, 'garner': 3364, '2007': 3365, 'ventur': 3366, 'incident': 3367, 'carl': 3368, 'clumsi': 3369, 'dimens': 3370, 'voyag': 3371, 'clint': 3372, 'unsettl': 3373, 'holli': 3374, 'palma': 3375, '2nd': 3376, 'troop': 3377, 'versu': 3378, 'humili': 3379, 'ant': 3380, 'neglect': 3381, 'cd': 3382, 'nearbi': 3383, 'mall': 3384, 'wealth': 3385, 'acknowledg': 3386, 'cari': 3387, 'cuba': 3388, 'echo': 3389, 'trail': 3390, 'characterist': 3391, 'immigr': 3392, 'lit': 3393, 'elimin': 3394, 'poetic': 3395, 'timon': 3396, 'imperson': 3397, 'daddi': 3398, 'tiger': 3399, 'hart': 3400, 'mistaken': 3401, 'mickey': 3402, 'saga': 3403, 'marshal': 3404, 'repuls': 3405, 'jeffrey': 3406, 'celluloid': 3407, 'infect': 3408, 'domest': 3409, 'pun': 3410, 'prejudic': 3411, 'solo': 3412, 'paus': 3413, 'homer': 3414, 'collaps': 3415, 'gear': 3416, 'assembl': 3417, 'apolog': 3418, 'milk': 3419, 'coat': 3420, 'inan': 3421, 'interrupt': 3422, 'cake': 3423, 'undoubtedli': 3424, 'tribe': 3425, 'coffe': 3426, 'pant': 3427, 'inappropri': 3428, 'leon': 3429, 'promin': 3430, 'olivi': 3431, '1996': 3432, 'equip': 3433, 'hbo': 3434, 'sore': 3435, 'chest': 3436, 'harvey': 3437, 'ginger': 3438, 'airplan': 3439, 'colleagu': 3440, 'exot': 3441, 'vulgar': 3442, 'brooklyn': 3443, 'highest': 3444, 'institut': 3445, 'pen': 3446, 'primari': 3447, 'retain': 3448, 'furthermor': 3449, 'consum': 3450, 'polanski': 3451, 'solut': 3452, 'humbl': 3453, 'devast': 3454, 'trace': 3455, 'aveng': 3456, 'jenni': 3457, 'maggi': 3458, 'pot': 3459, 'colonel': 3460, 'instant': 3461, 'florida': 3462, 'embrac': 3463, 'poke': 3464, 'bowl': 3465, 'illog': 3466, 'gender': 3467, 'rick': 3468, '3rd': 3469, 'ya': 3470, 'dutch': 3471, 'sale': 3472, 'wive': 3473, '1999': 3474, 'cope': 3475, 'strain': 3476, 'dian': 3477, 'linda': 3478, 'principl': 3479, 'outer': 3480, 'descend': 3481, 'godzilla': 3482, 'seduct': 3483, 'disabl': 3484, 'smaller': 3485, 'glamor': 3486, 'rabbit': 3487, 'devoid': 3488, 'hal': 3489, 'vast': 3490, 'blatant': 3491, 'lol': 3492, 'mixtur': 3493, 'dud': 3494, 'cue': 3495, 'scope': 3496, 'inferior': 3497, 'dive': 3498, 'primarili': 3499, 'secondli': 3500, 'bubbl': 3501, 'yard': 3502, 'gloriou': 3503, 'gundam': 3504, 'beneath': 3505, 'predecessor': 3506, 'breed': 3507, 'z': 3508, 'myer': 3509, 'talki': 3510, 'streep': 3511, 'et': 3512, 'simplist': 3513, 'senseless': 3514, 'shirley': 3515, 'alert': 3516, 'pearl': 3517, 'casual': 3518, 'april': 3519, 'countrysid': 3520, 'arab': 3521, 'domino': 3522, 'aggress': 3523, 'hideou': 3524, 'trademark': 3525, 'invas': 3526, 'disjoint': 3527, 'museum': 3528, 'shelf': 3529, 'grinch': 3530, 'alfr': 3531, 'garbo': 3532, 'acid': 3533, 'illeg': 3534, 'robinson': 3535, 'loyal': 3536, 'sh': 3537, 'applaud': 3538, 'stellar': 3539, 'defens': 3540, 'obtain': 3541, 'disgrac': 3542, 'maci': 3543, 'uwe': 3544, 'stack': 3545, 'experiment': 3546, 'robberi': 3547, 'unhappi': 3548, 'stir': 3549, 'boom': 3550, 'slide': 3551, 'khan': 3552, 'vanish': 3553, 'mayor': 3554, 'mail': 3555, 'rendit': 3556, 'oz': 3557, 'hardcor': 3558, 'hopeless': 3559, 'wont': 3560, 'fri': 3561, 'berlin': 3562, 'declin': 3563, 'emphasi': 3564, 'dismiss': 3565, 'blew': 3566, 'spider': 3567, 'scroog': 3568, 'dicken': 3569, 'psychic': 3570, 'incomprehens': 3571, 'amanda': 3572, 'soccer': 3573, 'span': 3574, 'topless': 3575, 'rifl': 3576, 'diana': 3577, 'tempt': 3578, 'craze': 3579, 'grandfath': 3580, 'recruit': 3581, 'counter': 3582, 'tenant': 3583, 'hartley': 3584, 'ethnic': 3585, 'intim': 3586, 'ration': 3587, 'trashi': 3588, 'justin': 3589, 'resurrect': 3590, 'shaw': 3591, 'niro': 3592, 'sibl': 3593, 'parad': 3594, 'revolt': 3595, 'wet': 3596, 'bitch': 3597, 'faster': 3598, 'woo': 3599, 'lumet': 3600, 'shed': 3601, 'riot': 3602, 'sympath': 3603, 'goer': 3604, 'porno': 3605, 'patriot': 3606, 'slick': 3607, 'wheel': 3608, 'weakest': 3609, 'nephew': 3610, 'ballet': 3611, 'wendi': 3612, 'biographi': 3613, 'dealer': 3614, 'worm': 3615, 'jonathan': 3616, 'ensur': 3617, 'region': 3618, 'immort': 3619, 'honesti': 3620, 'partial': 3621, 'mario': 3622, 'unreal': 3623, 'gap': 3624, '00': 3625, 'feminist': 3626, 'enlighten': 3627, 'rider': 3628, 'hesit': 3629, 'commend': 3630, 'choru': 3631, 'steam': 3632, 'eager': 3633, 'andr': 3634, 'farmer': 3635, 'hopper': 3636, 'lena': 3637, 'repress': 3638, 'prequel': 3639, 'safeti': 3640, 'sappi': 3641, 'leo': 3642, 'psychopath': 3643, 'morri': 3644, 'composit': 3645, 'kingdom': 3646, 'wore': 3647, 'victori': 3648, 'confin': 3649, 'sandra': 3650, 'charlott': 3651, 'skull': 3652, 'util': 3653, 'vice': 3654, 'franco': 3655, 'properti': 3656, 'blunt': 3657, 'nostalg': 3658, 'snap': 3659, 'hung': 3660, 'similarli': 3661, 'mutant': 3662, 'owen': 3663, 'macarthur': 3664, 'nervou': 3665, 'acquir': 3666, 'compass': 3667, 'cg': 3668, 'bow': 3669, 'bumbl': 3670, 'del': 3671, 'bergman': 3672, 'dalton': 3673, 'latin': 3674, 'heartbreak': 3675, 'emperor': 3676, 'kyle': 3677, 'farrel': 3678, 'dust': 3679, 'rocki': 3680, 'rambl': 3681, 'valuabl': 3682, '1972': 3683, 'drum': 3684, 'whoopi': 3685, 'rope': 3686, 'repli': 3687, 'drain': 3688, 'strand': 3689, 'montana': 3690, 'bonu': 3691, 'compens': 3692, 'deed': 3693, 'snl': 3694, 'pattern': 3695, 'despair': 3696, 'exit': 3697, 'thru': 3698, 'recycl': 3699, 'hyde': 3700, 'miseri': 3701, 'tail': 3702, 'campbel': 3703, 'speci': 3704, 'tad': 3705, 'romp': 3706, 'pour': 3707, 'tonight': 3708, 'mistress': 3709, 'rotten': 3710, 'chess': 3711, '35': 3712, 'downhil': 3713, 'airport': 3714, 'carradin': 3715, 'gimmick': 3716, 'da': 3717, 'percept': 3718, 'orson': 3719, 'wacki': 3720, 'olli': 3721, 'roth': 3722, 'oppress': 3723, 'martian': 3724, 'bleed': 3725, 'gal': 3726, 'contempl': 3727, 'rapist': 3728, 'radic': 3729, 'slug': 3730, 'dazzl': 3731, 'arc': 3732, 'mislead': 3733, 'banal': 3734, 'preach': 3735, 'shelley': 3736, 'edgar': 3737, 'pursuit': 3738, 'heal': 3739, 'unpredict': 3740, 'champion': 3741, 'taught': 3742, 'programm': 3743, 'melodi': 3744, 'pervers': 3745, 'tooth': 3746, 'arguabl': 3747, 'stilt': 3748, 'slash': 3749, 'paltrow': 3750, 'belt': 3751, 'tackl': 3752, '1983': 3753, 'pervert': 3754, 'attorney': 3755, 'dixon': 3756, 'vengeanc': 3757, 'gambl': 3758, 'plight': 3759, 'cleverli': 3760, 'orang': 3761, 'raymond': 3762, 'conneri': 3763, 'graham': 3764, 'uplift': 3765, 'bela': 3766, 'passeng': 3767, 'mesmer': 3768, 'maid': 3769, 'sensat': 3770, 'tiresom': 3771, 'closest': 3772, 'marti': 3773, 'duval': 3774, 'chicken': 3775, 'franki': 3776, 'poem': 3777, 'employe': 3778, 'vocal': 3779, 'virginia': 3780, 'rubi': 3781, 'lundgren': 3782, 'extens': 3783, 'volum': 3784, 'paranoia': 3785, 'clone': 3786, 'inject': 3787, 'mute': 3788, 'engross': 3789, 'climact': 3790, 'giggl': 3791, 'habit': 3792, 'suffic': 3793, 'tube': 3794, 'whine': 3795, 'crystal': 3796, 'abraham': 3797, 'calm': 3798, 'yawn': 3799, 'outing': 3800, '1968': 3801, 'gerard': 3802, 'quarter': 3803, 'numb': 3804, 'sirk': 3805, 'monologu': 3806, 'scottish': 3807, 'secretli': 3808, 'pokemon': 3809, 'convincingli': 3810, 'swallow': 3811, 'bay': 3812, 'profan': 3813, 'amitabh': 3814, 'iran': 3815, 'plod': 3816, 'profess': 3817, 'bend': 3818, 'trend': 3819, 'expand': 3820, 'underst': 3821, 'septemb': 3822, 'grotesqu': 3823, 'fed': 3824, 'frankenstein': 3825, 'im': 3826, 'linger': 3827, 'chicago': 3828, 'backward': 3829, 'ethan': 3830, 'surpass': 3831, 'franci': 3832, 'lowest': 3833, 'meander': 3834, 'richardson': 3835, 'abort': 3836, 'earl': 3837, 'taxi': 3838, 'junior': 3839, 'dispos': 3840, 'nichola': 3841, 'poetri': 3842, 'austen': 3843, 'spock': 3844, 'waitress': 3845, 'muddl': 3846, 'spoke': 3847, 'eugen': 3848, 'household': 3849, 'hum': 3850, 'instrument': 3851, 'rubber': 3852, 'sue': 3853, 'mundan': 3854, 'compliment': 3855, 'tourist': 3856, 'simplic': 3857, 'greedi': 3858, 'myth': 3859, 'der': 3860, 'rant': 3861, 'nostalgia': 3862, 'stallon': 3863, 'literatur': 3864, 'catchi': 3865, 'dysfunct': 3866, 'econom': 3867, 'cannon': 3868, 'descent': 3869, 'lure': 3870, 'phoni': 3871, 'cent': 3872, 'firstli': 3873, 'furi': 3874, 'dement': 3875, 'recognis': 3876, 'duck': 3877, 'damon': 3878, 'lang': 3879, 'coast': 3880, 'eaten': 3881, 'equival': 3882, 'irrelev': 3883, 'phantom': 3884, 'sissi': 3885, 'mortal': 3886, 'insur': 3887, 'stale': 3888, 'june': 3889, 'mankind': 3890, 'omen': 3891, 'hello': 3892, 'alongsid': 3893, 'louis': 3894, 'molli': 3895, 'map': 3896, 'dictat': 3897, 'bacal': 3898, 'flee': 3899, 'deaf': 3900, 'occupi': 3901, 'randi': 3902, 'recognit': 3903, 'crucial': 3904, 'carel': 3905, 'cyborg': 3906, 'wisdom': 3907, 'labor': 3908, 'grayson': 3909, 'damm': 3910, 'distinguish': 3911, 'dreari': 3912, 'lengthi': 3913, 'ashley': 3914, 'daisi': 3915, 'rude': 3916, 'onlin': 3917, 'twilight': 3918, 'blackmail': 3919, 'freez': 3920, 'heel': 3921, 'bump': 3922, 'newli': 3923, '1973': 3924, 'bike': 3925, 'reign': 3926, 'buffalo': 3927, 'drake': 3928, 'loyalti': 3929, 'likewis': 3930, 'biko': 3931, 'antwon': 3932, 'rooney': 3933, 'boxer': 3934, 'proce': 3935, 'sailor': 3936, 'chronicl': 3937, 'approv': 3938, 'incorpor': 3939, 'provoc': 3940, 'attribut': 3941, 'tunnel': 3942, 'baddi': 3943, 'worn': 3944, 'vein': 3945, 'prey': 3946, 'emphas': 3947, 'keith': 3948, 'interior': 3949, 'nineti': 3950, 'basketbal': 3951, 'exposur': 3952, 'inher': 3953, 'barrymor': 3954, 'pink': 3955, 'analysi': 3956, 'butler': 3957, 'startl': 3958, 'ridden': 3959, 'unorigin': 3960, 'degrad': 3961, 'improvis': 3962, 'substitut': 3963, 'meg': 3964, 'condemn': 3965, 'elm': 3966, 'meyer': 3967, 'hypnot': 3968, 'drift': 3969, 'robbin': 3970, 'belushi': 3971, 'underli': 3972, 'predat': 3973, 'undeni': 3974, 'stalker': 3975, 'er': 3976, 'julian': 3977, 'barrel': 3978, 'mighti': 3979, 'bunni': 3980, 'millionair': 3981, 'fleet': 3982, 'mormon': 3983, 'unrel': 3984, 'indiffer': 3985, 'othello': 3986, 'walsh': 3987, 'carla': 3988, 'simmon': 3989, 'nicol': 3990, 'alarm': 3991, 'shove': 3992, 'dolph': 3993, 'watson': 3994, 'exquisit': 3995, 'agenda': 3996, '3d': 3997, 'palac': 3998, 'hay': 3999, 'unawar': 4000, 'rukh': 4001, 'greed': 4002, 'firm': 4003, 'errol': 4004, 'vital': 4005, 'mtv': 4006, 'novak': 4007, 'reid': 4008, 'priceless': 4009, 'warmth': 4010, 'marion': 4011, 'roof': 4012, 'enthusiasm': 4013, 'alison': 4014, 'nyc': 4015, 'edgi': 4016, 'disord': 4017, 'lampoon': 4018, 'peril': 4019, 'gestur': 4020, 'thompson': 4021, 'drip': 4022, 'pamela': 4023, 'crown': 4024, 'unleash': 4025, 'spain': 4026, 'orlean': 4027, 'distort': 4028, 'israel': 4029, 'campaign': 4030, 'preserv': 4031, 'session': 4032, 'glanc': 4033, 'ponder': 4034, 'what': 4035, 'minimum': 4036, '13th': 4037, 'randomli': 4038, 'peck': 4039, 'testament': 4040, 'championship': 4041, 'angela': 4042, 'nun': 4043, 'profit': 4044, 'iraq': 4045, 'eastern': 4046, 'valentin': 4047, 'sergeant': 4048, '1933': 4049, 'beatl': 4050, 'showdown': 4051, 'petti': 4052, 'coup': 4053, 'simultan': 4054, 'cassidi': 4055, 'zizek': 4056, 'bro': 4057, 'rout': 4058, 'regist': 4059, 'unimagin': 4060, 'contradict': 4061, 'kurosawa': 4062, 'quinn': 4063, 'wig': 4064, 'scotland': 4065, 'valley': 4066, 'perpetu': 4067, 'han': 4068, 'represent': 4069, 'reson': 4070, 'miyazaki': 4071, 'gentleman': 4072, 'empathi': 4073, 'buster': 4074, 'crawl': 4075, 'stroke': 4076, 'cooki': 4077, 'cream': 4078, 'shootout': 4079, 'climat': 4080, 'mon': 4081, 'stake': 4082, 'exposit': 4083, 'fido': 4084, 'calib': 4085, 'restrain': 4086, '1984': 4087, 'jan': 4088, 'realm': 4089, 'brenda': 4090, 'sabrina': 4091, 'crow': 4092, 'travesti': 4093, 'din': 4094, 'distress': 4095, 'dana': 4096, 'sammi': 4097, 'fuller': 4098, 'censor': 4099, 'pretens': 4100, 'absent': 4101, 'perceiv': 4102, 'sucker': 4103, 'spacey': 4104, 'cloud': 4105, 'soderbergh': 4106, 'shaki': 4107, 'compromis': 4108, 'crawford': 4109, 'pole': 4110, '1987': 4111, 'warrant': 4112, 'painter': 4113, 'ross': 4114, 'demis': 4115, 'josh': 4116, '1997': 4117, 'darren': 4118, 'monoton': 4119, 'abomin': 4120, 'greg': 4121, 'wax': 4122, 'derang': 4123, 'shoddi': 4124, 'mclaglen': 4125, 'delic': 4126, 'baldwin': 4127, 'businessman': 4128, 'unseen': 4129, 'meryl': 4130, 'geek': 4131, 'traumat': 4132, 'ustinov': 4133, 'passabl': 4134, 'tacki': 4135, 'unsatisfi': 4136, 'femm': 4137, 'stargat': 4138, 'correctli': 4139, 'exclus': 4140, '1993': 4141, 'anchor': 4142, 'jewel': 4143, 'expedit': 4144, 'tarantino': 4145, 'fog': 4146, 'furiou': 4147, 'austin': 4148, 'uncov': 4149, 'judgment': 4150, 'fenc': 4151, 'wholli': 4152, 'click': 4153, 'antonioni': 4154, 'clash': 4155, 'seal': 4156, 'polici': 4157, 'norm': 4158, 'nathan': 4159, 'valid': 4160, 'deniro': 4161, 'tech': 4162, 'kumar': 4163, 'verbal': 4164, 'accuraci': 4165, 'primit': 4166, 'reluct': 4167, 'unravel': 4168, 'dee': 4169, 'deceas': 4170, 'sid': 4171, 'temper': 4172, 'sheet': 4173, 'slam': 4174, 'debt': 4175, 'pocket': 4176, 'sustain': 4177, 'roller': 4178, 'wretch': 4179, 'darn': 4180, 'unfair': 4181, 'wang': 4182, 'sunni': 4183, 'clerk': 4184, 'fart': 4185, '3000': 4186, 'behold': 4187, '1971': 4188, 'seldom': 4189, 'logan': 4190, 'hallucin': 4191, 'trait': 4192, 'joel': 4193, 'alec': 4194, 'murray': 4195, 'nicola': 4196, 'conduct': 4197, 'malon': 4198, 'ritual': 4199, 'dreck': 4200, 'patienc': 4201, '1995': 4202, 'tax': 4203, 'fabric': 4204, 'fought': 4205, 'crippl': 4206, 'enforc': 4207, 'bake': 4208, 'vanc': 4209, 'shanghai': 4210, 'mode': 4211, 'sand': 4212, '2008': 4213, 'penni': 4214, 'outlin': 4215, 'runner': 4216, 'legaci': 4217, 'sweep': 4218, 'fundament': 4219, 'shell': 4220, 'divid': 4221, 'exhaust': 4222, 'preposter': 4223, 'squad': 4224, 'bias': 4225, 'conscious': 4226, 'preston': 4227, 'scriptwrit': 4228, 'phil': 4229, 'robber': 4230, 'schedul': 4231, 'despis': 4232, 'guitar': 4233, 'stark': 4234, 'tactic': 4235, 'stuart': 4236, 'soup': 4237, 'grief': 4238, 'technicolor': 4239, 'isabel': 4240, 'bridget': 4241, 'helpless': 4242, 'canyon': 4243, 'pete': 4244, 'critiqu': 4245, 'rita': 4246, 'clau': 4247, 'jacket': 4248, 'russia': 4249, 'unexpectedli': 4250, 'lacklust': 4251, 'marc': 4252, 'bloom': 4253, 'culmin': 4254, 'propos': 4255, 'drove': 4256, 'agenc': 4257, 'alley': 4258, 'restrict': 4259, 'consciou': 4260, 'rear': 4261, 'implic': 4262, 'flair': 4263, 'liberti': 4264, 'vomit': 4265, 'invad': 4266, 'gregori': 4267, 'delv': 4268, 'downey': 4269, 'jodi': 4270, 'kansa': 4271, 'newman': 4272, 'passag': 4273, 'boyl': 4274, 'cigarett': 4275, 'inabl': 4276, 'palanc': 4277, 'alicia': 4278, 'sugar': 4279, 'rehash': 4280, 'sniper': 4281, 'connor': 4282, 'sentinel': 4283, 'karl': 4284, 'delet': 4285, 'aesthet': 4286, 'mccoy': 4287, 'cap': 4288, 'yeti': 4289, 'awhil': 4290, 'ladder': 4291, 'sharon': 4292, 'improb': 4293, 'kolchak': 4294, '22': 4295, 'chainsaw': 4296, 'wrench': 4297, 'tripe': 4298, 'tendenc': 4299, 'bacon': 4300, '1936': 4301, 'lush': 4302, 'behaviour': 4303, 'rehears': 4304, 'rod': 4305, 'feat': 4306, 'foxx': 4307, 'pale': 4308, 'arrow': 4309, 'vet': 4310, 'rampag': 4311, 'asylum': 4312, 'horn': 4313, 'lurk': 4314, 'spice': 4315, 'visitor': 4316, 'suspicion': 4317, 'filler': 4318, 'tasteless': 4319, 'tomorrow': 4320, 'elit': 4321, 'coaster': 4322, 'paradis': 4323, 'loneli': 4324, 'amazon': 4325, 'el': 4326, 'thunderbird': 4327, 'stream': 4328, 'sung': 4329, 'paramount': 4330, 'rumor': 4331, 'suffici': 4332, 'globe': 4333, 'rhythm': 4334, 'minu': 4335, 'hackney': 4336, 'financ': 4337, '1920': 4338, '1988': 4339, 'wildli': 4340, 'basing': 4341, 'prank': 4342, '19th': 4343, 'shortcom': 4344, 'underneath': 4345, 'conscienc': 4346, 'scoop': 4347, '1978': 4348, 'hungri': 4349, 'wagner': 4350, 'weav': 4351, 'newcom': 4352, 'fright': 4353, 'aristocrat': 4354, 'hulk': 4355, 'brit': 4356, 'entranc': 4357, 'naughti': 4358, 'tierney': 4359, 'beverli': 4360, '75': 4361, 'cancer': 4362, 'dirt': 4363, 'abrupt': 4364, 'curli': 4365, 'teas': 4366, 'lectur': 4367, 'straightforward': 4368, 'paxton': 4369, 'immers': 4370, '1939': 4371, '1989': 4372, 'quietli': 4373, 'posey': 4374, 'chamberlain': 4375, 'leigh': 4376, 'en': 4377, 'ingeni': 4378, 'atroc': 4379, 'worship': 4380, 'impos': 4381, 'secondari': 4382, 'couch': 4383, 'inmat': 4384, 'penn': 4385, 'minist': 4386, 'standout': 4387, 'hopkin': 4388, 'recogniz': 4389, 'literari': 4390, 'smell': 4391, 'heist': 4392, 'ram': 4393, 'counterpart': 4394, 'wwe': 4395, 'grudg': 4396, 'bread': 4397, 'choppi': 4398, 'rub': 4399, 'iv': 4400, 'springer': 4401, 'chavez': 4402, 'moreov': 4403, 'missil': 4404, 'quaid': 4405, 'sublim': 4406, 'ace': 4407, 'sassi': 4408, 'net': 4409, 'skeptic': 4410, 'heartfelt': 4411, 'convert': 4412, 'nemesi': 4413, 'clan': 4414, 'injuri': 4415, 'lindsay': 4416, 'watcher': 4417, 'variat': 4418, 'laurenc': 4419, 'esther': 4420, 'bernard': 4421, 'enthral': 4422, 'morbid': 4423, 'misguid': 4424, 'policeman': 4425, 'cattl': 4426, 'entitl': 4427, 'nolan': 4428, 'ratso': 4429, '1986': 4430, 'geni': 4431, 'attenborough': 4432, 'yearn': 4433, 'duel': 4434, 'transcend': 4435, 'egg': 4436, 'hopelessli': 4437, 'youngest': 4438, 'graini': 4439, 'characteris': 4440, 'setup': 4441, 'steadi': 4442, 'tyler': 4443, 'grin': 4444, 'moder': 4445, 'facil': 4446, 'diari': 4447, 'unexplain': 4448, 'rosemari': 4449, 'puppi': 4450, 'dont': 4451, 'bye': 4452, 'hk': 4453, 'brood': 4454, '1979': 4455, 'spiral': 4456, 'artsi': 4457, 'enabl': 4458, 'kitti': 4459, 'reliabl': 4460, 'mytholog': 4461, 'cruelti': 4462, 'vader': 4463, 'bean': 4464, 'obstacl': 4465, 'poe': 4466, 'buzz': 4467, 'out': 4468, 'uncut': 4469, 'carlito': 4470, 'kidman': 4471, 'bronson': 4472, 'weather': 4473, 'preming': 4474, 'fuel': 4475, 'disastr': 4476, 'baffl': 4477, 'effici': 4478, 'exterior': 4479, 'decept': 4480, 'spontan': 4481, 'sweat': 4482, 'clueless': 4483, 'oblig': 4484, 'patricia': 4485, 'gina': 4486, 'martha': 4487, 'christin': 4488, '1969': 4489, 'hain': 4490, 'underworld': 4491, 'athlet': 4492, 'hammi': 4493, 'narrow': 4494, 'kline': 4495, 'bounc': 4496, 'acquaint': 4497, 'despic': 4498, 'heap': 4499, 'bewar': 4500, 'brendan': 4501, 'gillian': 4502, 'niec': 4503, 'uh': 4504, 'scar': 4505, 'fontain': 4506, 'sooner': 4507, 'circu': 4508, 'mayhem': 4509, 'loath': 4510, 'goof': 4511, 'rome': 4512, 'mermaid': 4513, 'candl': 4514, 'viewpoint': 4515, 'angst': 4516, 'trigger': 4517, 'insipid': 4518, 'hepburn': 4519, 'harmless': 4520, 'astound': 4521, 'renaiss': 4522, '19': 4523, 'headach': 4524, 'outlaw': 4525, 'taboo': 4526, 'virtu': 4527, 'lester': 4528, 'shatter': 4529, 'sleepwalk': 4530, 'tick': 4531, 'suprem': 4532, 'enlist': 4533, 'loi': 4534, 'housewif': 4535, 'dilemma': 4536, 'preachi': 4537, 'injur': 4538, 'dandi': 4539, '73': 4540, 'analyz': 4541, 'biker': 4542, 'spade': 4543, 'whore': 4544, 'bent': 4545, 'stimul': 4546, 'amor': 4547, 'sox': 4548, 'oldest': 4549, 'immatur': 4550, 'redund': 4551, 'contempt': 4552, 'fluff': 4553, 'macho': 4554, 'hokey': 4555, 'dish': 4556, 'phenomenon': 4557, 'glorifi': 4558, 'surgeri': 4559, 'hostag': 4560, 'claustrophob': 4561, 'corbett': 4562, 'tripl': 4563, 'idol': 4564, 'zoom': 4565, 'boston': 4566, 'steer': 4567, 'filth': 4568, 'ariel': 4569, 'guin': 4570, 'salt': 4571, 'overlong': 4572, 'dismal': 4573, 'stair': 4574, 'intric': 4575, 'foolish': 4576, 'scorses': 4577, 'hooker': 4578, 'ebert': 4579, 'slimi': 4580, 'cassavet': 4581, 'gere': 4582, 'camcord': 4583, 'preced': 4584, 'flag': 4585, 'fascist': 4586, 'strongest': 4587, 'schlock': 4588, 'naschi': 4589, 'cow': 4590, 'remad': 4591, 'mount': 4592, 'transplant': 4593, 'antagonist': 4594, 'faint': 4595, 'keen': 4596, 'dwarf': 4597, 'frantic': 4598, 'margin': 4599, 'cohen': 4600, 'trivia': 4601, 'flirt': 4602, 'gasp': 4603, 'obligatori': 4604, 'flashi': 4605, 'spinal': 4606, 'mutual': 4607, 'shred': 4608, 'perman': 4609, 'proport': 4610, 'rhyme': 4611, 'joker': 4612, 'messi': 4613, 'nolt': 4614, 'shield': 4615, 'harold': 4616, 'gabl': 4617, '1981': 4618, 'beard': 4619, 'zane': 4620, '1976': 4621, 'assert': 4622, 'down': 4623, 'muscl': 4624, 'cush': 4625, 'conquer': 4626, 'spree': 4627, 'corman': 4628, 'astronaut': 4629, 'radiat': 4630, 'widescreen': 4631, 'alvin': 4632, 'boob': 4633, 'repris': 4634, 'departur': 4635, 'resum': 4636, 'strive': 4637, 'claud': 4638, 'someday': 4639, 'archiv': 4640, 'bitten': 4641, 'instruct': 4642, 'persuad': 4643, 'sensual': 4644, '95': 4645, 'vaniti': 4646, 'triangl': 4647, 'aborigin': 4648, 'www': 4649, 'inflict': 4650, 'off': 4651, 'barn': 4652, 'ritchi': 4653, 'fishburn': 4654, '1945': 4655, 'danish': 4656, 'info': 4657, 'divin': 4658, 'mol': 4659, 'bachelor': 4660, 'deer': 4661, 'neurot': 4662, 'brush': 4663, 'raj': 4664, 'interestingli': 4665, 'discern': 4666, '28': 4667, 'mobil': 4668, 'scandal': 4669, 'wield': 4670, 'carey': 4671, 'flock': 4672, 'hara': 4673, 'hug': 4674, 'mobster': 4675, 'dame': 4676, 'cb': 4677, 'pixar': 4678, 'kathryn': 4679, 'rot': 4680, 'hilar': 4681, 'axe': 4682, 'loretta': 4683, 'luka': 4684, 'hapless': 4685, 'senior': 4686, 'melissa': 4687, 'heartwarm': 4688, 'traffic': 4689, 'timberlak': 4690, 'colin': 4691, 'bate': 4692, 'recit': 4693, 'dylan': 4694, 'helm': 4695, 'banter': 4696, 'jade': 4697, 'casino': 4698, 'fragil': 4699, 'ish': 4700, 'cliffhang': 4701, 'biblic': 4702, 'prophet': 4703, 'submit': 4704, 'undermin': 4705, 'vibrant': 4706, 'parson': 4707, 'dim': 4708, 'harrison': 4709, 'frontier': 4710, 'neill': 4711, 'pacif': 4712, 'clad': 4713, 'carlo': 4714, 'earnest': 4715, 'cher': 4716, 'miracul': 4717, 'wendigo': 4718, 'proclaim': 4719, 'europa': 4720, 'cycl': 4721, 'anton': 4722, 'artwork': 4723, 'pickford': 4724, 'static': 4725, 'alexandr': 4726, 'rooki': 4727, 'pc': 4728, 'orphan': 4729, 'northern': 4730, 'mason': 4731, 'aris': 4732, 'electron': 4733, 'jo': 4734, 'lui': 4735, 'breakfast': 4736, 'toronto': 4737, 'uma': 4738, 'marlon': 4739, 'razor': 4740, 'cerebr': 4741, 'venom': 4742, 'illus': 4743, 'nope': 4744, 'shepherd': 4745, 'feast': 4746, 'isra': 4747, 'seedi': 4748, 'wardrob': 4749, 'winchest': 4750, 'choke': 4751, 'holocaust': 4752, 'flavor': 4753, 'http': 4754, 'lucil': 4755, 'trier': 4756, 'vile': 4757, 'misfortun': 4758, 'blatantli': 4759, 'foil': 4760, 'legitim': 4761, 'bikini': 4762, 'vanessa': 4763, 'antholog': 4764, 'redneck': 4765, 'articl': 4766, 'jordan': 4767, 'token': 4768, 'estrang': 4769, 'bondag': 4770, 'eli': 4771, 'sicken': 4772, 'akin': 4773, 'milo': 4774, 'mathieu': 4775, 'oppon': 4776, 'glare': 4777, 'retriev': 4778, 'fifth': 4779, 'howl': 4780, 'clinic': 4781, 'charlton': 4782, 'boyer': 4783, 'comprehend': 4784, 'disregard': 4785, 'gilbert': 4786, 'peer': 4787, 'shorter': 4788, 'swept': 4789, 'audrey': 4790, 'styliz': 4791, 'nightclub': 4792, 'huston': 4793, 'cartoonish': 4794, 'knightley': 4795, 'feminin': 4796, 'frog': 4797, 'psych': 4798, 'outdat': 4799, 'affleck': 4800, 'ceremoni': 4801, 'smack': 4802, 'highway': 4803, 'dudley': 4804, 'turd': 4805, 'deem': 4806, 'tack': 4807, 'ideolog': 4808, 'linear': 4809, 'wrestler': 4810, 'magician': 4811, 'abund': 4812, 'leather': 4813, 'gunga': 4814, 'plate': 4815, 'einstein': 4816, 'phenomen': 4817, 'chip': 4818, 'btw': 4819, 'evolut': 4820, 'collector': 4821, 'client': 4822, 'monument': 4823, 'summar': 4824, 'energet': 4825, 'greet': 4826, 'compris': 4827, 'salman': 4828, 'moe': 4829, 'spawn': 4830, 'potter': 4831, 'lifeless': 4832, 'tara': 4833, 'cemeteri': 4834, 'lighter': 4835, 'spine': 4836, '4th': 4837, 'cuban': 4838, 'breakdown': 4839, 'corn': 4840, 'mitch': 4841, 'durat': 4842, 'conrad': 4843, 'lavish': 4844, 'braveheart': 4845, 'whack': 4846, 'bastard': 4847, 'uniformli': 4848, 'sleaz': 4849, 'snatch': 4850, 'bogu': 4851, 'deliver': 4852, 'toe': 4853, '1991': 4854, '1994': 4855, 'boo': 4856, 'newer': 4857, 'senat': 4858, 'goldsworthi': 4859, 'spectacl': 4860, 'signal': 4861, 'jule': 4862, 'kazan': 4863, 'armstrong': 4864, 'creek': 4865, 'eleven': 4866, 'outright': 4867, 'cecil': 4868, 'liu': 4869, 'pronounc': 4870, 'jam': 4871, 'inaccuraci': 4872, 'healthi': 4873, 'bori': 4874, 'fluid': 4875, 'undertak': 4876, 'bulk': 4877, 'firmli': 4878, 'ol': 4879, '1974': 4880, 'constitut': 4881, 'undead': 4882, 'historian': 4883, 'trauma': 4884, 'judd': 4885, 'embark': 4886, 'sorrow': 4887, 'neatli': 4888, 'luxuri': 4889, '1977': 4890, 'occup': 4891, 'capot': 4892, 'wtf': 4893, 'jedi': 4894, 'replay': 4895, 'alleg': 4896, 'nina': 4897, 'belli': 4898, 'ie': 4899, 'randolph': 4900, 'appl': 4901, 'lex': 4902, 'kent': 4903, 'mcqueen': 4904, 'gilliam': 4905, 'clara': 4906, 'evelyn': 4907, 'jare': 4908, 'subtli': 4909, 'sidewalk': 4910, 'pioneer': 4911, 'lanc': 4912, 'inclus': 4913, 'cape': 4914, 'id': 4915, 'walt': 4916, 'sacrif': 4917, 'relentless': 4918, 'mum': 4919, 'tokyo': 4920, 'forgiven': 4921, 'comb': 4922, 'inaccur': 4923, 'meal': 4924, 'poker': 4925, 'groan': 4926, 'knee': 4927, 'unattract': 4928, 'spray': 4929, 'aussi': 4930, 'curtain': 4931, 'paula': 4932, 'vain': 4933, 'palm': 4934, 'roar': 4935, 'congratul': 4936, 'antonio': 4937, 'blur': 4938, 'abound': 4939, 'propheci': 4940, 'carmen': 4941, 'lauren': 4942, 'conan': 4943, 'pepper': 4944, 'comprehens': 4945, 'fruit': 4946, 'ash': 4947, 'truman': 4948, 'goldblum': 4949, 'galaxi': 4950, 'rosario': 4951, 'kiddi': 4952, 'bait': 4953, 'bsg': 4954, 'vignett': 4955, 'miami': 4956, 'decapit': 4957, 'basket': 4958, '1985': 4959, 'miniseri': 4960, 'porter': 4961, 'unsuspect': 4962, 'genet': 4963, 'verg': 4964, 'profil': 4965, 'casper': 4966, 'assort': 4967, 'weaker': 4968, 'asset': 4969, 'optimist': 4970, 'orchestr': 4971, 'monti': 4972, 'motorcycl': 4973, 'dubiou': 4974, 'epitom': 4975, 'omin': 4976, 'drone': 4977, 'victorian': 4978, 'weari': 4979, 'mice': 4980, 'bach': 4981, 'ghetto': 4982, 'modest': 4983, 'masterson': 4984, 'hostil': 4985, 'reincarn': 4986, 'sophi': 4987, 'vastli': 4988, 'evan': 4989, 'playboy': 4990, 'jill': 4991, 'frontal': 4992, 'detach': 4993, 'substanti': 4994, '21st': 4995, 'bravo': 4996, 'handicap': 4997, 'spill': 4998, 'ingrid': 4999}\n"
     ]
    }
   ],
   "source": [
    "print(word_dict)"
   ]
  },
  {
   "cell_type": "markdown",
   "metadata": {},
   "source": [
    "**Question:** What are the five most frequently appearing (tokenized) words in the training set? Does it makes sense that these words appear frequently in the training set?"
   ]
  },
  {
   "cell_type": "markdown",
   "metadata": {},
   "source": [
    "**Answer:** The five most frequently appearing words are movi, film, one, like, time. It makes sence since these are popular words in movie context "
   ]
  },
  {
   "cell_type": "code",
   "execution_count": 55,
   "metadata": {},
   "outputs": [
    {
     "data": {
      "text/plain": [
       "['movi', 'film', 'one', 'like', 'time']"
      ]
     },
     "execution_count": 55,
     "metadata": {},
     "output_type": "execute_result"
    }
   ],
   "source": [
    "# TODO: Use this space to determine the five most frequently appearing words in the training set.\n",
    "list(word_dict)[:5]"
   ]
  },
  {
   "cell_type": "markdown",
   "metadata": {},
   "source": [
    "### Save `word_dict`\n",
    "\n",
    "Later on when we construct an endpoint which processes a submitted review we will need to make use of the `word_dict` which we have created. As such, we will save it to a file now for future use."
   ]
  },
  {
   "cell_type": "code",
   "execution_count": 56,
   "metadata": {},
   "outputs": [],
   "source": [
    "data_dir = '../data/pytorch' # The folder we will use for storing data\n",
    "if not os.path.exists(data_dir): # Make sure that the folder exists\n",
    "    os.makedirs(data_dir)"
   ]
  },
  {
   "cell_type": "code",
   "execution_count": 57,
   "metadata": {},
   "outputs": [],
   "source": [
    "with open(os.path.join(data_dir, 'word_dict.pkl'), \"wb\") as f:\n",
    "    pickle.dump(word_dict, f)"
   ]
  },
  {
   "cell_type": "markdown",
   "metadata": {},
   "source": [
    "### Transform the reviews\n",
    "\n",
    "Now that we have our word dictionary which allows us to transform the words appearing in the reviews into integers, it is time to make use of it and convert our reviews to their integer sequence representation, making sure to pad or truncate to a fixed length, which in our case is `500`."
   ]
  },
  {
   "cell_type": "code",
   "execution_count": 58,
   "metadata": {},
   "outputs": [],
   "source": [
    "def convert_and_pad(word_dict, sentence, pad=500):\n",
    "    NOWORD = 0 # We will use 0 to represent the 'no word' category\n",
    "    INFREQ = 1 # and we use 1 to represent the infrequent words, i.e., words not appearing in word_dict\n",
    "    \n",
    "    working_sentence = [NOWORD] * pad\n",
    "    \n",
    "    for word_index, word in enumerate(sentence[:pad]):\n",
    "        if word in word_dict:\n",
    "            working_sentence[word_index] = word_dict[word]\n",
    "        else:\n",
    "            working_sentence[word_index] = INFREQ\n",
    "            \n",
    "    return working_sentence, min(len(sentence), pad)\n",
    "\n",
    "def convert_and_pad_data(word_dict, data, pad=500):\n",
    "    result = []\n",
    "    lengths = []\n",
    "    \n",
    "    for sentence in data:\n",
    "        converted, leng = convert_and_pad(word_dict, sentence, pad)\n",
    "        result.append(converted)\n",
    "        lengths.append(leng)\n",
    "        \n",
    "    return np.array(result), np.array(lengths)"
   ]
  },
  {
   "cell_type": "code",
   "execution_count": 59,
   "metadata": {},
   "outputs": [],
   "source": [
    "train_X, train_X_len = convert_and_pad_data(word_dict, train_X)\n",
    "test_X, test_X_len = convert_and_pad_data(word_dict, test_X)"
   ]
  },
  {
   "cell_type": "markdown",
   "metadata": {},
   "source": [
    "As a quick check to make sure that things are working as intended, check to see what one of the reviews in the training set looks like after having been processeed. Does this look reasonable? What is the length of a review in the training set?"
   ]
  },
  {
   "cell_type": "code",
   "execution_count": 60,
   "metadata": {},
   "outputs": [
    {
     "data": {
      "text/plain": [
       "array([  29, 2406, 2936,  541,    1,   26,   43, 1275,    1,  265,   29,\n",
       "          1,  267,  907,  427,  124,  111, 1534, 1451,  111,  512,   25,\n",
       "        537, 1749,    1,  140,  202,   96,   84,  233, 1749,   97, 3112,\n",
       "       2258,  325,    1, 2013,  262,  319,  348,  372,   16,  725,    1,\n",
       "          1,  333, 1534, 3376,    6,  758,    5,  393,  436, 1749,  758,\n",
       "       4674,    5,    1, 1420,  228,   99,   16,  885,  797,   17,   99,\n",
       "       1927,   38,    1,  133, 1749,   29,  393,   17,    0,    0,    0,\n",
       "          0,    0,    0,    0,    0,    0,    0,    0,    0,    0,    0,\n",
       "          0,    0,    0,    0,    0,    0,    0,    0,    0,    0,    0,\n",
       "          0,    0,    0,    0,    0,    0,    0,    0,    0,    0,    0,\n",
       "          0,    0,    0,    0,    0,    0,    0,    0,    0,    0,    0,\n",
       "          0,    0,    0,    0,    0,    0,    0,    0,    0,    0,    0,\n",
       "          0,    0,    0,    0,    0,    0,    0,    0,    0,    0,    0,\n",
       "          0,    0,    0,    0,    0,    0,    0,    0,    0,    0,    0,\n",
       "          0,    0,    0,    0,    0,    0,    0,    0,    0,    0,    0,\n",
       "          0,    0,    0,    0,    0,    0,    0,    0,    0,    0,    0,\n",
       "          0,    0,    0,    0,    0,    0,    0,    0,    0,    0,    0,\n",
       "          0,    0,    0,    0,    0,    0,    0,    0,    0,    0,    0,\n",
       "          0,    0,    0,    0,    0,    0,    0,    0,    0,    0,    0,\n",
       "          0,    0,    0,    0,    0,    0,    0,    0,    0,    0,    0,\n",
       "          0,    0,    0,    0,    0,    0,    0,    0,    0,    0,    0,\n",
       "          0,    0,    0,    0,    0,    0,    0,    0,    0,    0,    0,\n",
       "          0,    0,    0,    0,    0,    0,    0,    0,    0,    0,    0,\n",
       "          0,    0,    0,    0,    0,    0,    0,    0,    0,    0,    0,\n",
       "          0,    0,    0,    0,    0,    0,    0,    0,    0,    0,    0,\n",
       "          0,    0,    0,    0,    0,    0,    0,    0,    0,    0,    0,\n",
       "          0,    0,    0,    0,    0,    0,    0,    0,    0,    0,    0,\n",
       "          0,    0,    0,    0,    0,    0,    0,    0,    0,    0,    0,\n",
       "          0,    0,    0,    0,    0,    0,    0,    0,    0,    0,    0,\n",
       "          0,    0,    0,    0,    0,    0,    0,    0,    0,    0,    0,\n",
       "          0,    0,    0,    0,    0,    0,    0,    0,    0,    0,    0,\n",
       "          0,    0,    0,    0,    0,    0,    0,    0,    0,    0,    0,\n",
       "          0,    0,    0,    0,    0,    0,    0,    0,    0,    0,    0,\n",
       "          0,    0,    0,    0,    0,    0,    0,    0,    0,    0,    0,\n",
       "          0,    0,    0,    0,    0,    0,    0,    0,    0,    0,    0,\n",
       "          0,    0,    0,    0,    0,    0,    0,    0,    0,    0,    0,\n",
       "          0,    0,    0,    0,    0,    0,    0,    0,    0,    0,    0,\n",
       "          0,    0,    0,    0,    0,    0,    0,    0,    0,    0,    0,\n",
       "          0,    0,    0,    0,    0,    0,    0,    0,    0,    0,    0,\n",
       "          0,    0,    0,    0,    0,    0,    0,    0,    0,    0,    0,\n",
       "          0,    0,    0,    0,    0,    0,    0,    0,    0,    0,    0,\n",
       "          0,    0,    0,    0,    0,    0,    0,    0,    0,    0,    0,\n",
       "          0,    0,    0,    0,    0,    0,    0,    0,    0,    0,    0,\n",
       "          0,    0,    0,    0,    0,    0,    0,    0,    0,    0,    0,\n",
       "          0,    0,    0,    0,    0,    0,    0,    0,    0,    0,    0,\n",
       "          0,    0,    0,    0,    0])"
      ]
     },
     "execution_count": 60,
     "metadata": {},
     "output_type": "execute_result"
    }
   ],
   "source": [
    "# Use this cell to examine one of the processed reviews to make sure everything is working as intended.\n",
    "train_X[0]"
   ]
  },
  {
   "cell_type": "markdown",
   "metadata": {},
   "source": [
    "**Question:** In the cells above we use the `preprocess_data` and `convert_and_pad_data` methods to process both the training and testing set. Why or why not might this be a problem?"
   ]
  },
  {
   "cell_type": "markdown",
   "metadata": {},
   "source": [
    "**Answer:**"
   ]
  },
  {
   "cell_type": "markdown",
   "metadata": {},
   "source": [
    "## Step 3: Upload the data to S3\n",
    "\n",
    "As in the XGBoost notebook, we will need to upload the training dataset to S3 in order for our training code to access it. For now we will save it locally and we will upload to S3 later on.\n",
    "\n",
    "### Save the processed training dataset locally\n",
    "\n",
    "It is important to note the format of the data that we are saving as we will need to know it when we write the training code. In our case, each row of the dataset has the form `label`, `length`, `review[500]` where `review[500]` is a sequence of `500` integers representing the words in the review."
   ]
  },
  {
   "cell_type": "code",
   "execution_count": 61,
   "metadata": {},
   "outputs": [],
   "source": [
    "import pandas as pd\n",
    "    \n",
    "pd.concat([pd.DataFrame(train_y), pd.DataFrame(train_X_len), pd.DataFrame(train_X)], axis=1) \\\n",
    "        .to_csv(os.path.join(data_dir, 'train.csv'), header=False, index=False)"
   ]
  },
  {
   "cell_type": "markdown",
   "metadata": {},
   "source": [
    "### Uploading the training data\n",
    "\n",
    "\n",
    "Next, we need to upload the training data to the SageMaker default S3 bucket so that we can provide access to it while training our model."
   ]
  },
  {
   "cell_type": "code",
   "execution_count": 65,
   "metadata": {
    "scrolled": true
   },
   "outputs": [
    {
     "ename": "UnknownServiceError",
     "evalue": "Unknown service: 'sagemaker-metrics'. Valid service names are: accessanalyzer, account, acm, acm-pca, alexaforbusiness, amp, amplify, amplifybackend, amplifyuibuilder, apigateway, apigatewaymanagementapi, apigatewayv2, appconfig, appconfigdata, appflow, appintegrations, application-autoscaling, application-insights, applicationcostprofiler, appmesh, apprunner, appstream, appsync, athena, auditmanager, autoscaling, autoscaling-plans, backup, backup-gateway, batch, braket, budgets, ce, chime, chime-sdk-identity, chime-sdk-meetings, chime-sdk-messaging, cloud9, cloudcontrol, clouddirectory, cloudformation, cloudfront, cloudhsm, cloudhsmv2, cloudsearch, cloudsearchdomain, cloudtrail, cloudwatch, codeartifact, codebuild, codecommit, codedeploy, codeguru-reviewer, codeguruprofiler, codepipeline, codestar, codestar-connections, codestar-notifications, cognito-identity, cognito-idp, cognito-sync, comprehend, comprehendmedical, compute-optimizer, config, connect, connect-contact-lens, connectparticipant, cur, customer-profiles, databrew, dataexchange, datapipeline, datasync, dax, detective, devicefarm, devops-guru, directconnect, discovery, dlm, dms, docdb, drs, ds, dynamodb, dynamodbstreams, ebs, ec2, ec2-instance-connect, ecr, ecr-public, ecs, efs, eks, elastic-inference, elasticache, elasticbeanstalk, elastictranscoder, elb, elbv2, emr, emr-containers, es, events, evidently, finspace, finspace-data, firehose, fis, fms, forecast, forecastquery, frauddetector, fsx, gamelift, glacier, globalaccelerator, glue, grafana, greengrass, greengrassv2, groundstation, guardduty, health, healthlake, honeycode, iam, identitystore, imagebuilder, importexport, inspector, inspector2, iot, iot-data, iot-jobs-data, iot1click-devices, iot1click-projects, iotanalytics, iotdeviceadvisor, iotevents, iotevents-data, iotfleethub, iotsecuretunneling, iotsitewise, iotthingsgraph, iottwinmaker, iotwireless, ivs, kafka, kafkaconnect, kendra, keyspaces, kinesis, kinesis-video-archived-media, kinesis-video-media, kinesis-video-signaling, kinesisanalytics, kinesisanalyticsv2, kinesisvideo, kms, lakeformation, lambda, lex-models, lex-runtime, lexv2-models, lexv2-runtime, license-manager, lightsail, location, logs, lookoutequipment, lookoutmetrics, lookoutvision, machinelearning, macie, macie2, managedblockchain, marketplace-catalog, marketplace-entitlement, marketplacecommerceanalytics, mediaconnect, mediaconvert, medialive, mediapackage, mediapackage-vod, mediastore, mediastore-data, mediatailor, memorydb, meteringmarketplace, mgh, mgn, migration-hub-refactor-spaces, migrationhub-config, migrationhubstrategy, mobile, mq, mturk, mwaa, neptune, network-firewall, networkmanager, nimble, opensearch, opsworks, opsworkscm, organizations, outposts, panorama, personalize, personalize-events, personalize-runtime, pi, pinpoint, pinpoint-email, pinpoint-sms-voice, polly, pricing, proton, qldb, qldb-session, quicksight, ram, rbin, rds, rds-data, redshift, redshift-data, rekognition, resiliencehub, resource-groups, resourcegroupstaggingapi, robomaker, route53, route53-recovery-cluster, route53-recovery-control-config, route53-recovery-readiness, route53domains, route53resolver, rum, s3, s3control, s3outposts, sagemaker, sagemaker-a2i-runtime, sagemaker-edge, sagemaker-featurestore-runtime, sagemaker-runtime, savingsplans, schemas, sdb, secretsmanager, securityhub, serverlessrepo, service-quotas, servicecatalog, servicecatalog-appregistry, servicediscovery, ses, sesv2, shield, signer, sms, sms-voice, snow-device-management, snowball, sns, sqs, ssm, ssm-contacts, ssm-incidents, sso, sso-admin, sso-oidc, stepfunctions, storagegateway, sts, support, swf, synthetics, textract, timestream-query, timestream-write, transcribe, transfer, translate, voice-id, waf, waf-regional, wafv2, wellarchitected, wisdom, workdocs, worklink, workmail, workmailmessageflow, workspaces, workspaces-web, xray",
     "output_type": "error",
     "traceback": [
      "\u001b[0;31m---------------------------------------------------------------------------\u001b[0m",
      "\u001b[0;31mUnknownServiceError\u001b[0m                       Traceback (most recent call last)",
      "\u001b[0;32m/tmp/ipykernel_10306/3708779948.py\u001b[0m in \u001b[0;36m<cell line: 3>\u001b[0;34m()\u001b[0m\n\u001b[1;32m      1\u001b[0m \u001b[0;32mimport\u001b[0m \u001b[0msagemaker\u001b[0m\u001b[0;34m\u001b[0m\u001b[0;34m\u001b[0m\u001b[0m\n\u001b[1;32m      2\u001b[0m \u001b[0;34m\u001b[0m\u001b[0m\n\u001b[0;32m----> 3\u001b[0;31m \u001b[0msagemaker_session\u001b[0m \u001b[0;34m=\u001b[0m \u001b[0msagemaker\u001b[0m\u001b[0;34m.\u001b[0m\u001b[0msession\u001b[0m\u001b[0;34m.\u001b[0m\u001b[0mSession\u001b[0m\u001b[0;34m(\u001b[0m\u001b[0;34m)\u001b[0m\u001b[0;34m\u001b[0m\u001b[0;34m\u001b[0m\u001b[0m\n\u001b[0m\u001b[1;32m      4\u001b[0m \u001b[0;34m\u001b[0m\u001b[0m\n\u001b[1;32m      5\u001b[0m \u001b[0mbucket\u001b[0m \u001b[0;34m=\u001b[0m \u001b[0msagemaker_session\u001b[0m\u001b[0;34m.\u001b[0m\u001b[0mdefault_bucket\u001b[0m\u001b[0;34m(\u001b[0m\u001b[0;34m)\u001b[0m\u001b[0;34m\u001b[0m\u001b[0;34m\u001b[0m\u001b[0m\n",
      "\u001b[0;32m~/anaconda3/envs/pytorch_p38/lib/python3.8/site-packages/sagemaker/session.py\u001b[0m in \u001b[0;36m__init__\u001b[0;34m(self, boto_session, sagemaker_client, sagemaker_runtime_client, sagemaker_featurestore_runtime_client, default_bucket, settings, sagemaker_metrics_client)\u001b[0m\n\u001b[1;32m    131\u001b[0m         \u001b[0mself\u001b[0m\u001b[0;34m.\u001b[0m\u001b[0msettings\u001b[0m \u001b[0;34m=\u001b[0m \u001b[0msettings\u001b[0m\u001b[0;34m\u001b[0m\u001b[0;34m\u001b[0m\u001b[0m\n\u001b[1;32m    132\u001b[0m \u001b[0;34m\u001b[0m\u001b[0m\n\u001b[0;32m--> 133\u001b[0;31m         self._initialize(\n\u001b[0m\u001b[1;32m    134\u001b[0m             \u001b[0mboto_session\u001b[0m\u001b[0;34m=\u001b[0m\u001b[0mboto_session\u001b[0m\u001b[0;34m,\u001b[0m\u001b[0;34m\u001b[0m\u001b[0;34m\u001b[0m\u001b[0m\n\u001b[1;32m    135\u001b[0m             \u001b[0msagemaker_client\u001b[0m\u001b[0;34m=\u001b[0m\u001b[0msagemaker_client\u001b[0m\u001b[0;34m,\u001b[0m\u001b[0;34m\u001b[0m\u001b[0;34m\u001b[0m\u001b[0m\n",
      "\u001b[0;32m~/anaconda3/envs/pytorch_p38/lib/python3.8/site-packages/sagemaker/session.py\u001b[0m in \u001b[0;36m_initialize\u001b[0;34m(self, boto_session, sagemaker_client, sagemaker_runtime_client, sagemaker_featurestore_runtime_client, sagemaker_metrics_client)\u001b[0m\n\u001b[1;32m    183\u001b[0m             \u001b[0mself\u001b[0m\u001b[0;34m.\u001b[0m\u001b[0msagemaker_metrics_client\u001b[0m \u001b[0;34m=\u001b[0m \u001b[0msagemaker_metrics_client\u001b[0m\u001b[0;34m\u001b[0m\u001b[0;34m\u001b[0m\u001b[0m\n\u001b[1;32m    184\u001b[0m         \u001b[0;32melse\u001b[0m\u001b[0;34m:\u001b[0m\u001b[0;34m\u001b[0m\u001b[0;34m\u001b[0m\u001b[0m\n\u001b[0;32m--> 185\u001b[0;31m             \u001b[0mself\u001b[0m\u001b[0;34m.\u001b[0m\u001b[0msagemaker_metrics_client\u001b[0m \u001b[0;34m=\u001b[0m \u001b[0mself\u001b[0m\u001b[0;34m.\u001b[0m\u001b[0mboto_session\u001b[0m\u001b[0;34m.\u001b[0m\u001b[0mclient\u001b[0m\u001b[0;34m(\u001b[0m\u001b[0;34m\"sagemaker-metrics\"\u001b[0m\u001b[0;34m)\u001b[0m\u001b[0;34m\u001b[0m\u001b[0;34m\u001b[0m\u001b[0m\n\u001b[0m\u001b[1;32m    186\u001b[0m         \u001b[0mprepend_user_agent\u001b[0m\u001b[0;34m(\u001b[0m\u001b[0mself\u001b[0m\u001b[0;34m.\u001b[0m\u001b[0msagemaker_metrics_client\u001b[0m\u001b[0;34m)\u001b[0m\u001b[0;34m\u001b[0m\u001b[0;34m\u001b[0m\u001b[0m\n\u001b[1;32m    187\u001b[0m \u001b[0;34m\u001b[0m\u001b[0m\n",
      "\u001b[0;32m~/anaconda3/envs/pytorch_p38/lib/python3.8/site-packages/boto3/session.py\u001b[0m in \u001b[0;36mclient\u001b[0;34m(self, service_name, region_name, api_version, use_ssl, verify, endpoint_url, aws_access_key_id, aws_secret_access_key, aws_session_token, config)\u001b[0m\n\u001b[1;32m    297\u001b[0m \u001b[0;34m\u001b[0m\u001b[0m\n\u001b[1;32m    298\u001b[0m         \"\"\"\n\u001b[0;32m--> 299\u001b[0;31m         return self._session.create_client(\n\u001b[0m\u001b[1;32m    300\u001b[0m             \u001b[0mservice_name\u001b[0m\u001b[0;34m,\u001b[0m\u001b[0;34m\u001b[0m\u001b[0;34m\u001b[0m\u001b[0m\n\u001b[1;32m    301\u001b[0m             \u001b[0mregion_name\u001b[0m\u001b[0;34m=\u001b[0m\u001b[0mregion_name\u001b[0m\u001b[0;34m,\u001b[0m\u001b[0;34m\u001b[0m\u001b[0;34m\u001b[0m\u001b[0m\n",
      "\u001b[0;32m~/anaconda3/envs/pytorch_p38/lib/python3.8/site-packages/botocore/session.py\u001b[0m in \u001b[0;36mcreate_client\u001b[0;34m(self, service_name, region_name, api_version, use_ssl, verify, endpoint_url, aws_access_key_id, aws_secret_access_key, aws_session_token, config)\u001b[0m\n\u001b[1;32m    868\u001b[0m             \u001b[0mretryhandler\u001b[0m\u001b[0;34m,\u001b[0m \u001b[0mtranslate\u001b[0m\u001b[0;34m,\u001b[0m \u001b[0mresponse_parser_factory\u001b[0m\u001b[0;34m,\u001b[0m\u001b[0;34m\u001b[0m\u001b[0;34m\u001b[0m\u001b[0m\n\u001b[1;32m    869\u001b[0m             exceptions_factory, config_store)\n\u001b[0;32m--> 870\u001b[0;31m         client = client_creator.create_client(\n\u001b[0m\u001b[1;32m    871\u001b[0m             \u001b[0mservice_name\u001b[0m\u001b[0;34m=\u001b[0m\u001b[0mservice_name\u001b[0m\u001b[0;34m,\u001b[0m \u001b[0mregion_name\u001b[0m\u001b[0;34m=\u001b[0m\u001b[0mregion_name\u001b[0m\u001b[0;34m,\u001b[0m\u001b[0;34m\u001b[0m\u001b[0;34m\u001b[0m\u001b[0m\n\u001b[1;32m    872\u001b[0m             \u001b[0mis_secure\u001b[0m\u001b[0;34m=\u001b[0m\u001b[0muse_ssl\u001b[0m\u001b[0;34m,\u001b[0m \u001b[0mendpoint_url\u001b[0m\u001b[0;34m=\u001b[0m\u001b[0mendpoint_url\u001b[0m\u001b[0;34m,\u001b[0m \u001b[0mverify\u001b[0m\u001b[0;34m=\u001b[0m\u001b[0mverify\u001b[0m\u001b[0;34m,\u001b[0m\u001b[0;34m\u001b[0m\u001b[0;34m\u001b[0m\u001b[0m\n",
      "\u001b[0;32m~/anaconda3/envs/pytorch_p38/lib/python3.8/site-packages/botocore/client.py\u001b[0m in \u001b[0;36mcreate_client\u001b[0;34m(self, service_name, region_name, is_secure, endpoint_url, verify, credentials, scoped_config, api_version, client_config)\u001b[0m\n\u001b[1;32m     85\u001b[0m             'choose-service-name', service_name=service_name)\n\u001b[1;32m     86\u001b[0m         \u001b[0mservice_name\u001b[0m \u001b[0;34m=\u001b[0m \u001b[0mfirst_non_none_response\u001b[0m\u001b[0;34m(\u001b[0m\u001b[0mresponses\u001b[0m\u001b[0;34m,\u001b[0m \u001b[0mdefault\u001b[0m\u001b[0;34m=\u001b[0m\u001b[0mservice_name\u001b[0m\u001b[0;34m)\u001b[0m\u001b[0;34m\u001b[0m\u001b[0;34m\u001b[0m\u001b[0m\n\u001b[0;32m---> 87\u001b[0;31m         \u001b[0mservice_model\u001b[0m \u001b[0;34m=\u001b[0m \u001b[0mself\u001b[0m\u001b[0;34m.\u001b[0m\u001b[0m_load_service_model\u001b[0m\u001b[0;34m(\u001b[0m\u001b[0mservice_name\u001b[0m\u001b[0;34m,\u001b[0m \u001b[0mapi_version\u001b[0m\u001b[0;34m)\u001b[0m\u001b[0;34m\u001b[0m\u001b[0;34m\u001b[0m\u001b[0m\n\u001b[0m\u001b[1;32m     88\u001b[0m         \u001b[0mcls\u001b[0m \u001b[0;34m=\u001b[0m \u001b[0mself\u001b[0m\u001b[0;34m.\u001b[0m\u001b[0m_create_client_class\u001b[0m\u001b[0;34m(\u001b[0m\u001b[0mservice_name\u001b[0m\u001b[0;34m,\u001b[0m \u001b[0mservice_model\u001b[0m\u001b[0;34m)\u001b[0m\u001b[0;34m\u001b[0m\u001b[0;34m\u001b[0m\u001b[0m\n\u001b[1;32m     89\u001b[0m         region_name, client_config = self._normalize_fips_region(\n",
      "\u001b[0;32m~/anaconda3/envs/pytorch_p38/lib/python3.8/site-packages/botocore/client.py\u001b[0m in \u001b[0;36m_load_service_model\u001b[0;34m(self, service_name, api_version)\u001b[0m\n\u001b[1;32m    152\u001b[0m \u001b[0;34m\u001b[0m\u001b[0m\n\u001b[1;32m    153\u001b[0m     \u001b[0;32mdef\u001b[0m \u001b[0m_load_service_model\u001b[0m\u001b[0;34m(\u001b[0m\u001b[0mself\u001b[0m\u001b[0;34m,\u001b[0m \u001b[0mservice_name\u001b[0m\u001b[0;34m,\u001b[0m \u001b[0mapi_version\u001b[0m\u001b[0;34m=\u001b[0m\u001b[0;32mNone\u001b[0m\u001b[0;34m)\u001b[0m\u001b[0;34m:\u001b[0m\u001b[0;34m\u001b[0m\u001b[0;34m\u001b[0m\u001b[0m\n\u001b[0;32m--> 154\u001b[0;31m         json_model = self._loader.load_service_model(service_name, 'service-2',\n\u001b[0m\u001b[1;32m    155\u001b[0m                                                      api_version=api_version)\n\u001b[1;32m    156\u001b[0m         \u001b[0mservice_model\u001b[0m \u001b[0;34m=\u001b[0m \u001b[0mServiceModel\u001b[0m\u001b[0;34m(\u001b[0m\u001b[0mjson_model\u001b[0m\u001b[0;34m,\u001b[0m \u001b[0mservice_name\u001b[0m\u001b[0;34m=\u001b[0m\u001b[0mservice_name\u001b[0m\u001b[0;34m)\u001b[0m\u001b[0;34m\u001b[0m\u001b[0;34m\u001b[0m\u001b[0m\n",
      "\u001b[0;32m~/anaconda3/envs/pytorch_p38/lib/python3.8/site-packages/botocore/loaders.py\u001b[0m in \u001b[0;36m_wrapper\u001b[0;34m(self, *args, **kwargs)\u001b[0m\n\u001b[1;32m    130\u001b[0m         \u001b[0;32mif\u001b[0m \u001b[0mkey\u001b[0m \u001b[0;32min\u001b[0m \u001b[0mself\u001b[0m\u001b[0;34m.\u001b[0m\u001b[0m_cache\u001b[0m\u001b[0;34m:\u001b[0m\u001b[0;34m\u001b[0m\u001b[0;34m\u001b[0m\u001b[0m\n\u001b[1;32m    131\u001b[0m             \u001b[0;32mreturn\u001b[0m \u001b[0mself\u001b[0m\u001b[0;34m.\u001b[0m\u001b[0m_cache\u001b[0m\u001b[0;34m[\u001b[0m\u001b[0mkey\u001b[0m\u001b[0;34m]\u001b[0m\u001b[0;34m\u001b[0m\u001b[0;34m\u001b[0m\u001b[0m\n\u001b[0;32m--> 132\u001b[0;31m         \u001b[0mdata\u001b[0m \u001b[0;34m=\u001b[0m \u001b[0mfunc\u001b[0m\u001b[0;34m(\u001b[0m\u001b[0mself\u001b[0m\u001b[0;34m,\u001b[0m \u001b[0;34m*\u001b[0m\u001b[0margs\u001b[0m\u001b[0;34m,\u001b[0m \u001b[0;34m**\u001b[0m\u001b[0mkwargs\u001b[0m\u001b[0;34m)\u001b[0m\u001b[0;34m\u001b[0m\u001b[0;34m\u001b[0m\u001b[0m\n\u001b[0m\u001b[1;32m    133\u001b[0m         \u001b[0mself\u001b[0m\u001b[0;34m.\u001b[0m\u001b[0m_cache\u001b[0m\u001b[0;34m[\u001b[0m\u001b[0mkey\u001b[0m\u001b[0;34m]\u001b[0m \u001b[0;34m=\u001b[0m \u001b[0mdata\u001b[0m\u001b[0;34m\u001b[0m\u001b[0;34m\u001b[0m\u001b[0m\n\u001b[1;32m    134\u001b[0m         \u001b[0;32mreturn\u001b[0m \u001b[0mdata\u001b[0m\u001b[0;34m\u001b[0m\u001b[0;34m\u001b[0m\u001b[0m\n",
      "\u001b[0;32m~/anaconda3/envs/pytorch_p38/lib/python3.8/site-packages/botocore/loaders.py\u001b[0m in \u001b[0;36mload_service_model\u001b[0;34m(self, service_name, type_name, api_version)\u001b[0m\n\u001b[1;32m    375\u001b[0m         \u001b[0mknown_services\u001b[0m \u001b[0;34m=\u001b[0m \u001b[0mself\u001b[0m\u001b[0;34m.\u001b[0m\u001b[0mlist_available_services\u001b[0m\u001b[0;34m(\u001b[0m\u001b[0mtype_name\u001b[0m\u001b[0;34m)\u001b[0m\u001b[0;34m\u001b[0m\u001b[0;34m\u001b[0m\u001b[0m\n\u001b[1;32m    376\u001b[0m         \u001b[0;32mif\u001b[0m \u001b[0mservice_name\u001b[0m \u001b[0;32mnot\u001b[0m \u001b[0;32min\u001b[0m \u001b[0mknown_services\u001b[0m\u001b[0;34m:\u001b[0m\u001b[0;34m\u001b[0m\u001b[0;34m\u001b[0m\u001b[0m\n\u001b[0;32m--> 377\u001b[0;31m             raise UnknownServiceError(\n\u001b[0m\u001b[1;32m    378\u001b[0m                 \u001b[0mservice_name\u001b[0m\u001b[0;34m=\u001b[0m\u001b[0mservice_name\u001b[0m\u001b[0;34m,\u001b[0m\u001b[0;34m\u001b[0m\u001b[0;34m\u001b[0m\u001b[0m\n\u001b[1;32m    379\u001b[0m                 known_service_names=', '.join(sorted(known_services)))\n",
      "\u001b[0;31mUnknownServiceError\u001b[0m: Unknown service: 'sagemaker-metrics'. Valid service names are: accessanalyzer, account, acm, acm-pca, alexaforbusiness, amp, amplify, amplifybackend, amplifyuibuilder, apigateway, apigatewaymanagementapi, apigatewayv2, appconfig, appconfigdata, appflow, appintegrations, application-autoscaling, application-insights, applicationcostprofiler, appmesh, apprunner, appstream, appsync, athena, auditmanager, autoscaling, autoscaling-plans, backup, backup-gateway, batch, braket, budgets, ce, chime, chime-sdk-identity, chime-sdk-meetings, chime-sdk-messaging, cloud9, cloudcontrol, clouddirectory, cloudformation, cloudfront, cloudhsm, cloudhsmv2, cloudsearch, cloudsearchdomain, cloudtrail, cloudwatch, codeartifact, codebuild, codecommit, codedeploy, codeguru-reviewer, codeguruprofiler, codepipeline, codestar, codestar-connections, codestar-notifications, cognito-identity, cognito-idp, cognito-sync, comprehend, comprehendmedical, compute-optimizer, config, connect, connect-contact-lens, connectparticipant, cur, customer-profiles, databrew, dataexchange, datapipeline, datasync, dax, detective, devicefarm, devops-guru, directconnect, discovery, dlm, dms, docdb, drs, ds, dynamodb, dynamodbstreams, ebs, ec2, ec2-instance-connect, ecr, ecr-public, ecs, efs, eks, elastic-inference, elasticache, elasticbeanstalk, elastictranscoder, elb, elbv2, emr, emr-containers, es, events, evidently, finspace, finspace-data, firehose, fis, fms, forecast, forecastquery, frauddetector, fsx, gamelift, glacier, globalaccelerator, glue, grafana, greengrass, greengrassv2, groundstation, guardduty, health, healthlake, honeycode, iam, identitystore, imagebuilder, importexport, inspector, inspector2, iot, iot-data, iot-jobs-data, iot1click-devices, iot1click-projects, iotanalytics, iotdeviceadvisor, iotevents, iotevents-data, iotfleethub, iotsecuretunneling, iotsitewise, iotthingsgraph, iottwinmaker, iotwireless, ivs, kafka, kafkaconnect, kendra, keyspaces, kinesis, kinesis-video-archived-media, kinesis-video-media, kinesis-video-signaling, kinesisanalytics, kinesisanalyticsv2, kinesisvideo, kms, lakeformation, lambda, lex-models, lex-runtime, lexv2-models, lexv2-runtime, license-manager, lightsail, location, logs, lookoutequipment, lookoutmetrics, lookoutvision, machinelearning, macie, macie2, managedblockchain, marketplace-catalog, marketplace-entitlement, marketplacecommerceanalytics, mediaconnect, mediaconvert, medialive, mediapackage, mediapackage-vod, mediastore, mediastore-data, mediatailor, memorydb, meteringmarketplace, mgh, mgn, migration-hub-refactor-spaces, migrationhub-config, migrationhubstrategy, mobile, mq, mturk, mwaa, neptune, network-firewall, networkmanager, nimble, opensearch, opsworks, opsworkscm, organizations, outposts, panorama, personalize, personalize-events, personalize-runtime, pi, pinpoint, pinpoint-email, pinpoint-sms-voice, polly, pricing, proton, qldb, qldb-session, quicksight, ram, rbin, rds, rds-data, redshift, redshift-data, rekognition, resiliencehub, resource-groups, resourcegroupstaggingapi, robomaker, route53, route53-recovery-cluster, route53-recovery-control-config, route53-recovery-readiness, route53domains, route53resolver, rum, s3, s3control, s3outposts, sagemaker, sagemaker-a2i-runtime, sagemaker-edge, sagemaker-featurestore-runtime, sagemaker-runtime, savingsplans, schemas, sdb, secretsmanager, securityhub, serverlessrepo, service-quotas, servicecatalog, servicecatalog-appregistry, servicediscovery, ses, sesv2, shield, signer, sms, sms-voice, snow-device-management, snowball, sns, sqs, ssm, ssm-contacts, ssm-incidents, sso, sso-admin, sso-oidc, stepfunctions, storagegateway, sts, support, swf, synthetics, textract, timestream-query, timestream-write, transcribe, transfer, translate, voice-id, waf, waf-regional, wafv2, wellarchitected, wisdom, workdocs, worklink, workmail, workmailmessageflow, workspaces, workspaces-web, xray"
     ]
    }
   ],
   "source": [
    "import sagemaker\n",
    "\n",
    "sagemaker_session = sagemaker.Session()\n",
    "\n",
    "bucket = sagemaker_session.default_bucket()\n",
    "prefix = 'sagemaker/sentiment_rnn'\n",
    "\n",
    "role = sagemaker.get_execution_role()"
   ]
  },
  {
   "cell_type": "code",
   "execution_count": 64,
   "metadata": {},
   "outputs": [
    {
     "ename": "NameError",
     "evalue": "name 'sagemaker_session' is not defined",
     "output_type": "error",
     "traceback": [
      "\u001b[0;31m---------------------------------------------------------------------------\u001b[0m",
      "\u001b[0;31mNameError\u001b[0m                                 Traceback (most recent call last)",
      "\u001b[0;32m/tmp/ipykernel_10306/278436506.py\u001b[0m in \u001b[0;36m<cell line: 1>\u001b[0;34m()\u001b[0m\n\u001b[0;32m----> 1\u001b[0;31m \u001b[0minput_data\u001b[0m \u001b[0;34m=\u001b[0m \u001b[0msagemaker_session\u001b[0m\u001b[0;34m.\u001b[0m\u001b[0mupload_data\u001b[0m\u001b[0;34m(\u001b[0m\u001b[0mpath\u001b[0m\u001b[0;34m=\u001b[0m\u001b[0mdata_dir\u001b[0m\u001b[0;34m,\u001b[0m \u001b[0mbucket\u001b[0m\u001b[0;34m=\u001b[0m\u001b[0mbucket\u001b[0m\u001b[0;34m,\u001b[0m \u001b[0mkey_prefix\u001b[0m\u001b[0;34m=\u001b[0m\u001b[0mprefix\u001b[0m\u001b[0;34m)\u001b[0m\u001b[0;34m\u001b[0m\u001b[0;34m\u001b[0m\u001b[0m\n\u001b[0m",
      "\u001b[0;31mNameError\u001b[0m: name 'sagemaker_session' is not defined"
     ]
    }
   ],
   "source": [
    "input_data = sagemaker_session.upload_data(path=data_dir, bucket=bucket, key_prefix=prefix)"
   ]
  },
  {
   "cell_type": "markdown",
   "metadata": {},
   "source": [
    "**NOTE:** The cell above uploads the entire contents of our data directory. This includes the `word_dict.pkl` file. This is fortunate as we will need this later on when we create an endpoint that accepts an arbitrary review. For now, we will just take note of the fact that it resides in the data directory (and so also in the S3 training bucket) and that we will need to make sure it gets saved in the model directory."
   ]
  },
  {
   "cell_type": "markdown",
   "metadata": {},
   "source": [
    "## Step 4: Build and Train the PyTorch Model\n",
    "\n",
    "In the XGBoost notebook we discussed what a model is in the SageMaker framework. In particular, a model comprises three objects\n",
    "\n",
    " - Model Artifacts,\n",
    " - Training Code, and\n",
    " - Inference Code,\n",
    " \n",
    "each of which interact with one another. In the XGBoost example we used training and inference code that was provided by Amazon. Here we will still be using containers provided by Amazon with the added benefit of being able to include our own custom code.\n",
    "\n",
    "We will start by implementing our own neural network in PyTorch along with a training script. For the purposes of this project we have provided the necessary model object in the `model.py` file, inside of the `train` folder. You can see the provided implementation by running the cell below."
   ]
  },
  {
   "cell_type": "code",
   "execution_count": null,
   "metadata": {},
   "outputs": [],
   "source": [
    "!pygmentize train/model.py"
   ]
  },
  {
   "cell_type": "markdown",
   "metadata": {},
   "source": [
    "The important takeaway from the implementation provided is that there are three parameters that we may wish to tweak to improve the performance of our model. These are the embedding dimension, the hidden dimension and the size of the vocabulary. We will likely want to make these parameters configurable in the training script so that if we wish to modify them we do not need to modify the script itself. We will see how to do this later on. To start we will write some of the training code in the notebook so that we can more easily diagnose any issues that arise.\n",
    "\n",
    "First we will load a small portion of the training data set to use as a sample. It would be very time consuming to try and train the model completely in the notebook as we do not have access to a gpu and the compute instance that we are using is not particularly powerful. However, we can work on a small bit of the data to get a feel for how our training script is behaving."
   ]
  },
  {
   "cell_type": "code",
   "execution_count": null,
   "metadata": {},
   "outputs": [],
   "source": [
    "import torch\n",
    "import torch.utils.data\n",
    "\n",
    "# Read in only the first 250 rows\n",
    "train_sample = pd.read_csv(os.path.join(data_dir, 'train.csv'), header=None, names=None, nrows=250)\n",
    "\n",
    "# Turn the input pandas dataframe into tensors\n",
    "train_sample_y = torch.from_numpy(train_sample[[0]].values).float().squeeze()\n",
    "train_sample_X = torch.from_numpy(train_sample.drop([0], axis=1).values).long()\n",
    "\n",
    "# Build the dataset\n",
    "train_sample_ds = torch.utils.data.TensorDataset(train_sample_X, train_sample_y)\n",
    "# Build the dataloader\n",
    "train_sample_dl = torch.utils.data.DataLoader(train_sample_ds, batch_size=50)"
   ]
  },
  {
   "cell_type": "markdown",
   "metadata": {},
   "source": [
    "### (TODO) Writing the training method\n",
    "\n",
    "Next we need to write the training code itself. This should be very similar to training methods that you have written before to train PyTorch models. We will leave any difficult aspects such as model saving / loading and parameter loading until a little later."
   ]
  },
  {
   "cell_type": "code",
   "execution_count": null,
   "metadata": {},
   "outputs": [],
   "source": [
    "def train(model, train_loader, epochs, optimizer, loss_fn, device):\n",
    "    for epoch in range(1, epochs + 1):\n",
    "        model.train()\n",
    "        total_loss = 0\n",
    "        for batch in train_loader:         \n",
    "            batch_X, batch_y = batch\n",
    "            \n",
    "            batch_X = batch_X.to(device)\n",
    "            batch_y = batch_y.to(device)\n",
    "            \n",
    "            # TODO: Complete this train method to train the model provided.\n",
    "            \n",
    "            total_loss += loss.data.item()\n",
    "        print(\"Epoch: {}, BCELoss: {}\".format(epoch, total_loss / len(train_loader)))"
   ]
  },
  {
   "cell_type": "markdown",
   "metadata": {},
   "source": [
    "Supposing we have the training method above, we will test that it is working by writing a bit of code in the notebook that executes our training method on the small sample training set that we loaded earlier. The reason for doing this in the notebook is so that we have an opportunity to fix any errors that arise early when they are easier to diagnose."
   ]
  },
  {
   "cell_type": "code",
   "execution_count": null,
   "metadata": {},
   "outputs": [],
   "source": [
    "import torch.optim as optim\n",
    "from train.model import LSTMClassifier\n",
    "\n",
    "device = torch.device(\"cuda\" if torch.cuda.is_available() else \"cpu\")\n",
    "model = LSTMClassifier(32, 100, 5000).to(device)\n",
    "optimizer = optim.Adam(model.parameters())\n",
    "loss_fn = torch.nn.BCELoss()\n",
    "\n",
    "train(model, train_sample_dl, 5, optimizer, loss_fn, device)"
   ]
  },
  {
   "cell_type": "markdown",
   "metadata": {},
   "source": [
    "In order to construct a PyTorch model using SageMaker we must provide SageMaker with a training script. We may optionally include a directory which will be copied to the container and from which our training code will be run. When the training container is executed it will check the uploaded directory (if there is one) for a `requirements.txt` file and install any required Python libraries, after which the training script will be run."
   ]
  },
  {
   "cell_type": "markdown",
   "metadata": {},
   "source": [
    "### (TODO) Training the model\n",
    "\n",
    "When a PyTorch model is constructed in SageMaker, an entry point must be specified. This is the Python file which will be executed when the model is trained. Inside of the `train` directory is a file called `train.py` which has been provided and which contains most of the necessary code to train our model. The only thing that is missing is the implementation of the `train()` method which you wrote earlier in this notebook.\n",
    "\n",
    "**TODO**: Copy the `train()` method written above and paste it into the `train/train.py` file where required.\n",
    "\n",
    "The way that SageMaker passes hyperparameters to the training script is by way of arguments. These arguments can then be parsed and used in the training script. To see how this is done take a look at the provided `train/train.py` file."
   ]
  },
  {
   "cell_type": "code",
   "execution_count": null,
   "metadata": {},
   "outputs": [],
   "source": [
    "from sagemaker.pytorch import PyTorch\n",
    "\n",
    "estimator = PyTorch(entry_point=\"train.py\",\n",
    "                    source_dir=\"train\",\n",
    "                    role=role,\n",
    "                    framework_version='0.4.0',\n",
    "                    train_instance_count=1,\n",
    "                    train_instance_type='ml.g4dn.xlarge',\n",
    "                    hyperparameters={\n",
    "                        'epochs': 10,\n",
    "                        'hidden_dim': 200,\n",
    "                    })"
   ]
  },
  {
   "cell_type": "code",
   "execution_count": null,
   "metadata": {},
   "outputs": [],
   "source": [
    "estimator.fit({'training': input_data})"
   ]
  },
  {
   "cell_type": "markdown",
   "metadata": {},
   "source": [
    "## Step 5: Testing the model\n",
    "\n",
    "As mentioned at the top of this notebook, we will be testing this model by first deploying it and then sending the testing data to the deployed endpoint. We will do this so that we can make sure that the deployed model is working correctly.\n",
    "\n",
    "## Step 6: Deploy the model for testing\n",
    "\n",
    "Now that we have trained our model, we would like to test it to see how it performs. Currently our model takes input of the form `review_length, review[500]` where `review[500]` is a sequence of `500` integers which describe the words present in the review, encoded using `word_dict`. Fortunately for us, SageMaker provides built-in inference code for models with simple inputs such as this.\n",
    "\n",
    "There is one thing that we need to provide, however, and that is a function which loads the saved model. This function must be called `model_fn()` and takes as its only parameter a path to the directory where the model artifacts are stored. This function must also be present in the python file which we specified as the entry point. In our case the model loading function has been provided and so no changes need to be made.\n",
    "\n",
    "**NOTE**: When the built-in inference code is run it must import the `model_fn()` method from the `train.py` file. This is why the training code is wrapped in a main guard ( ie, `if __name__ == '__main__':` )\n",
    "\n",
    "Since we don't need to change anything in the code that was uploaded during training, we can simply deploy the current model as-is.\n",
    "\n",
    "**NOTE:** When deploying a model you are asking SageMaker to launch an compute instance that will wait for data to be sent to it. As a result, this compute instance will continue to run until *you* shut it down. This is important to know since the cost of a deployed endpoint depends on how long it has been running for.\n",
    "\n",
    "In other words **If you are no longer using a deployed endpoint, shut it down!**\n",
    "\n",
    "**TODO:** Deploy the trained model."
   ]
  },
  {
   "cell_type": "code",
   "execution_count": null,
   "metadata": {},
   "outputs": [],
   "source": [
    "# TODO: Deploy the trained model"
   ]
  },
  {
   "cell_type": "markdown",
   "metadata": {},
   "source": [
    "## Step 7 - Use the model for testing\n",
    "\n",
    "Once deployed, we can read in the test data and send it off to our deployed model to get some results. Once we collect all of the results we can determine how accurate our model is."
   ]
  },
  {
   "cell_type": "code",
   "execution_count": null,
   "metadata": {},
   "outputs": [],
   "source": [
    "test_X = pd.concat([pd.DataFrame(test_X_len), pd.DataFrame(test_X)], axis=1)"
   ]
  },
  {
   "cell_type": "code",
   "execution_count": null,
   "metadata": {},
   "outputs": [],
   "source": [
    "# We split the data into chunks and send each chunk seperately, accumulating the results.\n",
    "\n",
    "def predict(data, rows=512):\n",
    "    split_array = np.array_split(data, int(data.shape[0] / float(rows) + 1))\n",
    "    predictions = np.array([])\n",
    "    for array in split_array:\n",
    "        predictions = np.append(predictions, predictor.predict(array))\n",
    "    \n",
    "    return predictions"
   ]
  },
  {
   "cell_type": "code",
   "execution_count": null,
   "metadata": {},
   "outputs": [],
   "source": [
    "predictions = predict(test_X.values)\n",
    "predictions = [round(num) for num in predictions]"
   ]
  },
  {
   "cell_type": "code",
   "execution_count": null,
   "metadata": {},
   "outputs": [],
   "source": [
    "from sklearn.metrics import accuracy_score\n",
    "accuracy_score(test_y, predictions)"
   ]
  },
  {
   "cell_type": "markdown",
   "metadata": {},
   "source": [
    "**Question:** How does this model compare to the XGBoost model you created earlier? Why might these two models perform differently on this dataset? Which do *you* think is better for sentiment analysis?"
   ]
  },
  {
   "cell_type": "markdown",
   "metadata": {},
   "source": [
    "**Answer:**"
   ]
  },
  {
   "cell_type": "markdown",
   "metadata": {},
   "source": [
    "### (TODO) More testing\n",
    "\n",
    "We now have a trained model which has been deployed and which we can send processed reviews to and which returns the predicted sentiment. However, ultimately we would like to be able to send our model an unprocessed review. That is, we would like to send the review itself as a string. For example, suppose we wish to send the following review to our model."
   ]
  },
  {
   "cell_type": "code",
   "execution_count": null,
   "metadata": {},
   "outputs": [],
   "source": [
    "test_review = 'The simplest pleasures in life are the best, and this film is one of them. Combining a rather basic storyline of love and adventure this movie transcends the usual weekend fair with wit and unmitigated charm.'"
   ]
  },
  {
   "cell_type": "markdown",
   "metadata": {},
   "source": [
    "The question we now need to answer is, how do we send this review to our model?\n",
    "\n",
    "Recall in the first section of this notebook we did a bunch of data processing to the IMDb dataset. In particular, we did two specific things to the provided reviews.\n",
    " - Removed any html tags and stemmed the input\n",
    " - Encoded the review as a sequence of integers using `word_dict`\n",
    " \n",
    "In order process the review we will need to repeat these two steps.\n",
    "\n",
    "**TODO**: Using the `review_to_words` and `convert_and_pad` methods from section one, convert `test_review` into a numpy array `test_data` suitable to send to our model. Remember that our model expects input of the form `review_length, review[500]`. So make sure you produce two variables from processing: \n",
    "- A sequence of length 500 which represents the converted review\n",
    "- The length of the review"
   ]
  },
  {
   "cell_type": "code",
   "execution_count": null,
   "metadata": {},
   "outputs": [],
   "source": [
    "# TODO: Convert test_review into a form usable by the model and save the results in test_data\n",
    "test_data = None"
   ]
  },
  {
   "cell_type": "markdown",
   "metadata": {},
   "source": [
    "Now that we have processed the review, we can send the resulting array to our model to predict the sentiment of the review."
   ]
  },
  {
   "cell_type": "code",
   "execution_count": null,
   "metadata": {},
   "outputs": [],
   "source": [
    "predictor.predict(test_data)"
   ]
  },
  {
   "cell_type": "markdown",
   "metadata": {},
   "source": [
    "Since the return value of our model is close to `1`, we can be certain that the review we submitted is positive."
   ]
  },
  {
   "cell_type": "markdown",
   "metadata": {},
   "source": [
    "### Delete the endpoint\n",
    "\n",
    "Of course, just like in the XGBoost notebook, once we've deployed an endpoint it continues to run until we tell it to shut down. Since we are done using our endpoint for now, we can delete it."
   ]
  },
  {
   "cell_type": "code",
   "execution_count": null,
   "metadata": {},
   "outputs": [],
   "source": [
    "estimator.delete_endpoint()"
   ]
  },
  {
   "cell_type": "markdown",
   "metadata": {},
   "source": [
    "## Step 6 (again) - Deploy the model for the web app\n",
    "\n",
    "Now that we know that our model is working, it's time to create some custom inference code so that we can send the model a review which has not been processed and have it determine the sentiment of the review.\n",
    "\n",
    "As we saw above, by default the estimator which we created, when deployed, will use the entry script and directory which we provided when creating the model. However, since we now wish to accept a string as input and our model expects a processed review, we need to write some custom inference code.\n",
    "\n",
    "We will store the code that we write in the `serve` directory. Provided in this directory is the `model.py` file that we used to construct our model, a `utils.py` file which contains the `review_to_words` and `convert_and_pad` pre-processing functions which we used during the initial data processing, and `predict.py`, the file which will contain our custom inference code. Note also that `requirements.txt` is present which will tell SageMaker what Python libraries are required by our custom inference code.\n",
    "\n",
    "When deploying a PyTorch model in SageMaker, you are expected to provide four functions which the SageMaker inference container will use.\n",
    " - `model_fn`: This function is the same function that we used in the training script and it tells SageMaker how to load our model.\n",
    " - `input_fn`: This function receives the raw serialized input that has been sent to the model's endpoint and its job is to de-serialize and make the input available for the inference code.\n",
    " - `output_fn`: This function takes the output of the inference code and its job is to serialize this output and return it to the caller of the model's endpoint.\n",
    " - `predict_fn`: The heart of the inference script, this is where the actual prediction is done and is the function which you will need to complete.\n",
    "\n",
    "For the simple website that we are constructing during this project, the `input_fn` and `output_fn` methods are relatively straightforward. We only require being able to accept a string as input and we expect to return a single value as output. You might imagine though that in a more complex application the input or output may be image data or some other binary data which would require some effort to serialize.\n",
    "\n",
    "### (TODO) Writing inference code\n",
    "\n",
    "Before writing our custom inference code, we will begin by taking a look at the code which has been provided."
   ]
  },
  {
   "cell_type": "code",
   "execution_count": null,
   "metadata": {},
   "outputs": [],
   "source": [
    "!pygmentize serve/predict.py"
   ]
  },
  {
   "cell_type": "markdown",
   "metadata": {},
   "source": [
    "As mentioned earlier, the `model_fn` method is the same as the one provided in the training code and the `input_fn` and `output_fn` methods are very simple and your task will be to complete the `predict_fn` method. \n",
    "\n",
    "**Note**: Our model expects input data of the form 'len, review[500]'. So make sure you produce two variables from processing: \n",
    "- `data_X`:  A sequence of length 500 which represents the converted review\n",
    "- `data_len`: - The length of the review\n",
    "\n",
    "Make sure that you save the completed file as `predict.py` in the `serve` directory.\n",
    "\n",
    "**TODO**: Complete the `predict_fn()` method in the `serve/predict.py` file."
   ]
  },
  {
   "cell_type": "markdown",
   "metadata": {},
   "source": [
    "### Deploying the model\n",
    "\n",
    "Now that the custom inference code has been written, we will create and deploy our model. To begin with, we need to construct a new PyTorchModel object which points to the model artifacts created during training and also points to the inference code that we wish to use. Then we can call the deploy method to launch the deployment container.\n",
    "\n",
    "**NOTE**: The default behaviour for a deployed PyTorch model is to assume that any input passed to the predictor is a `numpy` array. In our case we want to send a string so we need to construct a simple wrapper around the `RealTimePredictor` class to accomodate simple strings. In a more complicated situation you may want to provide a serialization object, for example if you wanted to sent image data."
   ]
  },
  {
   "cell_type": "code",
   "execution_count": null,
   "metadata": {},
   "outputs": [],
   "source": [
    "from sagemaker.predictor import RealTimePredictor\n",
    "from sagemaker.pytorch import PyTorchModel\n",
    "\n",
    "class StringPredictor(RealTimePredictor):\n",
    "    def __init__(self, endpoint_name, sagemaker_session):\n",
    "        super(StringPredictor, self).__init__(endpoint_name, sagemaker_session, content_type='text/plain')\n",
    "\n",
    "model = PyTorchModel(model_data=estimator.model_data,\n",
    "                     role = role,\n",
    "                     framework_version='0.4.0',\n",
    "                     entry_point='predict.py',\n",
    "                     source_dir='serve',\n",
    "                     predictor_cls=StringPredictor)\n",
    "predictor = model.deploy(initial_instance_count=1, instance_type='ml.m4.xlarge')"
   ]
  },
  {
   "cell_type": "markdown",
   "metadata": {},
   "source": [
    "### Testing the model\n",
    "\n",
    "Now that we have deployed our model with the custom inference code, we should test to see if everything is working. Here we test our model by loading the first `250` positive and negative reviews and send them to the endpoint, then collect the results. The reason for only sending some of the data is that the amount of time it takes for our model to process the input and then perform inference is quite long and so testing the entire data set would be prohibitive."
   ]
  },
  {
   "cell_type": "code",
   "execution_count": null,
   "metadata": {},
   "outputs": [],
   "source": [
    "import glob\n",
    "\n",
    "def test_reviews(data_dir='../data/aclImdb', stop=250):\n",
    "    \n",
    "    results = []\n",
    "    ground = []\n",
    "    \n",
    "    # We make sure to test both positive and negative reviews    \n",
    "    for sentiment in ['pos', 'neg']:\n",
    "        \n",
    "        path = os.path.join(data_dir, 'test', sentiment, '*.txt')\n",
    "        files = glob.glob(path)\n",
    "        \n",
    "        files_read = 0\n",
    "        \n",
    "        print('Starting ', sentiment, ' files')\n",
    "        \n",
    "        # Iterate through the files and send them to the predictor\n",
    "        for f in files:\n",
    "            with open(f) as review:\n",
    "                # First, we store the ground truth (was the review positive or negative)\n",
    "                if sentiment == 'pos':\n",
    "                    ground.append(1)\n",
    "                else:\n",
    "                    ground.append(0)\n",
    "                # Read in the review and convert to 'utf-8' for transmission via HTTP\n",
    "                review_input = review.read().encode('utf-8')\n",
    "                # Send the review to the predictor and store the results\n",
    "                results.append(float(predictor.predict(review_input)))\n",
    "                \n",
    "            # Sending reviews to our endpoint one at a time takes a while so we\n",
    "            # only send a small number of reviews\n",
    "            files_read += 1\n",
    "            if files_read == stop:\n",
    "                break\n",
    "            \n",
    "    return ground, results"
   ]
  },
  {
   "cell_type": "code",
   "execution_count": null,
   "metadata": {},
   "outputs": [],
   "source": [
    "ground, results = test_reviews()"
   ]
  },
  {
   "cell_type": "code",
   "execution_count": null,
   "metadata": {},
   "outputs": [],
   "source": [
    "from sklearn.metrics import accuracy_score\n",
    "accuracy_score(ground, results)"
   ]
  },
  {
   "cell_type": "markdown",
   "metadata": {},
   "source": [
    "As an additional test, we can try sending the `test_review` that we looked at earlier."
   ]
  },
  {
   "cell_type": "code",
   "execution_count": null,
   "metadata": {},
   "outputs": [],
   "source": [
    "predictor.predict(test_review)"
   ]
  },
  {
   "cell_type": "markdown",
   "metadata": {},
   "source": [
    "Now that we know our endpoint is working as expected, we can set up the web page that will interact with it. If you don't have time to finish the project now, make sure to skip down to the end of this notebook and shut down your endpoint. You can deploy it again when you come back."
   ]
  },
  {
   "cell_type": "markdown",
   "metadata": {},
   "source": [
    "## Step 7 (again): Use the model for the web app\n",
    "\n",
    "> **TODO:** This entire section and the next contain tasks for you to complete, mostly using the AWS console.\n",
    "\n",
    "So far we have been accessing our model endpoint by constructing a predictor object which uses the endpoint and then just using the predictor object to perform inference. What if we wanted to create a web app which accessed our model? The way things are set up currently makes that not possible since in order to access a SageMaker endpoint the app would first have to authenticate with AWS using an IAM role which included access to SageMaker endpoints. However, there is an easier way! We just need to use some additional AWS services.\n",
    "\n",
    "<img src=\"Web App Diagram.svg\">\n",
    "\n",
    "The diagram above gives an overview of how the various services will work together. On the far right is the model which we trained above and which is deployed using SageMaker. On the far left is our web app that collects a user's movie review, sends it off and expects a positive or negative sentiment in return.\n",
    "\n",
    "In the middle is where some of the magic happens. We will construct a Lambda function, which you can think of as a straightforward Python function that can be executed whenever a specified event occurs. We will give this function permission to send and recieve data from a SageMaker endpoint.\n",
    "\n",
    "Lastly, the method we will use to execute the Lambda function is a new endpoint that we will create using API Gateway. This endpoint will be a url that listens for data to be sent to it. Once it gets some data it will pass that data on to the Lambda function and then return whatever the Lambda function returns. Essentially it will act as an interface that lets our web app communicate with the Lambda function.\n",
    "\n",
    "### Setting up a Lambda function\n",
    "\n",
    "The first thing we are going to do is set up a Lambda function. This Lambda function will be executed whenever our public API has data sent to it. When it is executed it will receive the data, perform any sort of processing that is required, send the data (the review) to the SageMaker endpoint we've created and then return the result.\n",
    "\n",
    "#### Part A: Create an IAM Role for the Lambda function\n",
    "\n",
    "Since we want the Lambda function to call a SageMaker endpoint, we need to make sure that it has permission to do so. To do this, we will construct a role that we can later give the Lambda function.\n",
    "\n",
    "Using the AWS Console, navigate to the **IAM** page and click on **Roles**. Then, click on **Create role**. Make sure that the **AWS service** is the type of trusted entity selected and choose **Lambda** as the service that will use this role, then click **Next: Permissions**.\n",
    "\n",
    "In the search box type `sagemaker` and select the check box next to the **AmazonSageMakerFullAccess** policy. Then, click on **Next: Review**.\n",
    "\n",
    "Lastly, give this role a name. Make sure you use a name that you will remember later on, for example `LambdaSageMakerRole`. Then, click on **Create role**.\n",
    "\n",
    "#### Part B: Create a Lambda function\n",
    "\n",
    "Now it is time to actually create the Lambda function.\n",
    "\n",
    "Using the AWS Console, navigate to the AWS Lambda page and click on **Create a function**. When you get to the next page, make sure that **Author from scratch** is selected. Now, name your Lambda function, using a name that you will remember later on, for example `sentiment_analysis_func`. Make sure that the **Python 3.6** runtime is selected and then choose the role that you created in the previous part. Then, click on **Create Function**.\n",
    "\n",
    "On the next page you will see some information about the Lambda function you've just created. If you scroll down you should see an editor in which you can write the code that will be executed when your Lambda function is triggered. In our example, we will use the code below. \n",
    "\n",
    "```python\n",
    "# We need to use the low-level library to interact with SageMaker since the SageMaker API\n",
    "# is not available natively through Lambda.\n",
    "import boto3\n",
    "\n",
    "def lambda_handler(event, context):\n",
    "\n",
    "    # The SageMaker runtime is what allows us to invoke the endpoint that we've created.\n",
    "    runtime = boto3.Session().client('sagemaker-runtime')\n",
    "\n",
    "    # Now we use the SageMaker runtime to invoke our endpoint, sending the review we were given\n",
    "    response = runtime.invoke_endpoint(EndpointName = '**ENDPOINT NAME HERE**',    # The name of the endpoint we created\n",
    "                                       ContentType = 'text/plain',                 # The data format that is expected\n",
    "                                       Body = event['body'])                       # The actual review\n",
    "\n",
    "    # The response is an HTTP response whose body contains the result of our inference\n",
    "    result = response['Body'].read().decode('utf-8')\n",
    "\n",
    "    return {\n",
    "        'statusCode' : 200,\n",
    "        'headers' : { 'Content-Type' : 'text/plain', 'Access-Control-Allow-Origin' : '*' },\n",
    "        'body' : result\n",
    "    }\n",
    "```\n",
    "\n",
    "Once you have copy and pasted the code above into the Lambda code editor, replace the `**ENDPOINT NAME HERE**` portion with the name of the endpoint that we deployed earlier. You can determine the name of the endpoint using the code cell below."
   ]
  },
  {
   "cell_type": "code",
   "execution_count": null,
   "metadata": {},
   "outputs": [],
   "source": [
    "predictor.endpoint"
   ]
  },
  {
   "cell_type": "markdown",
   "metadata": {},
   "source": [
    "Once you have added the endpoint name to the Lambda function, click on **Save**. Your Lambda function is now up and running. Next we need to create a way for our web app to execute the Lambda function.\n",
    "\n",
    "### Setting up API Gateway\n",
    "\n",
    "Now that our Lambda function is set up, it is time to create a new API using API Gateway that will trigger the Lambda function we have just created.\n",
    "\n",
    "Using AWS Console, navigate to **Amazon API Gateway** and then click on **Get started**.\n",
    "\n",
    "On the next page, make sure that **New API** is selected and give the new api a name, for example, `sentiment_analysis_api`. Then, click on **Create API**.\n",
    "\n",
    "Now we have created an API, however it doesn't currently do anything. What we want it to do is to trigger the Lambda function that we created earlier.\n",
    "\n",
    "Select the **Actions** dropdown menu and click **Create Method**. A new blank method will be created, select its dropdown menu and select **POST**, then click on the check mark beside it.\n",
    "\n",
    "For the integration point, make sure that **Lambda Function** is selected and click on the **Use Lambda Proxy integration**. This option makes sure that the data that is sent to the API is then sent directly to the Lambda function with no processing. It also means that the return value must be a proper response object as it will also not be processed by API Gateway.\n",
    "\n",
    "Type the name of the Lambda function you created earlier into the **Lambda Function** text entry box and then click on **Save**. Click on **OK** in the pop-up box that then appears, giving permission to API Gateway to invoke the Lambda function you created.\n",
    "\n",
    "The last step in creating the API Gateway is to select the **Actions** dropdown and click on **Deploy API**. You will need to create a new Deployment stage and name it anything you like, for example `prod`.\n",
    "\n",
    "You have now successfully set up a public API to access your SageMaker model. Make sure to copy or write down the URL provided to invoke your newly created public API as this will be needed in the next step. This URL can be found at the top of the page, highlighted in blue next to the text **Invoke URL**."
   ]
  },
  {
   "cell_type": "markdown",
   "metadata": {},
   "source": [
    "## Step 4: Deploying our web app\n",
    "\n",
    "Now that we have a publicly available API, we can start using it in a web app. For our purposes, we have provided a simple static html file which can make use of the public api you created earlier.\n",
    "\n",
    "In the `website` folder there should be a file called `index.html`. Download the file to your computer and open that file up in a text editor of your choice. There should be a line which contains **\\*\\*REPLACE WITH PUBLIC API URL\\*\\***. Replace this string with the url that you wrote down in the last step and then save the file.\n",
    "\n",
    "Now, if you open `index.html` on your local computer, your browser will behave as a local web server and you can use the provided site to interact with your SageMaker model.\n",
    "\n",
    "If you'd like to go further, you can host this html file anywhere you'd like, for example using github or hosting a static site on Amazon's S3. Once you have done this you can share the link with anyone you'd like and have them play with it too!\n",
    "\n",
    "> **Important Note** In order for the web app to communicate with the SageMaker endpoint, the endpoint has to actually be deployed and running. This means that you are paying for it. Make sure that the endpoint is running when you want to use the web app but that you shut it down when you don't need it, otherwise you will end up with a surprisingly large AWS bill.\n",
    "\n",
    "**TODO:** Make sure that you include the edited `index.html` file in your project submission."
   ]
  },
  {
   "cell_type": "markdown",
   "metadata": {},
   "source": [
    "Now that your web app is working, trying playing around with it and see how well it works.\n",
    "\n",
    "**Question**: \n",
    "1. Post a screenshot showing a sample review that you entered into your web app and the predicted sentiment. \n",
    "2. What was the predicted sentiment of your example review?"
   ]
  },
  {
   "cell_type": "code",
   "execution_count": null,
   "metadata": {},
   "outputs": [],
   "source": [
    "# 1. Upload screenshot and run this cell to display it\n",
    "from IPython.display import Image\n",
    "Image(filename='output.png') # change the screenshot filename"
   ]
  },
  {
   "cell_type": "markdown",
   "metadata": {},
   "source": [
    "**2. Answer:**"
   ]
  },
  {
   "cell_type": "markdown",
   "metadata": {},
   "source": [
    "### Delete the endpoint\n",
    "\n",
    "Remember to always shut down your endpoint if you are no longer using it. You are charged for the length of time that the endpoint is running so if you forget and leave it on you could end up with an unexpectedly large bill."
   ]
  },
  {
   "cell_type": "code",
   "execution_count": null,
   "metadata": {},
   "outputs": [],
   "source": [
    "predictor.delete_endpoint()"
   ]
  },
  {
   "cell_type": "code",
   "execution_count": null,
   "metadata": {},
   "outputs": [],
   "source": []
  }
 ],
 "metadata": {
  "kernelspec": {
   "display_name": "conda_pytorch_p38",
   "language": "python",
   "name": "conda_pytorch_p38"
  },
  "language_info": {
   "codemirror_mode": {
    "name": "ipython",
    "version": 3
   },
   "file_extension": ".py",
   "mimetype": "text/x-python",
   "name": "python",
   "nbconvert_exporter": "python",
   "pygments_lexer": "ipython3",
   "version": "3.8.12"
  }
 },
 "nbformat": 4,
 "nbformat_minor": 4
}
